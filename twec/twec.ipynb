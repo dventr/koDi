{
 "cells": [
  {
   "attachments": {},
   "cell_type": "markdown",
   "metadata": {},
   "source": [
    "# Data Preparation"
   ]
  },
  {
   "cell_type": "markdown",
   "metadata": {},
   "source": [
    "### Anmerkung\n",
    "Das Skript basiert auf Tim Feldmüllers Anwendung von TWEC, die unter dem folgenden GitLab-Link aufgerufen werden kann: https://gitlab.uzh.ch/zukoko/sommerschule-2023/-/tree/master/C5-Distributionelle-Semantik/TWEC_Clustering/scripts?ref_type=heads "
   ]
  },
  {
   "cell_type": "code",
   "execution_count": null,
   "metadata": {},
   "outputs": [],
   "source": [
    "pip install -r requirements.txt"
   ]
  },
  {
   "attachments": {},
   "cell_type": "markdown",
   "metadata": {},
   "source": [
    "### Vergleich zwischen Quellen\n",
    "Im unteren Beispiel kann eine .csv Datei eingelesen werden, welche die Texte nach der *text_source* sortiert. Je länger die Liste, desto länger dauert die Berechnung."
   ]
  },
  {
   "cell_type": "code",
   "execution_count": 36,
   "metadata": {},
   "outputs": [],
   "source": [
    "import pandas as pd\n",
    "\n",
    "# Specify the path to your CSV file\n",
    "csv_file_path = \"./subcorpus_tp1.csv\"  # Update with the actual file path\n",
    "\n",
    "# Load the CSV file using pandas\n",
    "df = pd.read_csv(csv_file_path, sep='\\t')\n",
    "\n",
    "# Define search words for each corpus as a list\n",
    "corpora = ['FAZ', 'BILD']  # Add as many as needed\n",
    "\n",
    "# Initialize a dictionary to store text content for each corpus\n",
    "sentences_corpus = {corpus: [] for corpus in corpora}\n",
    "\n",
    "# Loop through each row in the DataFrame\n",
    "for index, row in df.iterrows():\n",
    "    channel_id = row['text_source']\n",
    "    message = row['text_content']\n",
    "    \n",
    "    # Check and store messages for each corpus\n",
    "    for corpus in corpora:\n",
    "        if corpus in channel_id:\n",
    "            sentences_corpus[corpus].append(message)"
   ]
  },
  {
   "cell_type": "markdown",
   "metadata": {},
   "source": [
    "### Vergleich zwischen Zeiträumen\n",
    "Im unteren Beispiel kann eine .csv Datei eingelesen werden, welche die Texte nach dem Metadatum *text_date* sortiert. Je länger die Liste, desto länger dauert die Berechnung. Man kann verschiedene Zeiträume setzen, welche die betreffende Fragestellung beleuchtet."
   ]
  },
  {
   "cell_type": "code",
   "execution_count": 62,
   "metadata": {},
   "outputs": [],
   "source": [
    "import pandas as pd\n",
    "from datetime import datetime\n",
    "\n",
    "# Function to parse dates\n",
    "def parse_date(date_str):\n",
    "    for fmt in ('%d-%m-%Y', '%Y-%m'):\n",
    "        try:\n",
    "            return datetime.strptime(date_str, fmt)\n",
    "        except ValueError:\n",
    "            pass\n",
    "    raise ValueError('no valid date format found')\n",
    "\n",
    "# Define your time frames as a dictionary with corpus names as keys\n",
    "time_frames = {\n",
    "    'korpus1': (parse_date('01-01-2020'), parse_date('31-01-2020')),\n",
    "    'korpus2': (parse_date('01-09-2010'), parse_date('30-09-2010')),\n",
    "    'korpus3': (parse_date('01-09-1992'), parse_date('30-09-1992')),\n",
    "    # Add more time frames as needed\n",
    "}\n",
    "\n",
    "# Initialize your sentences_corpus dictionary\n",
    "sentences_corpus = {key: [] for key in time_frames.keys()}\n",
    "\n",
    "# Specify the path to your CSV file\n",
    "csv_file_path = \"./subcorpus_tp1.csv\"  # Update with the actual file path\n",
    "\n",
    "# Load your DataFrame\n",
    "df = pd.read_csv(csv_file_path, sep='\\t')  # Replace with your actual file path\n",
    "\n",
    "# Loop through each row in the DataFrame\n",
    "for index, row in df.iterrows():\n",
    "    try:\n",
    "        channel_date = parse_date(row['text_date'])\n",
    "    except ValueError:\n",
    "        continue  # Skip rows with invalid date formats\n",
    "\n",
    "    message = row['text_content']\n",
    "\n",
    "    # Check each corpus defined in time_frames\n",
    "    for corpus_name, (start_date, end_date) in time_frames.items():\n",
    "        if start_date <= channel_date <= end_date:\n",
    "            sentences_corpus[corpus_name].append(message)"
   ]
  },
  {
   "cell_type": "markdown",
   "metadata": {},
   "source": [
    "### Vergleich zwischen Korpora"
   ]
  },
  {
   "cell_type": "code",
   "execution_count": 2,
   "metadata": {},
   "outputs": [],
   "source": [
    "\n",
    "import pandas as pd\n",
    "# Specify the path to your CSV file\n",
    "import os\n",
    "\n",
    "csv_file_name = \"telegram_data.csv\"  # Update with the actual file name\n",
    "csv_file_path = os.path.join(os.getcwd(), csv_file_name)\n",
    "\n",
    "# Define lists to store text content\n",
    "sentences_korpus1 = []\n",
    "\n",
    "# Load the CSV file using pandas\n",
    "df = pd.read_csv(csv_file_path)\n",
    "\n",
    "# Loop through each row in the DataFrame\n",
    "for index, row in df.iterrows():\n",
    "    channel_id = row['channel_id']\n",
    "    message = row['message']\n",
    "    sentences_korpus1.append(message)"
   ]
  },
  {
   "cell_type": "code",
   "execution_count": 3,
   "metadata": {},
   "outputs": [],
   "source": [
    "# Specify the path to your CSV file\n",
    "\n",
    "csv_file_name = \"subcorpus_tp1.csv\"  # Update with the actual file name\n",
    "csv_file_path = os.path.join(os.getcwd(), csv_file_name)\n",
    "\n",
    "# Define lists to store text content\n",
    "sentences_korpus2 = []\n",
    "\n",
    "# Load the CSV file using pandas\n",
    "df = pd.read_csv(csv_file_path, sep='\\t', low_memory=False)\n",
    "\n",
    "# Loop through each row in the DataFrame\n",
    "for index, row in df.iterrows():\n",
    "    message = row['text_content']\n",
    "    sentences_korpus2.append(message)\n"
   ]
  },
  {
   "attachments": {},
   "cell_type": "markdown",
   "metadata": {},
   "source": [
    "### Tokenization\n",
    "Hier findet eine Tokenisierung der Daten mithilfe von *nltk* oder *spacy* statt."
   ]
  },
  {
   "cell_type": "code",
   "execution_count": 63,
   "metadata": {},
   "outputs": [],
   "source": [
    "from nltk import word_tokenize\n",
    "\n",
    "# Assuming you have a dictionary of sentences for each corpus\n",
    "#sentences_corpus = {'korpus1': ['hallo'], 'korpus2': ['hoi']}\n",
    "\n",
    "# Initialize a dictionary to store tokenized sentences for each corpus\n",
    "tokenized_corpus = {corpus: [] for corpus in sentences_corpus}\n",
    "\n",
    "# Tokenize sentences for each corpus\n",
    "for corpus, sentences in sentences_corpus.items():\n",
    "    for sent in sentences:\n",
    "        if type(sent) is str:\n",
    "            tokenized_corpus[corpus].append(word_tokenize(sent, language=\"german\"))\n",
    "# Save the tokenized sentences to separate files for each corpus\n",
    "for corpus, tokenized_sentences in tokenized_corpus.items():\n",
    "    with open(f\"./data/sentences_{corpus}.txt\", \"w\") as f:\n",
    "        for sent in tokenized_sentences:\n",
    "            f.write(\" \".join(sent) + \"\\n\")\n",
    "\n",
    "# Optionally, save all tokenized sentences in a single file\n",
    "with open(\"./data/all_sentences.txt\", \"w\") as f:\n",
    "    for tokenized_sentences in tokenized_corpus.values():\n",
    "        for sent in tokenized_sentences:\n",
    "            f.write(\" \".join(sent) + \"\\n\")\n"
   ]
  },
  {
   "cell_type": "code",
   "execution_count": 13,
   "metadata": {},
   "outputs": [
    {
     "ename": "",
     "evalue": "",
     "output_type": "error",
     "traceback": [
      "\u001b[1;31mThe Kernel crashed while executing code in the the current cell or a previous cell. Please review the code in the cell(s) to identify a possible cause of the failure. Click <a href='https://aka.ms/vscodeJupyterKernelCrash'>here</a> for more info. View Jupyter <a href='command:jupyter.viewOutput'>log</a> for further details."
     ]
    }
   ],
   "source": [
    "import spacy\n",
    "\n",
    "# Load the German language model\n",
    "nlp = spacy.load(\"de_core_news_sm\")\n",
    "\n",
    "# Assuming you have a dictionary of sentences for each corpus\n",
    "# sentences_corpus = {'korpus1': [...], 'korpus2': [...], ...}\n",
    "\n",
    "# Initialize a dictionary to store tokenized sentences for each corpus\n",
    "tokenized_corpus = {corpus: [] for corpus in sentences_corpus}\n",
    "\n",
    "# Tokenize sentences for each corpus using spaCy\n",
    "for corpus, sentences in sentences_corpus.items():\n",
    "    for sent in sentences:\n",
    "        if type(sent) is str:\n",
    "            doc = nlp(sent)\n",
    "            tokenized_sentence = [token.text for token in doc]\n",
    "            tokenized_corpus[corpus].append(tokenized_sentence)\n",
    "\n",
    "# Save the tokenized sentences to separate files for each corpus\n",
    "for corpus, tokenized_sentences in tokenized_corpus.items():\n",
    "    with open(f\"../data/sentences_{corpus}.txt\", \"w\") as f:\n",
    "        for sent in tokenized_sentences:\n",
    "            f.write(\" \".join(sent) + \"\\n\")\n",
    "\n",
    "# Optionally, save all tokenized sentences in a single file\n",
    "with open(\"../data/all_sentences.txt\", \"w\") as f:\n",
    "    for tokenized_sentences in tokenized_corpus.values():\n",
    "        for sent in tokenized_sentences:\n",
    "            f.write(\" \".join(sent) + \"\\n\")\n"
   ]
  },
  {
   "attachments": {},
   "cell_type": "markdown",
   "metadata": {},
   "source": [
    "### Dictionary mit Frequenzen"
   ]
  },
  {
   "cell_type": "code",
   "execution_count": 64,
   "metadata": {},
   "outputs": [
    {
     "name": "stdout",
     "output_type": "stream",
     "text": [
      "done\n"
     ]
    }
   ],
   "source": [
    "# Eine Hilfsfunktion, die ein Dictionary nach seinen Werten sortiert\n",
    "def sort_dict(dic, reverse=True):\n",
    "    return dict(sorted(dic.items(), key=lambda item: item[1], reverse=reverse))\n",
    "\n",
    "\n",
    "# Mit dieser Funktion können wir eine für TWEC aufbereitete Textdatei einlesen, die enthaltenen Types auszählen lassen und bekommen ein nach Frequenz sortiertes\n",
    "# Dictionary zurück\n",
    "def get_word_frequencies(path_to_txt):\n",
    "    frequencies = {}\n",
    "\n",
    "    with open(path_to_txt, \"r\") as f:\n",
    "        for line in f.readlines():\n",
    "            for word in line.split():\n",
    "                if word in frequencies:\n",
    "                    frequencies[word] += 1\n",
    "                else:\n",
    "                    frequencies[word] = 1\n",
    "\n",
    "    return sort_dict(frequencies)\n",
    "print(\"done\")"
   ]
  },
  {
   "cell_type": "code",
   "execution_count": 65,
   "metadata": {},
   "outputs": [
    {
     "name": "stdout",
     "output_type": "stream",
     "text": [
      "done\n"
     ]
    }
   ],
   "source": [
    "# Assuming you have a function get_word_frequencies(file_path) defined\n",
    "\n",
    "# List of corpus names\n",
    "# Initialize a dictionary to store frequency dictionaries for each corpus\n",
    "freqs = {}\n",
    "\n",
    "# Create frequency dictionaries for each corpus\n",
    "\n",
    "for corpus, sentences in sentences_corpus.items():\n",
    "    file_path = f\"./data/sentences_{corpus}.txt\"\n",
    "    freqs[corpus] = get_word_frequencies(file_path)\n",
    "\n",
    "print(\"done\")\n"
   ]
  },
  {
   "attachments": {},
   "cell_type": "markdown",
   "metadata": {},
   "source": [
    "# TWEC"
   ]
  },
  {
   "attachments": {},
   "cell_type": "markdown",
   "metadata": {},
   "source": [
    "Das Initialisieren von TWEC passiert hier. Wir legen fest, wie viele Dimensionen unsere Word Embeddings haben sollen (size) -> 200–300 sind übliche Werte wie frequent sie mindestens sein müssen (min_count) -> hier nur auf 3 gesetzt, da das Testkorpus sehr klein ist. Es empfehlen sich generell eher höhere Werte, da für sehr niedrigfrequente Wörter nicht genug Informationen erlernbar sind, um sie gut im Vektorraum abbilden zu können wie viele Wörter links und rechts jedes Wortes werden berücksichtigt beim Training (window) -> ähnlich einem Kollokationsfenster, 5 – 6 sind übliche Werte wie viele CPU-Kerne sollen genutzt werden für das Training -> hier automatisch bestimmt (einer weniger als verfügbar)"
   ]
  },
  {
   "cell_type": "code",
   "execution_count": 66,
   "metadata": {},
   "outputs": [
    {
     "name": "stdout",
     "output_type": "stream",
     "text": [
      "done\n"
     ]
    }
   ],
   "source": [
    "from twec.twec import TWEC\n",
    "import multiprocessing\n",
    "\n",
    "min_count = 5\n",
    "aligner = TWEC(\n",
    "    size=300, min_count=min_count, window=6, workers=multiprocessing.cpu_count() - 1\n",
    ")\n",
    "print(\"done\")"
   ]
  },
  {
   "attachments": {},
   "cell_type": "markdown",
   "metadata": {},
   "source": [
    "Nun trainieren wir den sogenannten Kompass auf dem Gesamtkorpus. Dieses Kompassmodell dient danach dazu, auch die Vektorräume von Teilkorpora auf die gleiche Art ausrichten zu können, sodass alle Modelle den gleichen Vektorraum nutzen\n"
   ]
  },
  {
   "cell_type": "code",
   "execution_count": 67,
   "metadata": {},
   "outputs": [
    {
     "name": "stdout",
     "output_type": "stream",
     "text": [
      "Training the compass.\n",
      "Compass will be overwritten after training\n"
     ]
    }
   ],
   "source": [
    "aligner.train_compass(\"./data/all_sentences.txt\", overwrite=True)"
   ]
  },
  {
   "attachments": {},
   "cell_type": "markdown",
   "metadata": {},
   "source": [
    "### Compass"
   ]
  },
  {
   "cell_type": "code",
   "execution_count": 68,
   "metadata": {},
   "outputs": [
    {
     "data": {
      "text/plain": [
       "[('Publikum', 0.9163265228271484),\n",
       " ('Gefühl', 0.9031060934066772),\n",
       " ('Bild', 0.9001079797744751),\n",
       " ('Wort', 0.8991620540618896),\n",
       " ('Bundesverfassungsgericht', 0.8980159759521484),\n",
       " ('Auge', 0.8966038227081299),\n",
       " ('Konzept', 0.8954612016677856),\n",
       " ('Regime', 0.8945440649986267),\n",
       " ('Projekt', 0.8938934803009033),\n",
       " ('Gesicht', 0.8919467329978943)]"
      ]
     },
     "execution_count": 68,
     "metadata": {},
     "output_type": "execute_result"
    }
   ],
   "source": [
    "# Das Training ist fertig und wir können das fertige Modell einlesen\n",
    "from gensim.models.word2vec import Word2Vec\n",
    "\n",
    "compass = Word2Vec.load(\"model/compass.model\")\n",
    "\n",
    "# ... und testweise einen Vektor abfragen\n",
    "compass.wv.most_similar(\"Volk\")"
   ]
  },
  {
   "attachments": {},
   "cell_type": "markdown",
   "metadata": {},
   "source": [
    "### Slices"
   ]
  },
  {
   "cell_type": "code",
   "execution_count": 72,
   "metadata": {},
   "outputs": [
    {
     "name": "stdout",
     "output_type": "stream",
     "text": [
      "Training temporal embeddings: slice ./data/sentences_korpus1_min_count.txt.\n",
      "Initializing temporal embeddings from the atemporal compass.\n",
      "Training temporal embeddings: slice ./data/sentences_korpus2_min_count.txt.\n",
      "Initializing temporal embeddings from the atemporal compass.\n",
      "Training temporal embeddings: slice ./data/sentences_korpus3_min_count.txt.\n",
      "Initializing temporal embeddings from the atemporal compass.\n"
     ]
    }
   ],
   "source": [
    "# Jetzt geht es an das Training der Subkorpus-Modelle bzw. 'Slices'\n",
    "# Mit dem For-Loop können wir das Training durchführen, wir müssen nur darauf achten,\n",
    "# dass wir die Textdateien für das Training nach dem Muster sentences_METADATUM.txt benannt haben\n",
    "# und die Metadaten in der Liste slices genauso aufführen\n",
    "# Es passiert außerdem auch ein weiterer Schritt: Und zwar wird von TWEC an dieser Stelle, anders als beim Training des Kompass,\n",
    "# keine Filterung nach dem Parameter min_count mehr vorgenommen. Daher erstellen wir die TXT Files neu, speichern sie mit dem Suffix _min_count\n",
    "# und lassen alle Wörter aus, die wir nicht mit einer Mindestfrequenz in unseren Frequency Dictionaries finden\n",
    "slices = []\n",
    "for corpus, i in sentences_corpus.items():\n",
    "    slices.append(corpus)\n",
    "for slice in slices:\n",
    "    path_input = f\"./data/sentences_{slice}.txt\"\n",
    "    path_output = path_input.replace(\".txt\", \"_min_count.txt\")\n",
    "    with open(path_input, \"r\") as f:\n",
    "        with open(path_output, \"a\") as f_out:\n",
    "            for sentence in f.readlines():\n",
    "                min_count_tokens = []\n",
    "                for word in sentence.split():\n",
    "                    if freqs[slice][word] >= min_count:\n",
    "                        min_count_tokens.append(word)\n",
    "                f_out.write(\" \".join(min_count_tokens) + \"\\n\")\n",
    "\n",
    "    aligner.train_slice(path_output, save=True)"
   ]
  },
  {
   "cell_type": "markdown",
   "metadata": {},
   "source": [
    "### Speichern der Modelle"
   ]
  },
  {
   "cell_type": "code",
   "execution_count": 73,
   "metadata": {},
   "outputs": [
    {
     "data": {
      "text/plain": [
       "'\\nmodel_korpusX = Word2Vec.load(\"./model/sentences_korpusX_min_count.model\")\\n\\n'"
      ]
     },
     "execution_count": 73,
     "metadata": {},
     "output_type": "execute_result"
    }
   ],
   "source": [
    "from gensim.models.word2vec import Word2Vec\n",
    "import numpy\n",
    "\n",
    "model_korpus1 = Word2Vec.load(\"./model/sentences_korpus1_min_count.model\")\n",
    "model_korpus2 = Word2Vec.load(\"./model/sentences_korpus2_min_count.model\")\n",
    "model_korpus3 = Word2Vec.load(\"./model/sentences_korpus3_min_count.model\")\n",
    "# weitere Slices können hinzugefügt werden\n",
    "\"\"\"\n",
    "model_korpusX = Word2Vec.load(\"./model/sentences_korpusX_min_count.model\")\n",
    "\n",
    "\"\"\""
   ]
  },
  {
   "cell_type": "code",
   "execution_count": 74,
   "metadata": {},
   "outputs": [
    {
     "data": {
      "text/plain": [
       "[('Herz', 0.5149104595184326),\n",
       " ('Konzept', 0.4801217317581177),\n",
       " ('Schicksal', 0.4785199463367462),\n",
       " ('Militär', 0.4567732512950897),\n",
       " ('Land', 0.4560239911079407),\n",
       " ('Team', 0.45005524158477783),\n",
       " ('Modell', 0.442959189414978),\n",
       " ('Vorgehen', 0.43913182616233826),\n",
       " ('Bundeskabinett', 0.43407219648361206),\n",
       " ('Buch', 0.4319966733455658)]"
      ]
     },
     "execution_count": 74,
     "metadata": {},
     "output_type": "execute_result"
    }
   ],
   "source": [
    "# Jetzt können wir diesen Vektor in den korpus-Modellen abfragen\n",
    "model_korpus1.wv.most_similar(['Volk'])"
   ]
  },
  {
   "cell_type": "code",
   "execution_count": 75,
   "metadata": {},
   "outputs": [
    {
     "data": {
      "text/plain": [
       "[('Feld', 0.7460259199142456),\n",
       " ('Spiel', 0.7418379187583923),\n",
       " ('Programm', 0.7359834909439087),\n",
       " ('Gefühl', 0.7342047095298767),\n",
       " ('Schicksal', 0.7175480127334595),\n",
       " ('Gesicht', 0.7109581232070923),\n",
       " ('Fundament', 0.709148645401001),\n",
       " ('Argument', 0.7029990553855896),\n",
       " ('Prinzip', 0.7014427781105042),\n",
       " ('Thema', 0.7013071775436401)]"
      ]
     },
     "execution_count": 75,
     "metadata": {},
     "output_type": "execute_result"
    }
   ],
   "source": [
    "model_korpus3.wv.most_similar(['Volk'])"
   ]
  },
  {
   "attachments": {},
   "cell_type": "markdown",
   "metadata": {},
   "source": [
    "## Vergleiche"
   ]
  },
  {
   "attachments": {},
   "cell_type": "markdown",
   "metadata": {},
   "source": [
    "Mit der Funktion time_machine() können wir diese Schritte bündeln und z.B. abfragen, welches Wort in einem Korpus (Zeit oder Medium) äquivalent zu einem Wort in einem anderen Korpus ist.\n"
   ]
  },
  {
   "cell_type": "code",
   "execution_count": 79,
   "metadata": {},
   "outputs": [
    {
     "data": {
      "text/plain": [
       "[('Wort', 0.568200945854187),\n",
       " ('Volk', 0.5592133402824402),\n",
       " ('Ja', 0.5455039739608765),\n",
       " ('Konzept', 0.5248022079467773),\n",
       " ('Votum', 0.5032130479812622),\n",
       " ('Referendum', 0.5003488063812256),\n",
       " ('Problem', 0.4988793730735779),\n",
       " ('Gefühl', 0.4896726906299591),\n",
       " ('Modell', 0.4891834557056427),\n",
       " ('Publikum', 0.48500871658325195)]"
      ]
     },
     "execution_count": 79,
     "metadata": {},
     "output_type": "execute_result"
    }
   ],
   "source": [
    "import lib\n",
    "lib.time_machine(model_korpus1, model_korpus3, \"Volk\")"
   ]
  },
  {
   "cell_type": "code",
   "execution_count": 80,
   "metadata": {},
   "outputs": [
    {
     "data": {
      "text/plain": [
       "[('Volk', 0.559213399887085),\n",
       " ('Leben', 0.5256402492523193),\n",
       " ('Haus', 0.5239667892456055),\n",
       " ('Herz', 0.5200492739677429),\n",
       " ('Kind', 0.5051746368408203),\n",
       " ('Programm', 0.5040803551673889),\n",
       " ('Land', 0.4989089071750641),\n",
       " ('Theater', 0.49760764837265015),\n",
       " ('Buch', 0.4967398941516876),\n",
       " ('Tor', 0.49456632137298584)]"
      ]
     },
     "execution_count": 80,
     "metadata": {},
     "output_type": "execute_result"
    }
   ],
   "source": [
    "import lib\n",
    "lib.time_machine(model_korpus3, model_korpus1, \"Volk\")"
   ]
  },
  {
   "attachments": {},
   "cell_type": "markdown",
   "metadata": {},
   "source": [
    "Mit diesem Befehl können wir alle einzelnen Vektoren unseres Modells als Liste abfragen und sie in der Variable word_vectors speichern.\n",
    "\n",
    "Bei anderen Versionen von Word2Vec kann der Befehl auch model.wv[model.wv.key_to_index] lauten"
   ]
  },
  {
   "cell_type": "code",
   "execution_count": 77,
   "metadata": {},
   "outputs": [
    {
     "name": "stdout",
     "output_type": "stream",
     "text": [
      "Anzahl der zu clusternden Vektoren: 7966\n"
     ]
    }
   ],
   "source": [
    "words = model_korpus1.wv.vocab.keys()\n",
    "word_vectors = model_korpus1.wv[words]\n",
    "print(\"Anzahl der zu clusternden Vektoren:\", len(word_vectors))"
   ]
  },
  {
   "attachments": {},
   "cell_type": "markdown",
   "metadata": {},
   "source": [
    "Diese Zelle dient nur dazu, ein Sample aus den Vektoren zu erstellen, damit die Berechnung nicht zu lange dauert.\n",
    "Wir nutzen dafür nochmal unsere Funktion get_word_frequencies() und berechnen dann nur Cluster für alle\n",
    "- Vektoren mit einer Häufigkeit >= 100"
   ]
  },
  {
   "cell_type": "code",
   "execution_count": null,
   "metadata": {},
   "outputs": [
    {
     "name": "stdout",
     "output_type": "stream",
     "text": [
      "438\n"
     ]
    }
   ],
   "source": [
    "from lib import get_word_frequencies\n",
    "\n",
    "freqs = {}\n",
    "freqs[\"korpus1\"] = get_word_frequencies(\"./data/sentences_korpus1.txt\")\n",
    "\n",
    "min_count = 30\n",
    "\n",
    "words = []\n",
    "for word in model_korpus1.wv.vocab.keys():\n",
    "    if freqs[\"korpus1\"][word] >= 80:\n",
    "        words.append(word)\n",
    "\n",
    "word_vectors = model_korpus1.wv[words]\n",
    "\n",
    "print(len(word_vectors))"
   ]
  },
  {
   "attachments": {},
   "cell_type": "markdown",
   "metadata": {},
   "source": [
    "Die Anzahl der Cluster k muss festgelegt werden. Wir können verschiedene Einstellungen ausprobieren\n",
    "oder die Anzahl der Cluster nach der Anzahl der Types in unserem Korpus richten, wie hier können wir verschiedene Werte ausprobieren \n",
    "- finegranular vs. big picture \n"
   ]
  },
  {
   "cell_type": "code",
   "execution_count": 81,
   "metadata": {},
   "outputs": [],
   "source": [
    "k = int(len(word_vectors) * 0.024)"
   ]
  },
  {
   "cell_type": "code",
   "execution_count": 82,
   "metadata": {},
   "outputs": [
    {
     "name": "stderr",
     "output_type": "stream",
     "text": [
      "/Users/davideventre/Library/Python/3.9/lib/python/site-packages/sklearn/cluster/_kmeans.py:1412: FutureWarning:\n",
      "\n",
      "The default value of `n_init` will change from 10 to 'auto' in 1.4. Set the value of `n_init` explicitly to suppress the warning\n",
      "\n"
     ]
    },
    {
     "data": {
      "text/html": [
       "<style>#sk-container-id-2 {color: black;}#sk-container-id-2 pre{padding: 0;}#sk-container-id-2 div.sk-toggleable {background-color: white;}#sk-container-id-2 label.sk-toggleable__label {cursor: pointer;display: block;width: 100%;margin-bottom: 0;padding: 0.3em;box-sizing: border-box;text-align: center;}#sk-container-id-2 label.sk-toggleable__label-arrow:before {content: \"▸\";float: left;margin-right: 0.25em;color: #696969;}#sk-container-id-2 label.sk-toggleable__label-arrow:hover:before {color: black;}#sk-container-id-2 div.sk-estimator:hover label.sk-toggleable__label-arrow:before {color: black;}#sk-container-id-2 div.sk-toggleable__content {max-height: 0;max-width: 0;overflow: hidden;text-align: left;background-color: #f0f8ff;}#sk-container-id-2 div.sk-toggleable__content pre {margin: 0.2em;color: black;border-radius: 0.25em;background-color: #f0f8ff;}#sk-container-id-2 input.sk-toggleable__control:checked~div.sk-toggleable__content {max-height: 200px;max-width: 100%;overflow: auto;}#sk-container-id-2 input.sk-toggleable__control:checked~label.sk-toggleable__label-arrow:before {content: \"▾\";}#sk-container-id-2 div.sk-estimator input.sk-toggleable__control:checked~label.sk-toggleable__label {background-color: #d4ebff;}#sk-container-id-2 div.sk-label input.sk-toggleable__control:checked~label.sk-toggleable__label {background-color: #d4ebff;}#sk-container-id-2 input.sk-hidden--visually {border: 0;clip: rect(1px 1px 1px 1px);clip: rect(1px, 1px, 1px, 1px);height: 1px;margin: -1px;overflow: hidden;padding: 0;position: absolute;width: 1px;}#sk-container-id-2 div.sk-estimator {font-family: monospace;background-color: #f0f8ff;border: 1px dotted black;border-radius: 0.25em;box-sizing: border-box;margin-bottom: 0.5em;}#sk-container-id-2 div.sk-estimator:hover {background-color: #d4ebff;}#sk-container-id-2 div.sk-parallel-item::after {content: \"\";width: 100%;border-bottom: 1px solid gray;flex-grow: 1;}#sk-container-id-2 div.sk-label:hover label.sk-toggleable__label {background-color: #d4ebff;}#sk-container-id-2 div.sk-serial::before {content: \"\";position: absolute;border-left: 1px solid gray;box-sizing: border-box;top: 0;bottom: 0;left: 50%;z-index: 0;}#sk-container-id-2 div.sk-serial {display: flex;flex-direction: column;align-items: center;background-color: white;padding-right: 0.2em;padding-left: 0.2em;position: relative;}#sk-container-id-2 div.sk-item {position: relative;z-index: 1;}#sk-container-id-2 div.sk-parallel {display: flex;align-items: stretch;justify-content: center;background-color: white;position: relative;}#sk-container-id-2 div.sk-item::before, #sk-container-id-2 div.sk-parallel-item::before {content: \"\";position: absolute;border-left: 1px solid gray;box-sizing: border-box;top: 0;bottom: 0;left: 50%;z-index: -1;}#sk-container-id-2 div.sk-parallel-item {display: flex;flex-direction: column;z-index: 1;position: relative;background-color: white;}#sk-container-id-2 div.sk-parallel-item:first-child::after {align-self: flex-end;width: 50%;}#sk-container-id-2 div.sk-parallel-item:last-child::after {align-self: flex-start;width: 50%;}#sk-container-id-2 div.sk-parallel-item:only-child::after {width: 0;}#sk-container-id-2 div.sk-dashed-wrapped {border: 1px dashed gray;margin: 0 0.4em 0.5em 0.4em;box-sizing: border-box;padding-bottom: 0.4em;background-color: white;}#sk-container-id-2 div.sk-label label {font-family: monospace;font-weight: bold;display: inline-block;line-height: 1.2em;}#sk-container-id-2 div.sk-label-container {text-align: center;}#sk-container-id-2 div.sk-container {/* jupyter's `normalize.less` sets `[hidden] { display: none; }` but bootstrap.min.css set `[hidden] { display: none !important; }` so we also need the `!important` here to be able to override the default hidden behavior on the sphinx rendered scikit-learn.org. See: https://github.com/scikit-learn/scikit-learn/issues/21755 */display: inline-block !important;position: relative;}#sk-container-id-2 div.sk-text-repr-fallback {display: none;}</style><div id=\"sk-container-id-2\" class=\"sk-top-container\"><div class=\"sk-text-repr-fallback\"><pre>KMeans(n_clusters=191)</pre><b>In a Jupyter environment, please rerun this cell to show the HTML representation or trust the notebook. <br />On GitHub, the HTML representation is unable to render, please try loading this page with nbviewer.org.</b></div><div class=\"sk-container\" hidden><div class=\"sk-item\"><div class=\"sk-estimator sk-toggleable\"><input class=\"sk-toggleable__control sk-hidden--visually\" id=\"sk-estimator-id-2\" type=\"checkbox\" checked><label for=\"sk-estimator-id-2\" class=\"sk-toggleable__label sk-toggleable__label-arrow\">KMeans</label><div class=\"sk-toggleable__content\"><pre>KMeans(n_clusters=191)</pre></div></div></div></div></div>"
      ],
      "text/plain": [
       "KMeans(n_clusters=191)"
      ]
     },
     "execution_count": 82,
     "metadata": {},
     "output_type": "execute_result"
    }
   ],
   "source": [
    "from sklearn import cluster\n",
    "\n",
    "kmeans = cluster.KMeans(n_clusters=k) #k\n",
    "kmeans.fit(word_vectors)"
   ]
  },
  {
   "attachments": {},
   "cell_type": "markdown",
   "metadata": {},
   "source": [
    "Sie sind in der gleichen Reihenfolge gelistet wie die übergebenen Vektoren in unserer Variable words und wir können sie mit zip() zu einem dictionary zusammenfassen"
   ]
  },
  {
   "cell_type": "code",
   "execution_count": 83,
   "metadata": {},
   "outputs": [
    {
     "name": "stdout",
     "output_type": "stream",
     "text": [
      "{'Das': 39, 'dritte': 167, 'Jahrzehnt': 167, 'Der': 57, 'Stand': 121, 'des': 74, 'Westens': 161, 'wird': 97, 'nicht': 19, 'leichter': 54, '.': 3, 'Wo': 155, 'bleibt': 24, 'der': 51, 'Optimismus': 119, '?': 81, 'Von': 38, 'erste': 74, 'dieses': 179, 'Jahrhunderts': 161, 'war': 183, 'geprägt': 51, 'von': 104, 'Terrorismus': 161, ',': 189, 'dem': 6, 'Kampf': 10, 'dagegen': 3, 'sowie': 15, 'den': 6, 'und': 182, 'Folgen': 182, 'nur': 19, 'im': 131, 'Mittleren': 158, 'Osten': 10, 'Im': 34, 'zweiten': 154, 'sich': 35, 'Krise': 7, 'an': 63, ':': 93, 'Finanzen': 119, 'Schulden': 135, 'über': 107, 'Migration': 92, 'bis': 37, 'zu': 72, '``': 93, \"''\": 101, 'Russische': 92, 'Aggression': 119, 'Populismus': 161, 'Nationalismus': 119, 'die': 158, 'für': 2, 'starke': 72, 'Männer': 15, 'das': 166, 'eines': 74, 'neuen': 104, 'Kalten': 161, 'Krieges': 161, 'diesmal': 88, 'zwischen': 60, 'Vereinigten': 185, 'Staaten': 30, 'China': 185, 'kamen': 67, 'hinzu': 86, 'eine': 65, 'Welt': 129, 'Europa': 185, 'heute': 19, 'um': 79, 'seine': 168, 'Balance': 33, 'Dieses': 155, 'ist': 24, 'weder': 35, 'erschöpft': 33, 'noch': 56, 'erledigt': 88, 'allenfalls': 28, 'zum': 44, 'Teil': 105, 'was': 82, 'Politik': 92, 'in': 104, 'vergangenen': 163, 'zwanzig': 75, 'Jahren': 160, 'Atem': 104, 'gehalten': 31, 'Gesellschaften': 158, 'Einstellungen': 158, 'Bürger': 16, 'verändert': 9, 'hat': 103, 'hinein': 119, 'Wandel': 121, 'Innovation': 2, 'ebenso': 15, 'wie': 93, 'politischer': 33, 'getrieben': 36, 'schneller': 189, ';': 83, 'damit': 13, 'werden': 141, 'mühsam': 9, 'auf': 104, 'ein': 3, 'Maß': 167, 'eindämmen': 33, 'lassen': 62, 'Klimawandel': 88, 'Digitalisierung': 2, 'sind': 42, 'morgen': 9, 'Welche': 155, 'Anforderungen': 28, 'sie': 168, 'Länder': 185, 'stellen': 62, 'politisch': 3, 'sozial': 158, 'wirtschaftlich': 28, 'allmählich': 88, 'klar': 3, 'man': 136, 'Aufstieg': 154, 'kommunistischen': 161, 'Chinas': 158, 'Konfrontation': 87, 'bei': 172, 'es': 111, 'Sicherheit': 182, 'geht': 53, 'dann': 168, 'auch': 35, 'Die': 73, 'politische': 72, 'mehr': 175, 'denn': 19, 'je': 67, 'gebraucht': 54, 'global': 158, 'aber': 165, 'ob': 26, 'Maße': 88, 'Angebot': 47, 'Für': 106, 'beginnt': 24, 'einigen': 163, 'Wochen': 173, 'neue': 72, 'Zeit': 190, 'Vereinigte': 116, 'Königreich': 167, 'tritt': 24, '-': 68, 'tatsächlich': 102, 'aus': 187, 'EU': 185, 'selbst': 168, 'wenn': 19, 'gibt': 125, 'Bis': 96, 'Jahresende': 154, 'weitgehend': 102, 'alles': 168, 'Erst': 83, 'danach': 49, 'ernst': 9, 'Aber': 83, 'so': 169, 'Austritt': 121, 'tiefer': 189, 'Geschichte': 93, 'europäischen': 2, 'Projekts': 161, 'Wie': 83, 'wendet': 1, 'Verlust': 189, 'Wählern': 119, 'versprochen': 31, 'wurde': 152, 'könnte': 76, 'als': 19, 'große': 72, 'Es': 99, 'liegt': 24, 'beiderseitigen': 158, 'Interesse': 47, 'dass': 19, 'künftige': 88, 'Verhältnis': 47, 'Partnerschaft': 92, 'verhandelt': 135, 'Ein': 127, 'Schauspiel': 189, 'eigener': 189, 'Art': 72, 'schon': 20, 'jetzt': 19, 'Züge': 154, 'einer': 6, 'Tragödie': 86, 'demnächst': 54, 'Washington': 55, 'geboten': 36, 'Senat': 18, 'Präsidenten': 27, 'Trump': 48, 'erst': 52, 'Mal': 4, 'Republik': 27, 'kommt': 29, 'historische': 33, 'welche': 72, 'Auseinandersetzung': 72, 'Spitze': 161, 'treibt': 88, 'oder': 58, 'will': 113, 'führen': 13, 'Demokraten': 17, 'Repräsentantenhaus': 18, 'lässt': 24, 'erwarten': 13, 'künftig': 28, 'Sollte': 155, 'allgemein': 54, 'erwartet': 1, 'keine': 171, 'Vorwürfe': 25, 'Behinderung': 102, 'Kongresses': 161, 'geben': 62, 'demokratische': 3, 'feiern': 88, 'entsprechend': 3, 'seinen': 184, 'Wiederwahl': 87, 'Seine': 83, 'Chancen': 72, 'zweite': 33, 'Amtszeit': 25, 'stehen': 156, 'jedenfalls': 19, 'schlecht': 3, 'stünden': 158, 'weitere': 72, 'vier': 163, 'Jahre': 122, 'bevor': 1, 'Dass': 132, 'zuletzt': 27, 'deswegen': 3, 'Westen': 10, 'dieser': 3, 'einen': 142, 'haben': 43, 'dürfte': 113, 'bisher': 54, 'Vermutung': 33, 'Doch': 164, 'Weißen': 18, 'Haus': 47, 'bedeutete': 88, 'Amerikas': 27, '(': 138, ')': 0, 'kehrte': 145, 'Status': 121, 'quo': 161, 'zurück': 22, 'Amerika': 185, 'einem': 6, 'nationalen': 2, 'Kompass': 36, 'folgen': 13, 'Fokus': 18, 'innere': 92, 'richten': 158, 'Den': 83, 'Demokratien': 88, 'wieder': 168, 'Veränderungen': 182, 'ihnen': 78, 'viel': 170, 'bleiben': 62, 'wollen': 143, 'Deutschen': 14, 'nachgesagt': 54, 'sehe': 1, 'jeder': 19, 'Gelegenheit': 87, 'Problem': 47, 'jedem': 6, 'Chance': 50, 'schlechte': 9, 'Vielleicht': 83, 'können': 61, 'allen': 6, 'Trotz': 121, 'chinesische': 33, 'Handeln': 182, 'kein': 123, 'Willen': 121, 'zur': 126, 'müssen': 159, 'wir': 23, '2020': 131, 'viele': 151, 'heraus': 116, 'Ende': 154, 'Zweiten': 4, 'Weltkrieges': 145, 'vor': 149, '75': 163, 'Auf': 69, 'folgten': 84, 'europäische': 182, 'Einigung': 50, 'internationale': 72, 'Zusammenarbeit': 92, 'Gestalt': 87, 'Vereinten': 185, 'Nationen': 185, 'drängen': 158, 'Meine': 86, 'Oma': 86, 'hatte': 45, 'Motorrad': 86, 'Zum': 83, 'Jahreswechsel': 121, 'zeigte': 24, 'mit': 104, 'sozialen': 92, 'Medien': 92, 'kann': 90, '#': 86, 'Umweltsau': 86, 'Am': 148, 'fand': 1, 'Stunde': 7, 'WDR': 104, 'Nachricht': 7, 'Krefelder': 161, 'Zoo': 18, 'Affenhaus': 167, 'abgebrannt': 36, 'bald': 13, 'fast': 75, 'Tiere': 78, 'Feuer': 78, 'überlebt': 8, 'Reaktionen': 84, 'Leser': 119, 'ließen': 84, 'lange': 35, 'warten': 84, 'Da': 83, 'Trauer': 84, 'doch': 19, 'Feld': 70, 'eröffnet': 33, 'gegen': 176, 'Zoos': 161, 'Twitter': 22, 'braucht': 24, 'wenige': 78, 'Minuten': 67, 'dafür': 28, 'stets': 33, 'sagen': 62, 'Hass': 189, 'Thema': 47, 'Damit': 83, 'Rundfunk': 18, 'dessen': 27, 'letzten': 163, 'Tagen': 173, 'Jahres': 32, 'Sache': 19, 'Erfahrung': 182, 'gemacht': 31, 'Unter': 73, 'inzwischen': 95, 'Weihnachten': 25, 'Streit': 18, 'fährt': 86, \"'\": 86, 'alte': 49, 'schließlich': 8, 'Wort': 70, 'melden': 9, 'musste': 113, 'Verlierer': 36, 'Liter': 102, 'Monat': 10, 'ihrem': 147, 'Sie': 83, 'beim': 1, 'Arzt': 70, 'dabei': 139, 'zwei': 163, 'jeden': 28, 'Tag': 154, 'vom': 22, 'weil': 146, 'gut': 3, 'koste': 9, 'mache': 1, 'Jahr': 32, 'you': 86, 'lautete': 86, 'Satz': 86, 'Stimme': 95, 'Greta': 88, 'Thunberg': 88, 'jungen': 158, 'Mädchen': 70, 'Bild': 167, 'Aufnahme': 87, 'sprachen': 84, 'Text': 70, 'So': 83, 'weit': 3, 'bemüht': 119, 'denken': 62, 'fragen': 13, 'klug': 87, 'Kindern': 78, 'solche': 72, 'Botschaft': 135, 'Mund': 88, 'legen': 9, 'einfach': 19, 'Radio': 18, 'laufen': 9, 'Internet': 10, 'Schließlich': 83, 'drückt': 88, 'fest': 135, 'deren': 158, 'gern': 9, 'bedienen': 9, 'verständlich': 88, 'handeln': 13, 'soll': 140, 'Alten': 88, 'muss': 76, 'Andererseits': 155, 'diese': 168, 'bedingt': 33, 'etwas': 94, 'Alter': 10, 'tun': 62, 'nie': 128, 'geflogen': 36, 'leisten': 13, 'kaufen': 13, 'dort': 78, 'gehen': 62, 'fühlten': 18, 'hier': 168, 'ihre': 35, 'eigene': 72, 'angesprochen': 31, 'Tom': 51, 'Buhrow': 51, 'führte': 145, 'alten': 49, 'Vater': 49, 'ins': 134, 'er': 168, 'gerade': 35, 'Krankenhaus': 70, 'besuchte': 119, '2': 180, 'welcher': 28, 'Sender': 51, 'Kritik': 25, 'stellte': 1, 'begründete': 25, 'warum': 19, 'Video': 70, 'Fehler': 189, 'sei': 157, 'gewesen': 114, 'unerträglich': 36, 'allem': 80, 'Verdacht': 78, 'habe': 71, 'Kinder': 78, 'Ausschlag': 116, 'gegeben': 31, 'Netz': 154, 'nehmen': 62, 'wo': 1, 'selbstverständlich': 3, 'weiterhin': 2, 'ansehen': 88, 'Und': 77, 'sein': 109, 'sagte': 118, 'wirkte': 36, 'gewiss': 36, 'niemand': 19, 'behauptet': 36, 'seien': 133, 'vielmehr': 167, 'alle': 178, 'gemeint': 3, 'erklärte': 1, 'Leiter': 25, 'nun': 135, 'einmal': 35, 'uns': 143, 'Ali': 51, 'bemühte': 1, 'Rede': 95, 'sondern': 41, 'Mitarbeiter': 16, 'seines': 74, 'sprach': 25, 'da': 19, 'freilich': 19, 'wiederum': 167, 'Blick': 70, 'erwiesen': 102, 'durch': 15, 'Hinweis': 104, 'freien': 161, 'Mitarbeiters': 161, 'müsse': 113, 'mal': 19, 'Großeltern': 119, 'reden': 62, 'denen': 6, 'Sondern': 9, 'Vorlage': 33, 'extremen': 88, 'Vertreter': 92, 'rechten': 17, 'Ecke': 87, 'Ganze': 167, 'hatten': 5, 'Bei': 73, 'gingen': 78, 'Morddrohungen': 84, 'Deutsche': 78, 'forderte': 25, 'Sicherheitsbehörden': 116, 'Schutz': 121, 'Sorge': 182, 'tragen': 13, 'umgehend': 135, 'Betroffenen': 135, 'keinen': 123, 'wünschen': 13, 'konnte': 113, 'Gefühl': 47, 'diesem': 174, 'Land': 47, 'gründlich': 9, 'Was': 83, 'unserem': 6, 'los': 3, 'fragte': 1, 'führt': 24, 'läuft': 24, 'Tat': 22, 'dies': 48, 'allgemeinen': 158, '82': 75, 'Millionen': 64, 'Menschen': 16, 'hält': 24, 'öffentlich-rechtlichen': 161, 'weniger': 16, 'also': 19, 'angeblich': 189, 'In': 100, 'Mitte': 131, 'passten': 88, 'immerhin': 36, 'Laschet': 51, 'Spaltung': 33, 'Generationen': 182, 'warnt': 80, 'Wolfgang': 25, 'la': 86, 'DDR': 92, 'erinnert': 1, 'Saskia': 84, 'Esken': 17, 'Verteidigung': 92, 'seiner': 181, 'eigenen': 121, 'Leute': 93, 'wünscht': 1, 'Gesellschaft': 93, 'wenig': 3, 'Raum': 10, 'nahm': 25, 'kritisierte': 25, 'Also': 155, 'Umstand': 116, 'Minderheit': 50, 'setzt': 1, 'gehe': 24, 'Wahrheit': 93, 'ganz': 112, 'andere': 72, 'anderen': 168, 'Technik': 158, 'Debatten': 92, 'Linke': 17, 'Rechte': 182, 'verstehen': 62, 'Konzern': 104, 'Seite': 78, 'immer': 35, 'kritisiert': 17, 'angefangen': 8, 'Hier': 83, 'Anlass': 121, 'recht': 19, 'inklusive': 36, 'Kopf': 70, 'bewahren': 84, 'Drohungen': 22, 'notwendig': 3, 'Vorsitzenden': 104, 'ARD': 87, 'dürfen': 28, 'wohl': 19, 'kaum': 35, 'diesen': 6, 'grundlegend': 33, 'ändert': 1, 'lohnt': 1, 'Arbeit': 95, 'Anrechnung': 28, 'fördert': 158, 'statt': 87, '/': 14, 'mahnt': 51, 'SPD': 0, 'Reform': 50, 'BERLIN': 14, 'Knapp': 155, 'Million': 67, 'Arbeitnehmer': 28, 'Deutschland': 185, 'bezieht': 119, 'wegen': 27, 'geringer': 189, 'Grundsicherung': 102, 'Hartz': 102, 'IV': 102, 'Zwar': 83, 'Zahl': 16, 'gesunken': 3, 'geändert': 31, 'Mehr': 67, '70': 115, 'Prozent': 89, 'sogenannten': 87, 'zeigt': 24, 'laufende': 102, 'Statistik': 102, 'Bundesagentur': 33, 'Dies': 66, 'galt': 74, '2014': 131, 'Weg': 70, 'eigenem': 22, 'Einkommen': 11, 'wäre': 24, 'insofern': 9, 'Ausweitung': 87, 'Arbeitszeit': 33, 'Unionsfraktion': 17, 'Bundestag': 10, 'deshalb': 3, 'laut': 54, 'Koalition': 0, 'Denn': 83, 'bisherige': 135, 'Arbeitslohn': 28, 'oft': 15, 'dazu': 135, 'Wer': 98, 'zusätzlichen': 28, 'Lohn': 102, 'erzielt': 102, 'Sozialleistung': 102, 'abgezogen': 54, 'davon': 153, 'am': 21, 'nichts': 168, 'nennt': 1, 'faktisch': 54, 'bestraft': 54, 'F.A.Z': 14, 'begründet': 54, 'Forderung': 22, 'nach': 117, 'Eine': 83, 'würde': 113, 'beitragen': 13, 'attraktiver': 189, 'möglich': 3, 'bisherigen': 161, 'Regeln': 54, 'Durch': 155, 'Beschäftigung': 88, 'künftiger': 135, 'Altersarmut': 9, 'sogar': 102, 'Derzeit': 155, 'zwar': 3, 'Höhe': 11, '100': 115, 'Euro': 188, 'Darüber': 155, 'umso': 33, 'härter': 33, 'Beträge': 28, '1000': 67, 'beträgt': 11, 'Abzug': 27, '80': 115, 'darüber': 19, '90': 75, 'konkret': 88, 'bedeutet': 24, 'Vergleich': 10, 'darf': 113, '170': 102, 'neben': 27, 'behalten': 13, 'stattdessen': 88, '900': 102, 'arbeitet': 1, 'steigt': 11, 'Betrag': 11, 'behindern': 88, 'befreien': 88, 'betont': 1, 'Andreas': 14, 'Ifo-Institut': 167, 'bestehenden': 121, 'belegt': 54, 'Obwohl': 155, 'Ziel': 47, 'verbessern': 13, 'hoher': 182, 'niedrigen': 2, 'Ökonom': 51, 'unmöglich': 3, 'Ausstieg': 18, 'schaffen': 62, 'trotz': 161, 'Zuwanderung': 33, 'Während': 83, 'grundsätzlich': 28, 'bezogen': 102, 'Allerdings': 83, 'Betroffene': 28, 'finanziell': 189, 'sofort': 189, 'gelingt': 88, 'Arbeitsmarkt': 154, 'gelingen': 13, 'genau': 19, 'aussehen': 72, 'sollte': 90, 'mehrere': 78, 'Modelle': 119, 'Nach': 73, 'Alfred': 51, 'Außerdem': 83, 'werben': 18, 'FDP': 0, 'ihr': 147, 'Johannes': 51, 'Vogel': 36, 'Kern': 18, 'Vorschläge': 50, 'ähnlich': 51, 'Anders': 155, 'heutigen': 116, 'Freibetrag': 121, 'ersten': 4, 'sollen': 140, 'kleine': 95, 'Jobs': 33, 'umgekehrt': 33, 'deutlich': 16, 'kleinere': 54, 'sieht': 24, 'vollständig': 102, 'würden': 28, 'weiteren': 121, '40': 115, 'Cent': 104, 'umzusetzen': 33, 'weiß': 19, 'halbe': 67, 'könnten': 113, 'Geld': 47, 'verlieren': 13, 'sagt': 12, 'könne': 113, 'maximal': 88, 'gestaltet': 54, 'Fall': 162, 'Stärkung': 87, 'Betreuung': 102, 'Angeboten': 88, 'Wenig': 36, 'Verständnis': 167, 'indes': 3, 'Kurs': 104, 'Rücken': 70, 'Leider': 155, 'Einstieg': 33, 'stärker': 16, 'verwendet': 54, 'einziges': 167, 'CDU-Politiker': 51, 'ignoriert': 54, 'Ghosn': 55, 'Libanon': 55, 'Tokio': 145, 'frühere': 25, 'wirft': 80, 'Japan': 55, 'Verfolgung': 135, 'Patrick': 14, 'Carlos': 145, 'unter': 137, 'anderem': 22, 'Chef': 25, 'Autohersteller': 116, 'Renault': 25, 'Nissan': 51, 'japanischen': 27, 'Justiz': 135, 'Flucht': 15, 'entzogen': 54, 'Ich': 120, 'bin': 24, 'werde': 113, 'weiter': 13, 'Justizsystem': 135, 'Stellungnahme': 25, 'geflohen': 84, 'mich': 168, 'politischen': 92, 'befreit': 78, 'Ghosns': 135, 'neues': 189, 'Kapitel': 86, 'Drama': 167, 'Sturz': 27, 'einst': 74, 'mächtigen': 18, 'November': 32, '2018': 131, 'überraschend': 8, 'finanzieller': 33, 'verhaftet': 145, 'später': 49, 'Punkten': 84, 'angeklagt': 8, 'worden': 186, 'April': 32, 'kam': 24, 'Auflagen': 54, 'Kaution': 78, 'Untersuchungshaft': 145, 'frei': 3, 'Bedingung': 33, 'verlässt': 1, 'Unabhängig': 119, 'ihn': 168, 'Bruch': 121, 'Sein': 66, 'Anwalt': 51, 'nannte': 1, 'Dadurch': 155, '1,5': 75, 'Milliarden': 64, 'Aktion': 135, 'Jahresbeginn': 116, 'offene': 135, 'Fragen': 72, 'Antworten': 9, 'offizielle': 33, 'Schweigen': 88, 'Einzelne': 88, 'Regierung': 48, 'Staatsanwaltschaft': 25, 'gegenüber': 27, 'wisse': 1, 'Medienberichten': 135, 'verließ': 1, 'Sonntag': 46, 'reiste': 22, 'privaten': 2, 'Flugzeug': 55, 'Türkei': 185, 'Fernsehsender': 25, 'ohne': 28, 'Wohnung': 95, 'verlassen': 35, 'nachdem': 8, 'gespielt': 31, 'Namen': 74, 'drei': 163, 'befinden': 84, 'Angaben': 22, 'Besitz': 121, 'Brasilien': 116, 'geborene': 51, 'französischen': 27, 'besitzt': 1, 'Eltern': 95, 'zurückgekehrt': 36, 'Kooperation': 135, 'libanesischen': 161, 'Behörden': 78, 'sehr': 124, 'populär': 3, 'eingereist': 36, 'Ohne': 155, 'Anwesenheit': 135, 'steht': 24, 'Gerichtsverfahren': 135, 'beginnen': 54, 'Aus': 73, 'falscher': 104, 'Nissans': 102, 'Unternehmen': 188, 'Amerikaner': 27, 'Kelly': 17, 'früherer': 51, 'Verfahren': 70, 'unklar': 3, 'Um': 83, '65': 75, 'mindestens': 67, 'unterschiedliche': 72, 'Erzählungen': 9, 'Sicht': 50, 'Anklage': 135, 'erfolgreichen': 22, '20': 115, 'Le': 25, 'drastischen': 87, 'Untergang': 86, 'japanische': 135, 'Bord': 145, 'warf': 80, 'Lauf': 18, 'folgenden': 145, 'verlor': 145, 'ab': 11, 'vermutet': 54, 'mögliche': 135, 'verhindern': 13, 'Dem': 155, 'Manager': 51, 'droht': 88, '15': 180, 'umgerechnet': 67, 'Er': 98, 'ferner': 135, 'etwa': 11, '13': 180, 'Kasse': 54, 'Freund': 70, 'geholfen': 31, '5': 180, 'Dollar': 188, 'Oman': 116, 'Gunsten': 88, 'erhebt': 88, 'zugleich': 92, 'schwere': 33, 'Schuld': 92, 'Diskriminierung': 135, 'grundlegende': 33, 'Menschenrechte': 92, 'verweigert': 54, 'Gesetze': 182, 'Verträge': 2, 'unterzeichnet': 104, 'verurteilt': 31, 'früher': 35, 'werfen': 80, 'Landes': 161, 'Angeklagte': 78, 'setze': 119, 'erlangen': 13, 'ihrer': 147, 'Kommt': 155, 'Verurteilung': 33, 'sicher': 19, 'hängt': 24, 'zusammen': 145, 'Staatsanwälte': 135, 'Fälle': 15, 'Gericht': 80, 'bringen': 62, 'hoch': 3, 'glaubte': 1, 'bekomme': 1, 'ihm': 177, 'strengen': 88, 'gewährt': 54, 'Zugang': 121, 'kontrolliert': 54, 'Büro': 70, 'begrenzt': 54, 'nutzen': 13, 'durfte': 1, 'Frau': 49, 'Carole': 36, 'sprechen': 62, 'sehen': 62, 'Kontakt': 78, 'Personen': 67, 'halten': 62, 'zuvor': 49, 'Themen': 182, 'Monaten': 173, 'wiederholt': 135, 'Jahrzehnten': 173, 'getan': 3, 'Augenhöhe': 158, 'Frauen': 15, 'weitem': 116, 'Junge': 189, 'Frankfurt': 14, 'Mütter': 102, 'Väter': 102, 'Grundgesetzes': 161, 'Artikel': 7, '3': 180, 'festgeschrieben': 33, 'durften': 102, 'ihres': 74, 'sechziger': 75, 'eröffnen': 88, 'späten': 154, 'Gesetz': 47, 'gestrichen': 33, 'verheirateten': 36, 'Zustimmung': 50, 'Seither': 155, 'puncto': 88, 'Gleichberechtigung': 88, 'Bundeskanzlerin': 25, 'EU-Kommission': 135, 'Europäischen': 0, 'Zentralbank': 2, 'tatsächlichen': 158, 'Männern': 15, 'hierzulande': 9, 'entfernt': 67, 'Frage': 130, 'Instituts': 161, 'Dort': 73, 'landet': 1, 'Mit': 73, 'möglichen': 158, 'knapp': 75, 'Ganz': 155, 'oben': 22, 'Schweden': 116, 'Dänemark': 116, 'Estland': 2, 'Bildung': 182, 'mag': 24, 'Anschein': 22, 'Benachteiligung': 119, 'längst': 3, 'Heute': 83, 'doppelt': 102, '30': 115, '34': 75, 'Generation': 95, 'liegen': 2, 'Index': 104, 'Teilnahme': 50, 'beruflichen': 116, 'bestimmten': 88, 'entscheiden': 13, 'öfter': 158, 'Bereichen': 158, 'Gesundheit': 182, 'Kultur-': 158, 'seltener': 189, 'Fach': 51, 'klassischen': 33, 'existieren': 36, 'Arbeitswelt': 33, 'Seit': 73, 'langsam': 119, 'Noch': 83, 'Mathematik': 158, 'dominiert': 158, 'Frauenanteil': 75, 'Beispiel': 144, '11': 180, 'Ursachen': 182, 'Entscheidungen': 182, 'finanzielle': 2, 'medizinischen': 102, 'Bereich': 10, 'Durchschnitt': 10, 'Katharina': 17, 'Wrohlich': 33, 'Leiterin': 51, 'Economics': 51, 'Institut': 167, 'Wirtschaftsforschung': 167, 'DIW': 167, 'Tatsache': 3, 'häufiger': 33, 'längere': 33, 'Pay': 88, 'Unterschied': 121, 'durchschnittlichen': 102, '21': 180, 'höchsten': 154, 'Nur': 83, 'Lücke': 33, 'auseinander': 116, 'seit': 108, 'verringert': 54, 'daran': 3, 'Zuwachs': 104, 'vollzieht': 88, 'ausfällt': 102, 'Fast': 155, 'Hälfte': 67, 'während': 49, 'Solche': 155, 'Faktoren': 158, 'Großteil': 104, 'verantwortlich': 3, 'jüngsten': 116, 'machen': 62, 'Viertel': 70, 'schließt': 1, 'Auch': 132, 'Tätigkeit': 87, '6': 180, 'Führungspositionen': 158, 'internationalen': 2, 'passt': 24, 'modernen': 86, 'Christian': 14, 'Berg': 70, 'Geschäftsführer': 51, 'aktuellen': 2, 'Berechnungen': 22, 'waren': 85, '26': 180, 'Führungskräfte': 102, 'entspricht': 167, 'Plus': 75, 'zehn': 163, 'tut': 24, 'hingegen': 50, 'stieg': 145, 'gleichen': 116, 'Zeitraum': 67, 'Prozentpunkte': 67, 'deutscher': 189, 'Ausnahme': 87, 'insgesamt': 67, 'Thomas': 14, 'Michael': 14, 'Stefan': 14, 'Bereitschaft': 13, 'ändern': 13, '56': 75, '160': 102, 'deutschen': 116, 'Vorstand': 17, '2022': 102, 'null': 75, 'darunter': 67, 'Besetzung': 87, '2016': 131, 'rund': 67, 'gilt': 24, 'gesetzliche': 11, 'Wirkung': 72, 'Inzwischen': 155, 'überzeugt': 3, 'Deswegen': 155, 'wichtig': 3, 'Diese': 83, 'übernehmen': 13, 'zeigen': 62, 'glaubt': 1, 'hänge': 88, 'Vorstellung': 87, '150': 67, 'normalen': 88, 'Stelle': 7, 'Hause': 35, 'jemanden': 88, 'Umdenken': 189, 'Quote': 33, 'zumindest': 28, 'Übergang': 121, 'Irgendwann': 155, 'meint': 1, 'vielleicht': 19, 'Neben': 73, 'plädiert': 33, 'Elterngeld': 102, 'finanziellen': 50, 'Ausgleich': 121, 'Partnern': 182, 'gleich': 86, 'Einführung': 50, '2007': 131, 'allerdings': 3, 'meist': 119, 'Monate': 122, '14': 180, 'Regel': 16, 'zwölf': 75, 'Anspruch': 121, 'abgeschafft': 36, 'klassische': 119, 'geschlossen': 78, 'wenden': 9, 'Gutachten': 70, 'Auftrag': 10, 'Bundesregierung': 0, 'Rolle': 72, 'Staat': 121, 'schnell': 35, 'durchsetzen': 88, 'Bund': 2, 'fordert': 1, 'öffentlichen': 11, 'besser': 19, 'vertreten': 3, 'vieler': 33, 'Regelungen': 121, 'Besonders': 155, 'Ministerien': 116, 'Gründung': 7, 'Bundesrepublik': 92, 'gab': 40, 'Vornamen': 87, 'Hans': 51, 'überhaupt': 19, 'Position': 50, 'ausschließlich': 28, 'dennoch': 135, 'Anteil': 11, 'hinweg': 119, 'lediglich': 145, 'Ebene': 50, 'Zwei': 155, 'Drittel': 67, 'wurden': 5, 'geleitet': 8, 'derart': 36, 'nunmehr': 116, '18': 180, 'eigentlich': 19, 'formuliert': 36, 'Funktionen': 158, 'Verwaltung': 2, 'Bundes': 161, 'aktuelle': 50, 'Koalitionsvertrag': 0, 'definiert': 88, 'Zeitpunkt': 121, 'Schon': 96, '2025': 102, 'jedoch': 3, 'passiert': 3, 'Bisher': 155, 'Plan': 104, 'erkennbar': 189, 'Hinzu': 16, 'fehlt': 24, 'hätte': 113, 'Mai': 32, 'vorgelegt': 54, 'fertig': 36, 'ändere': 9, 'müssten': 16, 'gezielt': 88, 'fördern': 13, 'Repräsentation': 33, 'Parlament': 10, 'fordern': 13, 'Änderung': 50, 'Legislaturperiode': 7, 'Einfluss': 92, 'lang': 49, 'Stiftung': 51, '22': 180, 'dauern': 75, 'erreicht': 3, 'Großunternehmen': 116, 'derzeitigen': 158, 'Tempo': 88, 'ginge': 88, 'freie': 88, 'Posten': 121, 'besetzt': 102, 'fünf': 163, 'Erstmals': 155, 'Konzerne': 182, 'Stellen': 16, 'geschaffen': 31, 'Dennoch': 155, 'Georg': 51, 'stark': 185, 'zunehmenden': 2, 'Anträge': 102, 'Kurzarbeit': 54, 'Wende': 87, 'dritten': 7, 'Quartal': 10, 'höher': 16, 'vierten': 18, '2019': 59, 'Markt': 154, 'neu': 135, 'öffentlich': 8, 'hervor': 25, 'Archiv': 167, 'jedes': 28, 'Entwicklungen': 158, 'kleineren': 2, 'Betrieben': 102, 'Bundeswehr': 119, 'Schulen': 182, 'enthalten': 158, 'aufgebaut': 31, '2005': 145, 'Beginn': 131, 'kontinuierlich': 102, '60': 115, '000': 64, 'anderer': 189, 'Tendenz': 33, 'monatlichen': 102, 'Beschäftigten': 102, 'Oktober': 32, 'nennen': 1, 'passierte': 9, 'zusätzliche': 28, 'Ländern': 185, 'Euroraum': 102, 'erstmals': 145, '700': 67, 'Allein': 102, 'lagen': 145, 'Viele': 83, 'offenen': 104, 'gar': 19, 'Bewerber': 116, 'nahezu': 102, 'Daran': 155, 'Ansicht': 22, 'Fachleute': 28, 'aller': 150, 'negativen': 158, 'Konzernen': 158, 'hohem': 119, 'Niveau': 75, 'ziemlich': 3, 'minus': 102, '2000': 67, 'Vorjahr': 10, 'geblieben': 3, 'binnen': 75, '35': 75, 'gestiegen': 102, 'Gegensatz': 10, 'vielen': 6, 'Befürchtungen': 36, 'Arbeitsplatz': 104, 'gefährdet': 33, 'sahen': 104, 'Stichwort': 88, 'Industrie': 2, '4.0': 88, 'Strich': 102, 'keinem': 158, 'geführt': 31, 'eher': 15, 'Aufbau': 121, 'hin': 28, 'Produktion': 182, 'zunächst': 145, 'bereitet': 36, 'einige': 78, 'Produkte': 28, 'Einsatz': 121, 'verstärkt': 54, '59': 102, 'treiben': 102, 'zunehmende': 2, 'Fachkräftemangel': 88, 'Dagegen': 155, 'rechnet': 11, '41': 75, 'Entwicklung': 185, 'schreibt': 1, 'Beratung': 182, 'Befragung': 22, 'letzte': 145, 'vierte': 1, 'wachsende': 182, 'verursacht': 54, 'erster': 25, 'Linie': 92, 'Autoindustrie': 119, 'Volkswagen': 102, 'Eon': 75, 'Ford': 86, 'wichtige': 72, 'Veränderung': 87, 'schlägt': 80, 'steigenden': 158, 'nieder': 145, 'beiden': 78, 'betroffen': 3, 'Baden-Württemberg': 14, 'Bayern': 116, 'Beide': 31, 'gelebt': 8, 'leiden': 102, 'Arbeitsplätze': 28, 'kostet': 67, 'kommen': 62, 'globale': 2, 'Verwerfungen': 88, 'Brexit': 121, 'September': 32, 'daher': 50, 'guter': 189, 'Nachfrage': 22, 'bewegt': 104, 'hohen': 11, 'sinkende': 102, 'einstellen': 9, 'schwierigen': 158, 'Zeiten': 35, 'länger': 35, 'leicht': 19, 'ihren': 147, 'aufgeben': 119, 'Gerade': 83, 'langem': 131, 'sicherer': 36, 'Arbeitgeber': 16, 'schlechten': 116, 'Christoph': 14, 'positiv': 9, 'entwickelt': 2, 'negative': 2, 'Nachrichten': 67, 'gute': 72, 'Situation': 50, 'Bedeutung': 92, 'Dienstleistungen': 11, 'zulegen': 9, 'Lehrer': 28, 'Verkehr': 121, 'wirkt': 9, 'Angst': 80, 'Falle': 10, 'besseren': 88, 'geringen': 2, 'Summe': 33, 'positiven': 33, 'Angesichts': 2, 'leichten': 104, 'Zunahme': 161, 'Bruttoinlandsprodukts': 75, 'ausgehen': 28, 'sinken': 102, '200': 67, 'zunehmen': 54, 'halb': 102, 'gesamten': 18, 'positive': 33, '19': 75, 'teils': 158, 'insbesondere': 2, 'Griechenland': 185, 'Italien': 185, 'Spanien': 185, 'großer': 189, 'Fortschritte': 102, 'Auxilion': 102, 'lebt': 86, 'bietet': 11, 'einfaches': 189, 'FRANKFURT': 2, 'betriebliche': 33, 'Rente': 11, 'Laien': 119, 'verschiedenen': 182, 'Möglichkeiten': 28, 'verdankt': 33, 'kleines': 189, 'Modell': 70, 'betrieblichen': 88, 'Altersvorsorge': 28, 'zahlt': 11, 'gemeinsam': 8, 'allein': 19, 'garantiert': 88, 'meisten': 16, 'unserer': 9, 'Mandanten': 87, '4': 180, 'Zinsen': 16, 'Joachim': 51, 'Bangert': 88, 'Besonderheiten': 36, 'zählen': 13, 'Laufzeit': 102, 'Zins': 36, 'bekommt': 1, 'Mitteilung': 87, 'jederzeit': 13, 'zudem': 2, 'Auszahlungen': 182, 'wann': 1, 'erfolgen': 28, 'Unser': 155, 'System': 47, 'Jahrzehnte': 78, 'unsere': 143, 'abhängen': 36, 'versichert': 54, 'Hessen': 14, 'Beschäftigte': 28, 'sonst': 19, 'Komplexität': 88, 'konfrontiert': 158, 'Pensionsfonds': 2, 'Arbeitgebers': 161, 'unterscheiden': 182, 'Darstellung': 50, 'Rückstellungen': 33, 'Absicherung': 87, 'Wirtschaft': 2, 'Risiko': 167, 'notwendigen': 2, 'Zusagen': 102, 'steigen': 11, 'enorm': 102, 'Wege': 18, 'Experten': 78, 'Daher': 155, 'beliebt': 102, 'Verbesserungen': 182, 'vorsieht': 102, 'Trends': 88, 'Wachstum': 11, 'derzeit': 11, 'wollten': 9, 'Attraktivität': 33, 'erhöhen': 13, 'Zudem': 83, 'Beteiligung': 182, '95': 75, 'freiwillige': 33, 'Annahme': 135, 'Systems': 161, 'unser': 3, 'Versicherungen': 28, 'entsprechende': 28, 'betreut': 54, 'größere': 72, 'Familienunternehmen': 102, 'gehören': 62, 'Marke': 102, 'Milliarde': 67, 'überschritten': 54, 'Sparer': 28, '50': 115, 'Zweifel': 154, 'jüngst': 51, 'Nun': 83, 'per': 28, 'Handy': 189, 'attraktive': 28, 'führe': 135, 'relativ': 2, 'hohe': 11, 'gewähren': 88, 'attraktiv': 3, 'sparen': 9, 'zahlen': 11, 'erhöht': 54, 'Bilanz': 87, 'belastet': 54, 'kritischen': 87, 'interessant': 88, 'Kosten': 16, 'betragen': 102, 'übernimmt': 1, 'niedriger': 102, 'DZ': 2, 'Bank': 17, 'rät': 33, 'vorliegen': 88, 'Haushalte': 2, 'Billionen': 67, 'zugenommen': 102, 'Vermögensaufbau': 102, 'erhöhte': 102, '2,2': 75, 'wirkten': 102, 'steigende': 102, 'Aktienkurse': 116, 'Privatanleger': 28, 'hinnehmen': 9, 'mussten': 78, 'konnten': 9, 'Anleger': 16, 'kräftige': 88, 'freuen': 88, 'größten': 2, 'Ökonomen': 2, 'erhöhten': 104, 'stetig': 88, 'lag': 24, 'Zahlen': 102, 'gelegt': 54, 'extrem': 33, 'heißt': 40, 'lieben': 9, 'ähnliche': 33, 'Institute': 2, 'besonders': 2, 'Negativzinsen': 2, 'reagieren': 13, 'Banken': 16, 'Geldpolitik': 2, 'EZB': 2, 'Phase': 7, 'Säule': 87, 'Chefvolkswirt': 51, '1,8': 75, '27': 180, 'Form': 182, 'Bedarf': 2, 'Umfrage': 7, 'Union': 0, 'gaben': 84, 'Befragten': 75, 'festhalten': 154, 'Erträge': 28, 'Immerhin': 155, 'bekannt': 3, 'höhere': 11, 'Renditen': 182, 'versprechen': 28, 'Zweite': 36, '55': 75, 'investieren': 13, 'Aktien': 16, 'Fonds': 11, 'zufolge': 67, 'Aktienfonds': 28, 'höchste': 102, '16': 180, 'Industrieländern': 158, 'Kapitalmarkt': 116, 'Wir': 23, 'brauchen': 143, 'mahnte': 9, 'Statt': 155, 'traditionellen': 121, 'Investitionen': 16, 'Immobilien': 11, 'gefragt': 3, 'Vielfalt': 92, 'solches': 189, 'zunehmend': 158, 'fürs': 9, 'sollten': 16, 'bislang': 3, 'Demnach': 155, 'demnach': 102, 'Vermögen': 11, 'Bargeld': 102, 'veröffentlicht': 31, 'Januar': 32, 'Israel': 48, 'verlief': 145, 'schwach': 102, 'Martin': 14, 'Tel': 14, 'Aviv': 14, 'ganzen': 158, 'Überall': 155, 'arbeiten': 62, 'junge': 78, 'einzelne': 28, 'Lösungen': 2, 'etablierte': 102, 'Dienstleister': 88, 'Druck': 55, 'setzen': 13, 'mehreren': 84, 'Teilen': 158, 'sogenannte': 7, 'Reihe': 7, 'versammelt': 119, 'London': 14, 'Start-up': 189, 'Nation': 92, 'wobei': 158, 'alt': 49, '500': 67, 'Start-ups': 158, 'Bedingungen': 182, 'beste': 102, 'pro': 67, 'sorgt': 88, 'Plattform': 72, 'Grunde': 10, 'qualifizierte': 88, 'Investoren': 16, 'David': 51, 'Assia': 189, 'aufgrund': 161, 'Vergangenheit': 185, 'Mr': 86, 'genannt': 54, 'Gründe': 72, 'Anfang': 131, 'machte': 1, 'Blockade': 8, 'Damals': 8, 'Entschluss': 104, 'gefasst': 54, 'entwickeln': 13, 'Auswirkungen': 2, 'gehabt': 8, 'Neunzigern': 116, 'russischer': 116, 'Militär': 167, 'genaue': 102, 'gäbe': 9, 'Gründer': 51, 'militärische': 135, 'Laufbahn': 87, 'absolviert': 189, 'früh': 35, 'Kandidaten': 104, 'Diesen': 155, 'Karriere': 95, 'ermöglicht': 33, 'zutage': 84, 'Lehavi': 104, 'Simplex': 104, 'trägt': 24, 'Warum': 155, 'vermag': 1, 'schwer': 19, 'erklären': 13, 'gewohnt': 36, 'Wenn': 83, 'ich': 120, 'mir': 62, 'Einen': 155, 'Vorteil': 189, 'fügt': 1, 'Kunden': 16, 'ausgerechnet': 167, 'erworben': 54, 'Zufall': 167, 'geraten': 3, 'Bau': 121, 'ging': 24, 'oberen': 116, 'gehört': 62, 'befindet': 51, 'Zustand': 189, 'passen': 88, 'Vor': 91, 'paar': 49, 'getroffen': 31, 'nimmt': 24, 'Künstliche': 33, 'Intelligenz': 2, 'Hilfe': 182, 'abgewickelt': 54, 'geschieht': 167, 'indem': 1, 'Transaktionen': 102, 'blockiert': 3, 'herkömmlichen': 87, 'Zukunft': 93, 'Kryptowährungen': 119, 'Durchbruch': 121, 'Blockchain': 2, 'Idee': 7, 'DNA': 87, 'größte': 3, 'israelische': 55, 'großen': 35, 'angehört': 36, 'unseren': 62, 'Sitz': 116, 'Gespräch': 10, 'interessierten': 104, 'verspricht': 1, 'Prämie': 102, 'Not': 87, 'bestätigt': 135, 'Jeder': 155, 'frisch': 36, 'Universität': 74, '10': 180, 'verdienen': 28, 'Geschäft': 47, 'wächst': 2, 'Als': 83, 'Teilnehmer': 78, 'E-Toro': 36, 'eingeladen': 22, 'öffnet': 88, 'Büros': 104, 'klein': 9, 'geworden': 3, 'erweitert': 88, 'Kein': 155, 'Wunder': 167, 'Arbeitnehmern': 102, 'verliert': 1, 'Gewinne': 11, 'Auge': 70, 'Dieser': 66, 'Größe': 87, 'jährlich': 67, 'sechs': 163, 'Einer': 95, 'wichtigsten': 2, 'Katastrophe': 33, 'beantragen': 88, 'vermutlich': 54, 'effizienter': 189, 'Leben': 47, 'Dabei': 83, 'ums': 67, 'macht': 24, 'Spaß': 104, 'verbreiten': 119, 'behaupten': 9, 'gründete': 86, 'seinem': 184, 'Bruder': 74, 'Unterstützung': 50, 'Vaters': 161, 'Mittlerweile': 36, 'Worten': 6, 'führende': 119, 'Netzwerk': 70, 'Social': 119, 'israelischen': 27, 'elf': 75, 'Mitarbeitern': 67, 'Drei': 78, 'hauptsächlich': 119, 'Facebook': 102, 'Geldes': 161, 'beschreibt': 86, '2013': 131, 'Geschäftsmodell': 189, 'Grenzen': 182, 'Financial': 119, 'spricht': 24, 'Depot': 11, 'gleichsam': 102, 'Fondsmanager': 102, 'erhalten': 11, 'monatlich': 102, 'sofern': 28, 'Depots': 28, 'Wert': 11, 'Beschränkungen': 135, 'eingeführt': 31, 'Portfolios': 54, 'riskant': 102, 'betrachtete': 1, 'Portfolio': 88, 'irgendwann': 54, 'aufgefordert': 116, 'verringern': 13, 'erhält': 11, 'Zahlungen': 102, 'ausgeführt': 135, 'Handel': 2, 'sichere': 28, 'Gefahr': 50, 'Libra': 88, 'Vermögenswerte': 102, 'Förderung': 50, 'Steuern': 11, 'ausländische': 54, 'vergleichsweise': 102, 'Kapital': 28, 'rein': 33, 'versteht': 189, 'Brücke': 87, '45': 75, 'gewonnen': 36, 'institutionellen': 189, 'Volumen': 102, 'Branche': 7, 'davor': 3, 'acht': 75, 'entstanden': 3, 'Zeitung': 7, 'Nachdem': 155, 'Wahlen': 17, 'klare': 72, 'brachten': 84, 'Neuwahl': 36, 'wahrscheinlich': 3, 'Juden': 4, 'Sorgen': 9, 'Palästinenser': 135, 'Kräfte': 13, 'jüdischen': 84, 'näher': 88, 'grundsätzliche': 88, 'drohen': 13, 'Grund': 121, 'wirtschaftlichen': 182, 'gesellschaftlichen': 92, 'arbeiteten': 9, 'bisweilen': 9, 'erfolgreich': 3, 'Insgesamt': 155, 'Belastung': 11, 'staatlichen': 2, 'integriert': 158, 'Israels': 55, 'Wissen': 167, 'lernen': 9, 'Englisch': 33, 'eben': 19, 'überwiegend': 158, 'abhängig': 158, 'Teile': 158, 'fehlen': 28, 'Qualität': 2, 'gleichzeitig': 182, 'Quereinsteiger': 28, 'eingestellt': 54, 'Problemen': 158, 'Heike': 14, 'Schmoll': 14, 'Berlin': 14, 'Wann': 155, 'neuer': 189, 'folgt': 24, 'Ruf': 104, 'Lehrern': 84, 'Alle': 155, 'stimmen': 13, 'darin': 3, 'guten': 158, 'Unterricht': 158, 'anders': 19, 'lauter': 189, 'wahren': 88, 'Ernst': 51, 'Lage': 185, 'mitbekommen': 8, 'dieselben': 9, 'bereit': 3, 'Schüler': 78, 'studiert': 31, 'Studium': 70, 'jede': 28, 'gegebene': 33, 'Präsident': 48, 'Alexander': 51, 'CDU': 0, 'Seinen': 155, 'Kollegen': 95, 'eng': 119, 'einzusetzen': 189, 'ausfallen': 13, 'Sprecher': 25, 'Verbrechen': 167, 'Bundesländer': 116, 'Qualifizierung': 119, 'kurzem': 80, 'bezeichnet': 86, 'Nicht': 83, 'solide': 28, 'wissenschaftliche': 119, 'Voraussetzungen': 28, 'verfügen': 119, 'verzichten': 28, 'einigermaßen': 116, 'Berater': 25, 'Integration': 182, 'besten': 154, 'Schule': 95, 'kurzen': 104, 'direkt': 28, 'entschieden': 54, 'Praxis': 185, 'dramatisch': 102, 'beschäftigt': 158, 'Bezirken': 158, 'versuchen': 13, '800': 67, 'anderes': 189, 'Bundesland': 102, 'wechseln': 102, 'sonstigen': 116, 'Gründen': 158, 'Anzahl': 28, 'gering': 3, 'beendet': 36, 'wesentlich': 189, 'kommenden': 163, 'Einschätzung': 22, 'örtlichen': 116, 'Universitäten': 158, 'abgeschlossen': 54, 'Berliner': 14, 'übrigen': 116, 'Beruf': 104, 'Gehalt': 104, 'löst': 189, 'fehlende': 182, 'ständige': 33, 'benötigen': 13, 'Angriffe': 55, 'halbwegs': 33, 'Ausstattung': 182, 'Arbeiten': 119, 'sinnlos': 36, 'Mitarbeit': 88, '...': 86, 'Gehältern': 158, 'steigern': 102, 'ohnehin': 54, 'nötigen': 54, 'Prinzip': 18, 'besteht': 24, 'Musik': 95, 'Sport': 182, 'Chemie': 84, 'Grundschulen': 116, 'Deutsch': 86, 'Madrid': 14, 'Migranten': 16, 'Afrika': 185, 'steuern': 88, 'Inseln': 16, 'Westafrika': 84, 'Hans-Christian': 14, 'Rößler': 14, 'Bilder': 18, 'Platz': 70, '2500': 67, 'spanischen': 116, 'Erste': 54, 'verdoppelt': 102, 'Kanaren': 22, 'vorläufigen': 22, '31': 180, 'Dezember': 32, 'sozialistische': 25, 'Minderheitsregierung': 135, 'angekündigt': 31, 'stand': 84, 'Eindruck': 121, 'Misstrauensvotum': 36, 'ließ': 1, 'Ministerpräsident': 48, 'Pedro': 25, 'Sánchez': 25, 'Sommer': 32, 'Open': 116, 'darauf': 1, 'Kontrollen': 116, 'Norden': 10, 'Straße': 78, 'funktionieren': 9, 'wichtiger': 189, 'Partner': 121, 'spanische': 25, 'Innenminister': 25, 'suchten': 158, 'offenbar': 8, 'Frontex': 102, 'Ihre': 83, 'Boote': 84, 'Kilometer': 67, 'Küste': 84, 'See': 154, 'manchmal': 9, 'gefährlich': 9, 'sank': 102, 'Boot': 104, 'Gambia': 167, 'Woche': 7, 'unterwegs': 3, '600': 67, 'Übersicht': 22, 'Internationalen': 51, 'Organisation': 92, 'versuchten': 116, 'Mittelmeer': 10, 'erreichen': 13, 'tausend': 67, '2006': 145, 'vergleichen': 119, 'dorthin': 78, 'gefahren': 167, 'damalige': 25, 'baute': 25, 'daraufhin': 84, 'Sicherheitskräfte': 135, 'Bald': 155, 'Ruhe': 155, 'Marokko': 135, 'illegale': 102, 'wichtigste': 25, 'Flüchtlinge': 16, 'mittlerweile': 54, 'Herkunft': 87, 'Gruppe': 87, 'Afghanen': 102, 'Syrer': 102, 'bedeuten': 13, '28': 180, 'Mali': 145, 'Elfenbeinküste': 102, 'intensiv': 119, 'darum': 13, 'überzeugen': 13, 'erwies': 9, 'Besuch': 70, 'II': 74, 'König': 104, 'Mohamed': 51, 'Februar': 32, 'Seitdem': 155, 'aktiver': 36, 'unterstützt': 135, 'ausbauen': 88, 'Folge': 7, 'eineinhalb': 75, 'Ankündigung': 87, 'wahr': 9, 'Polizisten': 78, 'verlegt': 78, 'kontrollieren': 13, 'lösen': 13, 'Lager': 4, 'Süden': 18, 'eingesetzt': 31, 'wirbt': 33, 'Brüssel': 185, 'jährlichen': 102, 'Beitrag': 121, 'Bekämpfung': 50, 'illegalen': 182, 'Gleichzeitig': 155, 'Informationen': 22, 'Marine': 135, 'zuständig': 167, 'gelangen': 13, 'Asylanträge': 102, 'einreisen': 135, 'Laut': 73, '110': 102, 'völlig': 3, 'überfordert': 88, '130': 67, 'Missbrauch': 78, 'Washingtoner': 158, 'Prinzipien': 182, 'Nationalsozialisten': 145, '1998': 36, '23': 180, 'Kunstwerke': 182, 'Provenienzforschung': 87, 'Beschluss': 51, 'Kultur': 92, 'Umsetzung': 50, 'Ist': 155, 'wirklich': 19, 'dargestellt': 54, 'Rahmen': 10, 'Davon': 155, 'kommunalen': 158, 'Erklärung': 87, '1990': 145, 'vielfach': 33, 'Potsdamer': 22, 'beschränkt': 33, 'Zentrale': 116, 'Einrichtung': 161, 'realen': 121, 'Zentrum': 10, 'DZK': 167, 'Ihren': 86, 'Zweck': 121, 'Register': 18, 'erfüllen': 13, 'ausreichend': 3, '1933': 145, '1945': 145, 'Objekte': 33, 'Sammlung': 33, 'demselben': 33, 'diejenigen': 78, 'Werke': 87, 'Lücken': 116, 'eingetragen': 54, 'Ebenso': 155, 'zahlreiche': 102, 'vollständige': 33, 'mutmaßliche': 36, 'bereits': 31, 'Schwierigkeiten': 182, 'verkauft': 11, 'enthält': 88, 'detailliert': 119, 'erscheint': 189, 'durchschnittlich': 102, '3,8': 75, 'gefördert': 54, 'mutmaßlich': 78, 'veröffentlichten': 116, 'Ergebnis': 167, 'Museen': 2, 'besitzen': 28, '250': 67, 'NS-Zeit': 119, 'vermuten': 102, 'ergibt': 116, 'mutmaßlichen': 51, 'detaillierten': 102, 'Gesetzgeber': 182, 'unterlassen': 88, 'wenigstens': 88, '2017': 131, 'KGSG': 87, 'bestimmt': 3, 'wer': 19, 'Kulturgut': 135, 'bringt': 24, 'vorher': 8, 'erforderlichen': 28, 'betreiben': 13, 'fallen': 13, 'Museum': 74, 'private': 28, 'Pflicht': 50, 'Veräußerung': 87, 'trifft': 88, 'durchweg': 36, 'Kontakte': 135, 'Erfahrungen': 182, 'unterliegt': 33, 'Wahl': 7, 'nämlich': 155, 'gegebenenfalls': 28, 'Händler': 189, 'rasch': 88, 'klären': 88, 'stehende': 158, 'Kommission': 50, 'Eigentümer': 189, 'versucht': 1, 'eigenes': 47, 'öffentliche': 28, 'einerseits': 167, 'andererseits': 158, 'ungleich': 33, 'stellt': 24, 'hinter': 17, 'Regulierung': 2, 'zumal': 88, 'Handels': 161, 'Hat': 155, 'Argument': 167, 'deutsche': 119, 'Nahen': 158, 'maßgeblich': 87, 'Finanzierung': 50, 'IS': 27, 'falsch': 3, 'Studien': 182, 'Bundesministerium': 167, 'Forschung': 2, 'Untersuchungen': 158, 'Belege': 28, 'Behauptung': 50, 'gefunden': 31, 'errichtete': 84, 'bürgerlichen': 87, 'Rechts': 161, 'praktisch': 33, 'Eigentum': 121, 'massiv': 135, '§': 88, 'verlangen': 28, 'berufen': 87, '33': 75, 'GG': 88, 'Beamte': 51, 'Aufgaben': 135, 'Unternehmer': 102, 'Gesetzes': 161, 'welches': 28, 'Pflichten': 88, 'Ob': 83, 'Entscheidung': 50, 'gedacht': 3, 'Verbesserung': 50, 'prüfen': 13, 'Deren': 22, 'Ansprüche': 182, 'Gesetzen': 161, 'westlichen': 158, 'ehemaligen': 4, 'ergeben': 88, 'Ablauf': 22, 'ausgeschlossen': 54, 'Besitzer': 104, 'beziehungsweise': 28, 'Fällen': 158, 'bestehen': 158, 'Holocaust': 4, 'Neuregelung': 87, 'jemand': 19, 'beruft': 88, 'Recht': 47, 'wesentlichen': 158, 'Errungenschaften': 119, 'Aufklärung': 119, 'unterschiedlichen': 158, 'Macht': 87, 'entscheidet': 88, 'jeweilige': 119, 'Gerechtigkeit': 182, 'Einzelfall': 18, 'verfassungsrechtlichen': 158, 'Vorgaben': 87, 'beachten': 88, 'Betracht': 33, 'Eigentums': 161, '1': 180, 'Regelung': 50, 'Wohl': 167, 'Interessen': 92, 'privater': 28, 'wirksam': 28, 'aufgehoben': 135, 'verletzt': 31, 'Vernichtung': 87, 'verstoßen': 31, 'Vorgehen': 167, 'staatliche': 28, 'vorgesehen': 135, 'Durchsetzung': 87, 'Abstimmung': 50, 'gescheitert': 84, 'gelten': 28, 'Kulturgutbesitz': 88, 'Bundesverfassungsgericht': 167, 'Hand': 95, 'weiteres': 189, 'Vorbild': 22, 'Österreich': 185, 'welchem': 158, 'Vorfeld': 18, 'Rechnung': 104, 'begangen': 31, 'Unrecht': 88, 'Man': 98, 'fragt': 1, 'weshalb': 1, 'nachdenken': 119, 'rechtlich': 88, 'eigen': 88, 'rechtlichen': 182, 'missbraucht': 51, 'fühlen': 9, 'Professor': 14, 'Dr.': 14, 'Rechtsanwalt': 51, 'a': 86, 'Aufbruch': 104, 'Matthias': 14, 'Geburtstag': 70, 'Nato': 92, 'herrscht': 24, 'Punkt': 70, 'Einigkeit': 88, 'innerhalb': 161, 'Macron': 48, 'Herausforderungen': 2, 'Russlands': 135, 'Irans': 27, 'Formen': 158, 'Klarheit': 88, 'Architektur': 51, 'Strategie': 50, 'europäischer': 33, 'Sonst': 155, 'Europas': 92, 'Deutschlands': 92, 'Perspektive': 87, 'all': 95, 'derer': 158, 'strategischen': 116, 'Grundgesetz': 167, 'Sicherung': 158, 'anderswo': 189, 'Engagement': 167, 'Nordsyrien': 104, 'ja': 19, 'Rettung': 87, 'vorliegt': 33, 'gerne': 9, 'jene': 158, 'Waffe': 87, 'Aufruf': 104, 'kennen': 9, 'hilflos': 9, 'kollektiven': 104, 'rechtliche': 51, 'Nebel': 18, 'Absatz': 7, 'Streitkräfte': 27, 'Wille': 33, 'Vorschrift': 33, 'Ausland': 10, 'Völkerrechts': 161, 'verlaufen': 88, 'Schaffung': 87, 'Zuge': 10, 'engen': 158, 'Zusammenhang': 10, 'Demokratie': 92, 'jeher': 116, 'problematisch': 36, 'außerhalb': 158, 'Ermächtigung': 87, 'kollektiver': 33, '24': 180, 'Mut': 158, 'historischen': 116, 'An': 73, 'keiner': 95, 'glauben': 62, 'letztlich': 88, 'Ringen': 167, 'höchst': 33, 'Änderungen': 135, 'Bundestages': 161, 'Sinne': 10, 'Begriff': 86, 'Zu': 73, 'bestimmter': 54, 'Genozid': 121, 'Initiativen': 88, 'Rücktritt': 25, 'Bundespräsidenten': 121, 'Stück': 70, 'Längst': 155, 'vergessen': 9, 'scheint': 24, 'selbstbewusst': 9, 'Krieg': 10, 'Völkermord': 121, 'ethnischen': 158, 'Mandat': 167, 'ständigen': 119, 'Mitglieder': 161, 'aufbauen': 88, 'Umso': 36, 'UN': 135, 'anzuerkennen': 88, 'außen': 80, 'gerichtet': 33, '2009': 131, 'gesehen': 31, 'Äußerung': 87, 'bedarf': 33, 'gewisser': 36, 'Eines': 155, 'Daraus': 88, 'Mitgliedstaaten': 182, 'besonderen': 104, 'chinesischen': 158, 'Road': 119, '&': 86, 'Initiative': 92, 'fatale': 33, 'Frankreich': 185, 'größeren': 2, 'Kreis': 18, 'möchte': 113, 'hinaus': 28, 'Insbesondere': 155, 'verbundene': 88, 'Viertels': 161, 'strategische': 92, 'Relevanz': 33, 'Königreichs': 161, 'Strukturen': 158, 'genügen': 88, 'ausgestattet': 189, 'solchen': 28, 'ließe': 88, 'organisieren': 88, 'iranischen': 55, 'gezeigt': 31, 'Preis': 11, 'Golf': 154, 'abseits': 88, 'französische': 92, 'bewaffneten': 135, 'Angriffs': 161, 'Mitglied': 161, '42': 75, '7': 180, 'thematisiert': 88, 'Anschläge': 102, 'Paris': 14, '2015': 131, 'hoffen': 88, 'Verantwortung': 92, 'Direktor': 25, 'Völkerrecht': 161, 'Bonn': 22, 'hilft': 88, 'innen': 116, 'britischen': 116, 'Insel': 22, 'womöglich': 116, 'Friedrich': 14, 'Halle': 22, 'Vertreterin': 87, 'Ort': 4, 'Entstehung': 87, 'Dublin': 119, 'entsteht': 189, 'Werk': 70, 'kulturellen': 158, 'Gedanken': 119, 'nahe': 145, 'reichlich': 88, 'siebzig': 75, 'Köpfe': 84, 'umfassenden': 33, 'Geist': 92, 'enger': 158, 'solidarischen': 104, 'wollte': 113, 'Effekt': 104, 'sämtliche': 158, 'England': 87, 'geführten': 104, 'Stimmen': 17, 'Schwester': 95, 'Julia': 14, 'voll': 3, 'jener': 119, 'Empathie': 88, 'höheren': 11, 'Anteilnahme': 87, 'entgegen': 104, 'schweren': 116, 'Hoffnung': 50, 'Tenor': 51, 'ergänzte': 1, 'Variante': 87, 'Lange': 8, 'Gestaltung': 87, 'Tim': 51, 'tiefe': 87, 'Rand': 154, 'manche': 9, 'Worte': 9, 'Seele': 119, 'verstand': 84, 'Meister': 51, 'Miteinander': 18, 'folgte': 51, 'Dynamik': 33, 'richtig': 19, '!': 62, 'volle': 167, 'Weite': 116, 'begonnen': 31, 'Abends': 36, 'sozusagen': 33, 'Akademie': 51, 'Alte': 189, 'tat': 1, 'richtigen': 9, 'Dienst': 11, 'komplett': 102, 'Boden': 154, 'gewachsen': 36, 'genutzt': 54, 'ganze': 72, 'Papier': 70, 'Drucker': 88, 'konkurrieren': 88, 'Holger': 51, 'Schmidtke': 36, 'fünfzig': 75, 'findet': 24, 'beruflich': 9, 'zweites': 189, 'vorn': 22, 'spät': 9, 'Frankfurter': 74, 'Verlag': 38, 'verbunden': 3, 'meine': 9, 'hessischen': 116, 'gewechselt': 36, 'erzählt': 95, 'gebürtige': 51, 'Essener': 36, 'erleben': 88, 'Grundlagen': 119, 'erlebte': 145, 'Boom': 104, 'Ära': 51, 'Neuen': 121, 'seither': 102, 'Ruhrgebiet': 18, 'Bergbau': 18, 'tätig': 8, 'suchte': 1, 'falschen': 36, 'bekommen': 62, 'spüren': 13, 'informieren': 119, 'Kurz': 25, '2001': 131, 'hielten': 9, 'New': 14, 'York': 14, 'Abend': 154, 'World': 86, 'versuchte': 1, 'Ausgabe': 87, 'Ereignisse': 119, 'Uhr': 67, 'gerissen': 36, 'erschien': 145, 'Foto': 70, 'Acht': 84, 'neun': 163, 'Ausgaben': 11, 'Anzeigen': 9, 'Botschaften': 88, 'wozu': 9, 'selten': 78, 'hieß': 40, 'Seiten': 78, 'erhielt': 145, 'persönlich': 9, 'herum': 9, 'Betrieb': 18, 'Peter': 17, 'fing': 84, '1979': 131, 'damals': 8, 'Aufträge': 102, 'stolz': 70, 'Kollege': 14, 'ergänzt': 54, 'meinen': 9, 'Maschine': 86, 'produzieren': 88, 'Wertschätzung': 87, 'glaube': 1, 'ebenfalls': 17, 'Neue': 14, 'Presse': 87, 'Zeitungen': 51, 'schwierig': 3, 'ungewiss': 3, 'Heimat': 95, 'Allgemeine': 51, 'Karten': 88, 'traditionell': 116, 'Faktor': 121, 'Maßstab': 18, 'Donald': 27, 'Aussichten': 36, 'Begründung': 50, 'lautet': 1, 'Weltkrieg': 4, 'heißen': 88, 'Gerald': 51, 'Jimmy': 51, 'George': 74, 'H.': 8, 'W.': 27, 'Bush': 27, 'Konjunktur': 2, 'lief': 102, 'regierte': 116, 'bewegte': 84, 'Preise': 16, 'leben': 62, 'benannt': 22, 'verstorbenen': 51, 'Paul': 14, 'Mann': 49, 'setzte': 1, 'zweistelligen': 104, 'Inflation': 102, 'Wähler': 17, 'Rezession': 33, 'neunziger': 163, 'Konservative': 119, 'Unterm': 9, 'These': 87, 'amerikanischen': 27, 'Amt': 10, 'bestätigen': 88, 'Dahinter': 119, 'steckt': 1, 'Fair': 102, 'Vielmehr': 155, 'Daten': 16, 'gebaut': 54, 'Ausgang': 116, 'Fairs': 135, 'medialen': 119, 'Bedürfnis': 167, 'bestimmen': 88, 'erstens': 9, 'regieren': 158, 'zweitens': 9, 'Nase': 84, 'Regierungspartei': 51, 'überdies': 135, 'Republikanern': 18, 'Alles': 155, 'gutes': 189, 'Wirtschaftswachstum': 167, 'niedrige': 2, 'Bill': 51, 'Clintons': 116, 'James': 51, \"'s\": 86, 'the': 86, 'Bestätigung': 87, 'Formel': 33, 'ökonomische': 33, 'Reserve': 51, 'Währungsfonds': 51, 'voraus': 135, 'historisch': 87, 'Arbeitslosigkeit': 102, 'Werte': 92, 'Werten': 182, 'müsste': 113, 'eintreten': 88, 'Weiße': 88, 'Wahrscheinlichkeit': 87, 'Meinungsforscher': 51, 'Kandidat': 51, 'identifizieren': 9, 'Schwäche': 135, 'trat': 145, 'Präsidentenwahl': 135, 'erlebten': 36, 'Sieg': 104, 'Republikaner': 116, 'gewann': 84, 'entscheidende': 36, 'Mehrheit': 17, 'trotzdem': 3, 'Kandidatin': 36, 'Hillary': 36, 'Clinton': 51, 'Gegner': 135, 'Konflikt': 104, 'Iran': 55, 'naturgemäß': 36, 'Trumps': 27, 'Reaktion': 50, 'Krisen': 158, 'beeinflussen': 88, 'Bemerkenswert': 155, 'Unterschiede': 182, 'Post': 87, 'zieht': 154, 'dezidiert': 119, 'Überraschung': 50, 'obwohl': 1, 'Umfragen': 17, 'Schluss': 154, 'Narrativ': 119, 'argumentiert': 135, 'Darin': 155, 'deutet': 1, 'Großen': 161, 'Mehrheiten': 88, 'negativ': 189, 'finden': 62, 'Charakter': 87, 'Polarisierung': 36, 'Politiker': 17, 'generell': 182, 'schlechtes': 36, 'Ansehen': 189, 'berichtet': 14, 'Amtsenthebungsverfahren': 167, 'Aktivitäten': 119, 'Ukraine': 55, 'endet': 87, 'Untersuchung': 50, 'angesehen': 54, 'Gegen': 155, 'Wahrnehmung': 33, 'Sohn': 74, 'demokratischen': 158, 'Joe': 51, 'Biden': 51, 'ukrainischen': 27, 'saß': 145, 'Geldwäsche': 135, 'Gewicht': 54, 'Aktionen': 158, 'bestens': 119, 'Partei': 17, 'entwickelte': 33, 'Zustimmungswerte': 102, 'Miller': 116, 'Erforschung': 87, 'Leistung': 28, 'unübersehbar': 36, 'amerikanische': 55, 'empfinden': 189, 'zwangsläufig': 33, 'Minderheiten': 158, 'großem': 158, 'Vorsprung': 84, 'Schwarze': 78, 'stellten': 84, 'Dazu': 83, 'wählen': 13, 'verdanken': 13, 'Gruppen': 15, 'Wahlbeteiligung': 88, 'älteren': 104, 'weißen': 104, 'Klientel': 119, 'treu': 104, 'Tatsächlich': 83, 'beigetragen': 50, 'Analysten': 116, 'ländlichen': 158, 'plötzlich': 36, 'blieben': 84, 'demokratischer': 189, 'erobern': 88, 'Maximum': 88, 'profitieren': 11, 'Stein': 51, 'Handelsabkommen': 167, 'entsprechen': 158, 'Agenda': 33, 'Vorstellungen': 182, 'Defizite': 158, 'linker': 119, 'Ideologie': 87, 'wichtigen': 104, 'allgemeiner': 28, 'Erwartung': 54, 'senken': 13, 'Felder': 86, 'Selbst': 155, 'ermittelt': 135, 'Grenze': 22, 'Arbeitsplätzen': 84, 'Gewinner': 102, 'verzeichnen': 158, 'geringe': 33, 'Syrien': 55, 'stimmt': 167, 'Entsendung': 22, 'Soldaten': 55, 'Libyen': 185, 'Opposition': 135, 'fürchtet': 33, 'Bürgerkrieg': 104, 'Rainer': 14, 'Hermann': 14, 'türkische': 55, 'Personal': 28, 'Waffen': 182, 'libyschen': 27, 'Fajez': 25, 'Sarradsch': 25, 'zugestimmt': 116, 'Debatte': 7, 'CHP': 135, 'abgelehnt': 31, 'Abgeordneten': 17, 'Sitzung': 116, 'vorzeitig': 36, 'Regierungschef': 25, 'anerkennen': 13, 'offiziell': 116, 'militärischen': 182, 'gebeten': 54, 'Umfang': 18, 'Dauer': 28, 'festlegen': 88, 'Antrag': 104, 'durchgesetzt': 54, 'Zuvor': 31, 'Türen': 84, 'geheime': 9, 'beantragt': 135, 'verschaffen': 13, 'Nein': 9, 'gegründet': 31, 'Wirtschafts-': 25, 'Außenminister': 25, 'vorstellen': 13, 'Recep': 25, 'Tayyip': 25, 'Erdogan': 48, 'Abkommen': 47, 'Projekte': 28, 'bezog': 1, 'Exploration': 2, 'Ausbeutung': 119, 'östlichen': 18, 'beteiligt': 3, 'libysche': 135, 'legt': 18, 'Verlauf': 18, 'erkennt': 161, 'Chalifa': 51, 'Haftar': 135, 'lehnt': 135, 'Ministerpräsidenten': 27, 'hofft': 1, 'Hauptstadt': 55, 'Tripolis': 135, 'Truppen': 55, '12': 180, 'Angriff': 27, 'Nachrichtenagentur': 135, 'Mittwoch': 46, 'gebe': 40, 'komme': 28, 'Erdogans': 119, 'Stellvertreter': 36, 'Verteidigungsminister': 51, 'unmittelbar': 22, 'Cavusoglu': 135, 'vergeblich': 8, 'türkischen': 55, 'Ablehnung': 50, 'beide': 78, 'liefert': 33, 'Fahrzeuge': 84, 'Richtung': 185, '25': 115, 'Tunesien': 116, 'besucht': 8, 'Öffnung': 161, 'wolle': 113, 'her': 189, 'entlang': 84, 'Unklar': 36, 'vorerst': 54, 'entsenden': 33, 'Zivilisten': 78, 'Armee': 4, 'gescheiterten': 104, 'Juli': 32, 'stoßen': 13, 'Amerikanische': 36, 'gewarnt': 80, '140': 102, 'kämpfen': 13, 'hundert': 67, 'stammende': 8, 'Söldner': 158, 'islamistischen': 158, 'Milizen': 55, 'Truppe': 135, 'russische': 25, 'Wagner': 86, 'General': 55, '2012': 131, 'Istanbul': 145, 'legte': 1, 'unmittelbare': 135, 'Bedrohung': 92, 'Einmarsch': 104, 'zweimal': 8, 'Argumente': 33, 'warnen': 84, 'denselben': 9, 'Damaskus': 116, 'herbeiführen': 104, 'Schaden': 116, 'trage': 33, 'Zumal': 36, 'Eskalation': 87, 'Gewalt': 15, 'drohe': 33, 'jünger': 102, 'älter': 54, 'Drittens': 33, 'offen': 3, 'UN-Sicherheitsrat': 135, 'Resolution': 87, '1970': 51, '2011': 131, 'verhängt': 8, 'Letztlich': 36, 'fürchten': 135, 'Basis': 50, 'Kontrolle': 182, 'Klima': 167, 'schützen': 62, 'ÖVP': 17, 'Grüne': 17, 'Einige': 155, 'Passagen': 88, 'Grünen': 0, 'verkaufen': 13, 'Stephan': 25, 'Wien': 14, 'Sebastian': 25, 'Werner': 25, 'Kogler': 135, 'Donnerstag': 46, 'vorgestellt': 36, 'geklärt': 54, 'Verhandlungen': 182, 'Aufgabe': 50, 'traten': 84, 'Mittwochabend': 154, 'gelungen': 3, 'Beste': 167, 'Welten': 158, 'brachte': 1, 'zustande': 54, 'Wochenende': 46, 'Parteitag': 70, 'Programm': 70, 'Tradition': 95, 'kleiner': 189, 'Sagen': 167, 'formal': 36, 'fällt': 24, 'alter': 189, 'schwarzer': 189, 'Neuwahlen': 135, 'Parteien': 17, 'gestärkt': 54, 'gleichermaßen': 2, '37': 75, 'Islam': 182, 'konsequent': 36, 'Migrationspolitik': 36, 'meiner': 9, 'stärkere': 33, 'ausdrücklich': 25, 'hervorgehoben': 135, 'islamischen': 116, 'sichtlich': 36, 'gekommen': 78, 'bekennen': 88, 'Asylverfahren': 102, 'orientieren': 88, 'Sachen': 121, 'trennen': 87, 'Projekt': 167, 'früheren': 4, 'scharf': 36, 'Jetzt': 83, 'Organisationen': 158, 'Unabhängigkeit': 135, 'sichern': 13, 'versprach': 1, 'Entlastung': 50, 'ermöglichen': 13, 'Klimaschutz': 121, 'lauten': 9, '2030': 75, 'Strom': 121, 'sorgen': 13, 'begriffen': 135, 'Bundeskanzler': 51, 'Minister': 25, 'Staatssekretär': 36, 'Staatssekretärin': 135, 'Kanzler': 51, 'Heinz': 36, 'Landwirtschaft': 92, 'Margarete': 86, 'Karl': 51, 'Susanne': 51, 'Ministerin': 33, 'Familie': 95, 'grünen': 84, 'Infrastruktur': 2, 'Umwelt': 182, 'Justizministerin': 25, 'Gesundheitsminister': 25, 'Lunacek': 36, 'Kunst': 74, 'Moment': 10, 'hätten': 9, 'gewusst': 8, 'zufrieden': 116, 'einander': 9, 'sowohl': 92, 'zentralen': 121, 'umsetzen': 13, 'zog': 145, 'Horizont': 116, 'Eintritt': 88, 'begründen': 88, 'wert': 3, 'erzielen': 13, 'Verbindung': 6, 'wandte': 25, 'Alternative': 50, 'Dann': 83, 'käme': 1, 'FPÖ': 135, 'Stütze': 33, 'zentrale': 72, 'Mannes': 161, 'PARIS': 36, 'Kraft': 50, 'Verhaftung': 22, 'Flughafen': 154, 'Ehefrau': 95, 'diskret': 119, 'meiste': 116, 'spektakulären': 116, 'Lächeln': 189, 'Runde': 51, 'entspannt': 104, 'Schatten': 18, 'zeitweise': 67, 'Vorstandsvorsitzender': 51, 'schrieb': 74, 'Brief': 104, 'Human': 51, 'Rights': 51, 'Watch': 119, 'harten': 104, 'Emmanuel': 25, 'Erfolg': 121, 'Abgeordnete': 17, 'Interviews': 119, 'berichtete': 145, 'Akten': 116, '6000': 102, 'entlastet': 54, 'Verteidiger': 36, 'Dokumente': 78, 'Verweis': 182, 'internen': 116, 'knappe': 87, 'Anwälten': 104, 'geplanten': 50, 'Prozess': 70, 'persönlichen': 87, 'Zwecke': 33, 'Firma': 95, 'Haft': 145, 'Ihr': 155, 'Spekulationen': 87, 'Heimatstadt': 95, 'Beirut': 145, '1966': 145, 'geboren': 8, 'Lebens': 161, 'verbrachte': 145, 'Mutter': 95, 'engagierte': 119, 'Schloss': 18, 'Schicksal': 70, 'genommen': 31, 'geschlagen': 54, 'genauso': 3, 'CSU': 0, 'helfen': 62, 'langfristige': 2, 'Anlage': 33, 'Anleihen': 11, 'steuerlich': 28, 'entlasten': 2, 'Mark': 14, 'Fehr': 14, 'Einkommensteuererklärung': 88, 'erleichtern': 88, 'CSU-Landesgruppe': 25, 'Parlamentarier': 135, 'kostenlose': 102, 'Verbraucher': 2, 'Steuererklärung': 11, 'Abschaffung': 50, 'Steuerpflichtigen': 161, 'Vermögensteuer': 28, 'Steuerzahler': 11, 'begrüßt': 54, 'Forderungen': 182, 'Details': 33, 'äußern': 13, 'Verbandspräsident': 51, 'Reiner': 14, 'Anlegern': 54, 'günstig': 102, 'Verkauf': 11, 'steuerfrei': 11, 'falls': 28, 'jenen': 116, 'langfristig': 11, 'Wertpapiere': 102, 'Ruhestand': 18, 'Abgeltungsteuer': 11, 'plus': 102, 'Solidaritätszuschlag': 11, 'Kirchensteuer': 11, 'Aktie': 11, 'greift': 1, 'unabhängig': 28, 'Steuerpflichtige': 11, 'deutliche': 33, 'stellvertretende': 25, 'Rahmenbedingungen': 182, 'erzielten': 116, 'genießen': 9, 'Erhöhung': 7, 'steuerliche': 28, 'Aktuell': 102, 'Sparer-Pauschbetrag': 28, 'Werbungskosten': 11, 'pauschal': 102, 'Gewinnen': 102, 'Freistellungsauftrag': 121, 'erteilen': 28, 'Berechnung': 87, 'berücksichtigen': 28, 'Kalkül': 54, 'Gebühren': 28, 'betrifft': 167, 'Verfügung': 50, 'Konto': 88, 'Ausdruck': 70, 'Nutzung': 182, 'Sogar': 119, 'Einnahmen': 16, 'reagiert': 54, 'gehöre': 88, 'bayerischen': 116, 'vertritt': 88, 'stehe': 1, 'angemessene': 28, 'Abbau': 102, 'Bürokratie': 28, 'automatisch': 28, 'relevanten': 158, 'einzigen': 104, 'geprüft': 54, 'wenigen': 163, 'Steuererklärungen': 102, 'Finanzamt': 11, 'Mord': 8, 'Walter': 51, 'Lübcke': 8, 'Schüsse': 8, 'Anwältin': 78, 'besonderes': 189, 'Rechtsextremismus': 119, 'Wächtersbach': 51, 'Behandlung': 50, 'Täter': 9, 'kleinen': 104, 'traf': 1, 'Danach': 155, 'fuhr': 145, 'Meter': 67, 'kurz': 80, 'Über': 83, 'normal': 9, 'Wirt': 51, 'erschüttert': 51, 'Ereignissen': 116, 'Kasseler': 51, 'Richter': 17, 'Ansichten': 119, 'verteidigt': 135, 'Opfer': 4, 'NSU': 86, 'Hessens': 51, 'belegen': 36, 'Gewalttaten': 135, 'schlimm': 9, 'Taten': 9, 'Kassel': 8, 'offensichtlich': 36, 'miteinander': 9, 'gestanden': 36, 'Robert': 17, 'Schäfer': 145, 'beschrieb': 36, 'Umständen': 88, 'Aussage': 95, 'Liste': 87, 'Vorfälle': 36, 'Festnahmen': 116, 'rechtsextreme': 119, 'Landeskriminalamt': 51, 'besondere': 33, 'gebildet': 54, 'Wohnungen': 78, 'rechtsextremen': 116, 'Szene': 17, 'Auskunft': 87, 'rechte': 36, 'festgenommen': 8, 'halben': 104, 'gestört': 36, 'Juni': 32, 'nächster': 116, 'Nähe': 4, 'Hauses': 161, 'erschossen': 8, 'Wiesbaden': 14, 'langjähriger': 51, 'Volker': 51, 'zeichnete': 51, 'kürzlich': 25, 'Auszeichnung': 87, 'Höhepunkt': 70, 'geäußert': 31, 'einverstanden': 135, 'bezahlen': 13, 'Anerkennung': 92, 'eingegangen': 36, 'Betreiber': 54, 'Terrorgruppe': 119, 'ermordet': 31, 'Einwanderer': 135, 'Umstände': 135, 'Mordes': 161, 'drängt': 33, 'Aufarbeitung': 87, 'gelernt': 8, 'hinterlassen': 36, 'März': 32, 'veranstaltet': 36, 'Titel': 74, 'wissen': 143, 'Ihnen': 9, 'vorgeworfen': 54, 'Realität': 54, 'sitzt': 18, 'Horst': 8, 'gerufen': 31, 'Temme': 51, 'Figur': 92, 'fielen': 116, 'Plötzlich': 36, 'E.': 8, 'Verfassungsschutz': 51, 'just': 116, 'Tode': 70, 'leitete': 145, 'Behörde': 25, 'wechselte': 145, 'Wunsch': 22, 'Verbindungen': 119, 'geringere': 33, 'entlassen': 31, 'taucht': 116, 'Name': 86, 'Markus': 14, 'jenem': 145, 'verschafft': 36, 'bestärkt': 54, 'Anschlag': 36, 'begehen': 104, 'namentlich': 51, 'Berichte': 78, 'E': 36, 'Akte': 135, 'mehrfach': 8, 'Erkenntnisse': 182, 'registriert': 102, 'handelte': 33, 'irakischen': 116, 'Asylbewerber': 102, 'weiterer': 189, 'Frühjahr': 32, 'Hessischen': 51, 'Landtag': 17, 'Untersuchungsausschuss': 104, 'einig': 9, 'vermeiden': 13, 'Günter': 51, '1995': 51, 'Abgeordneter': 51, 'Antwort': 50, 'vernommen': 8, 'erinnern': 9, 'Bedenken': 135, 'Ergebnisse': 182, 'vorsichtig': 9, 'gesagt': 31, 'überschaubar': 36, 'Umgang': 182, 'beweisen': 33, 'Veranstaltung': 17, 'Münchner': 51, '2.0': 36, 'unterschrieben': 36, 'Tod': 70, 'bedroht': 9, 'Ermittlungen': 135, 'stieß': 116, 'Später': 8, 'zwischenzeitlich': 116, 'hessische': 36, 'möglicher': 189, 'Solidarität': 119, 'anderthalb': 75, 'Haben': 9, 'gewisse': 33, 'Vertretern': 87, 'jüdischer': 189, 'Entschlossenheit': 87, 'demonstriert': 135, 'Einrichtungen': 158, 'Zeichen': 70, 'Freunde': 119, 'Dafür': 83, 'bot': 25, 'Etwa': 67, 'führenden': 87, 'Oder': 155, 'Urteil': 70, 'Gießen': 36, 'entschied': 18, 'Widerstand': 55, 'lesen': 62, 'Wortlaut': 135, 'entspreche': 36, 'teilweise': 158, 'Bürgermeisterin': 54, 'Gemeinde': 119, 'Plakate': 8, 'verloren': 35, 'anhören': 9, 'Demonstration': 87, 'lieber': 9, 'gelte': 167, 'Bürgermeister': 14, 'Gedenken': 4, 'Gegenteil': 10, 'erfahren': 8, 'Leipzig': 14, 'Oberbürgermeister': 17, 'Terror': 119, 'Polizei': 78, 'Kim': 14, 'Björn': 51, 'Prager': 51, 'entstehen': 28, 'Immer': 155, 'Hitze': 78, 'Gelände': 84, 'standen': 84, 'Anwohner': 78, 'Dirk': 51, 'nächsten': 163, 'dachten': 9, 'Hintergrund': 10, 'Nacht': 4, 'Einheit': 87, 'Jung': 25, 'fügte': 86, 'abermals': 22, 'Stadt': 93, 'erinnere': 84, 'schlug': 80, 'Stimmung': 36, 'Stadtteil': 18, 'Connewitz': 78, 'friedlich': 36, 'Beamten': 78, 'angegriffen': 31, 'Seehofer': 14, 'Bundesinnenminister': 25, 'Einem': 155, '38': 75, 'welchen': 28, 'Linksextremismus': 33, 'Linkspartei': 17, 'spielte': 1, 'Silvesternacht': 116, 'Nagel': 36, 'unterbrochen': 36, 'bisschen': 189, 'Provokation': 33, 'Jutta': 84, 'Ditfurth': 17, 'wies': 1, 'Versuch': 70, 'Vorwurf': 25, 'Leipziger': 51, 'unternommen': 36, 'formulierte': 33, 'zugelassen': 54, 'Auseinandersetzungen': 182, 'kritisieren': 13, 'übernahm': 25, 'Vorsitzende': 17, 'Sozialdemokraten': 17, 'hinten': 22, 'eingesetzten': 33, 'verhindert': 54, 'Silvester': 116, 'Diesmal': 155, 'Rücksicht': 78, 'Verluste': 17, 'Torsten': 51, 'Ursache': 135, 'Kreuz': 154, 'präsent': 36, 'Straftaten': 51, 'Extremismus': 18, 'liege': 84, 'Weise': 95, 'Katja': 51, 'Meier': 51, 'sah': 24, 'veranlasst': 36, 'Texte': 119, 'teile': 9, 'inhaltlich': 119, 'rechtfertigen': 13, 'Mitteln': 182, 'begegnet': 119, 'eins': 84, 'Extremisten': 135, 'MAD': 135, 'betreibt': 104, 'Bundestags': 161, 'vorlegen': 135, 'solle': 113, 'gleichfalls': 36, 'berichten': 9, 'Herbst': 32, 'erheblich': 2, 'außerdem': 28, 'Rang': 87, 'Bislang': 155, 'verzeichnet': 33, 'Gramm': 102, 'gegenwärtige': 33, 'teilte': 25, 'Vorrang': 80, 'ausgebaut': 54, 'Existenz': 95, 'echte': 36, 'Zäsur': 36, 'Antisemitismus': 92, 'Rassismus': 88, 'wachsen': 13, 'zweieinhalb': 75, 'Plänen': 116, 'Flüchtling': 51, 'Vorbereitung': 22, 'Straftat': 33, 'aufgenommen': 31, 'Bericht': 70, 'aktuell': 102, 'Angehörige': 78, 'ähnlichen': 88, 'handele': 1, 'Größenordnung': 87, 'Spektrum': 167, 'konzentriert': 33, 'Schwelle': 87, 'nehme': 88, 'Inhalte': 88, 'Netzwerken': 158, 'gegenwärtig': 33, 'identifiziert': 88, 'Religionsunterricht': 104, 'Konfessionen': 158, 'Hamburg': 14, 'Religionsunterrichts': 161, 'Religionsgemeinschaften': 158, 'muslimische': 33, 'jüdische': 78, 'evangelische': 158, 'voraussichtlich': 54, 'katholische': 158, 'gemeinsame': 92, 'kulturell': 161, 'begeistert': 119, 'Religion': 189, 'unterrichtet': 36, 'Kirche': 93, 'beteiligen': 13, 'gemeinsamen': 121, 'Hamburger': 74, 'berücksichtigt': 54, 'Schritt': 121, 'schwerer': 88, 'Mission': 87, 'festgestellt': 135, 'religiöse': 92, 'Bundesländern': 158, 'verschiedene': 78, 'bildeten': 1, 'niemanden': 36, 'Gebrauch': 18, 'muslimischen': 158, 'Bürgerschaft': 116, 'erklärt': 121, 'handelt': 24, 'neutralen': 87, 'beteiligten': 119, 'Religionen': 119, 'gemäß': 116, 'jeweiligen': 28, 'angehören': 158, 'genügend': 3, 'Voraussetzung': 28, 'großes': 189, 'hielt': 1, 'durchaus': 72, 'Heidelberger': 51, 'Härle': 36, 'Wechsel': 18, 'katholischen': 92, 'Aussicht': 116, 'Köpfen': 116, 'religiöser': 116, 'überprüft': 54, 'Übereinstimmung': 87, 'künftigen': 2, 'möglicherweise': 182, 'ausmacht': 119, 'streng': 119, 'häufig': 9, 'christlichen': 158, 'verantwortet': 116, 'Identität': 92, 'Grundsätzen': 88, 'erhebliche': 33, 'vertretenen': 158, 'blieb': 145, 'keineswegs': 33, 'verheerenden': 116, 'Brand': 70, 'gestellt': 31, 'Himmelslaternen': 84, 'Burger': 14, 'Düsseldorf': 51, 'Jens': 25, 'Frobel': 36, 'Neujahrsnacht': 116, 'Dach': 70, 'ausgelöst': 31, 'etliche': 88, 'freier': 189, 'Petra': 14, 'Arten': 87, 'bestimmte': 28, 'vielfältigen': 158, 'Flammen': 84, '48': 9, 'Nachkommen': 119, 'Gerd': 51, 'Hoppmann': 36, 'leitet': 51, '36': 75, 'Stunden': 122, 'Möglich': 36, 'schnelle': 33, 'Pressekonferenz': 145, 'Töchtern': 104, 'meldete': 84, 'umfangreiche': 51, 'Aussagen': 119, 'befürchten': 13, 'kursieren': 9, 'Kommentare': 119, 'Töchter': 9, 'ausführlich': 116, 'zumeist': 33, 'verboten': 54, 'damaligen': 27, 'offenes': 189, 'Luft': 78, 'präsentiert': 54, 'Ermittler': 116, 'Umfeld': 18, 'Angelegenheit': 33, 'versehen': 87, 'Vertrieb': 36, 'Himmel': 104, 'erlaubt': 3, 'wirken': 88, 'Erkenntnissen': 116, 'Mittwochmorgen': 154, 'Gebäude': 70, 'Feuerwehr': 87, 'diverse': 36, 'Jedenfalls': 155, 'Gebäuden': 116, 'gezogen': 54, 'zeitlichen': 88, 'einzelnen': 28, 'Person': 50, 'Sternen': 17, 'Eigentlich': 155, 'bauen': 13, 'fanden': 84, 'Trümmern': 116, 'untergebracht': 104, 'Freitag': 46, 'öffnen': 13, 'möchten': 9, 'schicken': 13, 'betonen': 13, 'Aufmerksamkeit': 33, 'Bevölkerung': 15, 'groß': 3, 'Spenden': 102, 'Disziplin': 33, 'Kritiker': 87, 'Folglich': 155, 'zählte': 84, 'links': 9, 'Mensch': 70, 'wahre': 119, 'Rest': 161, 'möge': 88, 'Rhythmus': 18, 'Stil': 18, 'gelehrt': 54, 'Kauf': 121, 'Gegenstände': 9, 'Lehre': 158, 'Sprache': 92, 'Situationen': 158, 'geschützt': 54, 'verdient': 1, 'Deshalb': 83, 'klaren': 87, 'Lust': 22, 'Spiel': 10, 'treibende': 36, 'Siehe': 36, 'gewinnen': 13, 'äußerst': 36, 'Schwarz': 116, 'Zug': 116, 'siehe': 88, 'Dingen': 116, 'weitaus': 36, 'Verstoß': 135, 'gefordert': 31, 'sicheren': 116, 'grüner': 54, 'vorbei': 154, 'ausweiten': 121, 'Montag': 46, 'Klausurtagung': 87, 'Seeon': 14, 'beschließen': 88, 'Angehörigen': 182, 'Vorstoß': 121, 'gewährleisten': 13, 'verlangt': 135, 'Verstöße': 135, 'hart': 9, 'draußen': 88, 'Prüfung': 50, 'gesetzlichen': 28, 'Ordnung': 92, 'zurückgewiesen': 135, 'Verteilung': 87, 'Flüchtlingspolitik': 189, 'bekämpft': 54, 'Kilometern': 67, 'praktiziert': 36, 'Bundespolizei': 116, 'notwendige': 167, 'bayerische': 135, 'Grenzpolizei': 33, 'Nachbarländern': 158, 'Wörter': 119, 'verfügt': 119, 'Begriffe': 158, 'verwenden': 13, 'Thekla': 158, 'Chabbi': 158, 'tief': 189, 'geprägten': 158, 'Sieger': 88, 'verschwinden': 9, 'Jugend': 9, 'Proteste': 55, 'autoritären': 87, 'Regimes': 161, 'lädt': 189, 'Begegnung': 87, 'Li': 104, 'einsetzt': 167, 'Autoren': 182, 'gegenwärtigen': 88, 'Klang': 87, 'Logik': 87, 'Schriftzeichen': 158, 'erzeugt': 9, 'Traditionen': 119, 'vermittelt': 54, 'mancher': 9, 'Verhältnisse': 119, 'begleitet': 8, 'frühen': 116, 'traditionelle': 88, 'verbinden': 88, 'streiten': 9, 'Öffentlichkeit': 87, 'Regierungen': 158, 'genug': 72, 'betrieben': 54, 'dient': 87, 'Instrument': 189, 'Chinesen': 182, 'Kulturen': 158, 'Kaiser': 36, 'Jahrhundert': 10, 'Reiches': 161, 'Zugleich': 155, 'vertraut': 158, 'machten': 9, 'gegründeten': 36, 'Aussprache': 87, 'moderne': 33, 'ansonsten': 54, 'spiegelt': 88, 'Harmonie': 119, 'Vertrauen': 47, 'gesprochen': 8, 'Ausländer': 102, '85': 75, 'Bruchteil': 104, 'Ton': 104, 'treffen': 13, 'langen': 104, 'alternative': 119, 'Volksrepublik': 116, 'Absicht': 87, 'ersetzen': 88, 'einführen': 33, 'liefern': 88, 'bekannten': 158, 'entdeckt': 36, 'bieten': 13, 'Christus': 84, 'erfreut': 119, 'weltweit': 121, 'gewaltigen': 116, 'ermöglichte': 88, 'quer': 87, 'Klassiker': 119, 'gelesen': 54, 'nationale': 92, 'repräsentiert': 9, 'erlauben': 88, 'Gefühle': 87, 'Besonderheit': 33, 'Sprachen': 158, 'sichtbaren': 33, 'Anordnung': 161, 'Signale': 116, 'solcher': 28, 'weist': 1, 'bedient': 161, 'Buch': 70, 'Zeitalter': 18, 'Computer': 189, 'wussten': 9, 'Machthaber': 116, 'kulturelle': 119, 'Eliten': 135, 'Aktivisten': 78, '1919': 145, 'Staatspräsident': 25, 'Xi': 25, 'Verfassung': 50, 'Kommunistischen': 36, 'erreichte': 145, 'Bereits': 116, 'sieben': 163, 'falsche': 33, 'Denken': 104, 'Zivilgesellschaft': 92, 'Einflussnahme': 135, 'Spiegel': 51, 'Rowohlt': 36, 'S.': 38, 'geb': 38, '[': 38, ']': 38, 'Tübingen': 189, 'untersucht': 135, 'Tanz': 86, 'Max': 86, 'Pechstein': 95, 'Bewegung': 95, 'Nachdruck': 158, 'Gang': 22, 'interessante': 9, 'Schau': 87, 'dokumentiert': 95, 'Fotos': 87, 'zwanzigsten': 18, 'Motiv': 167, 'interessieren': 9, 'kräftigen': 116, 'Farbe': 87, 'Körper': 154, 'verteilt': 102, 'Paare': 119, 'Natur': 92, 'de': 86, 'Zeuge': 51, 'Reise': 22, 'ganzes': 189, 'beeindruckt': 9, 'Erinnerungen': 95, 'Schönheit': 87, 'Respekt': 84, 'Gemeinschaft': 92, 'Erscheinung': 119, 'Beine': 88, 'Wellen': 119, 'Künstler': 95, 'Ballets': 86, 'Russes': 86, 'Serie': 86, 'inspiriert': 36, 'Ästhetik': 87, 'Anteile': 182, 'Mischung': 87, 'Figuren': 95, 'Zusammenspiel': 88, 'Studenten': 78, 'Magazin': 51, 'Daniel': 86, 'J.': 51, 'Katalog': 51, 'Zugehörigkeit': 87, 'Ideen': 182, 'konservativen': 36, 'Kräften': 119, 'versorgt': 104, 'Licht': 70, 'Protagonisten': 87, 'gebracht': 31, 'leider': 36, 'annähernd': 33, 'Offenbar': 155, 'Zuschauer': 18, 'Ereignis': 167, 'Unbekannte': 88, 'Herausgeber': 51, 'Kreisen': 116, 'großartige': 9, 'Gebieten': 158, 'Neues': 88, 'Aspekte': 87, 'Stücke': 119, 'Bewegungen': 18, 'Medium': 119, 'Ensemble': 167, 'Kulissen': 116, 'Bühne': 93, 'Tänzer': 119, 'ständig': 9, 'ausgezeichnet': 51, 'Stoffe': 88, 'Bemerkung': 36, 'bemerkenswert': 36, 'einzuführen': 33, 'interessanter': 9, 'Keller': 18, 'inszeniert': 86, 'Gut': 155, 'Familien': 15, 'Anhänger': 87, 'gewaltsam': 36, 'Demonstrationen': 135, 'Beethovens': 36, 'manches': 36, 'übernommen': 8, 'Berichterstattung': 25, 'vieles': 36, 'weg': 135, 'Straßen': 78, 'Theater': 47, 'Bonner': 116, 'Eingang': 154, 'Oper': 119, 'Story': 88, 'Kameras': 84, 'übertragen': 13, 'Geschehen': 167, 'Hinter': 104, 'erscheinen': 119, 'Kampagne': 33, 'Konkret': 33, 'Freiheit': 92, 'Gefangenen': 87, 'Gerichtssaal': 18, 'Papiere': 102, 'Gesichter': 88, 'gefällt': 88, 'Dinge': 9, 'Michel': 87, 'Meinung': 95, 'Sinn': 70, 'Regie': 87, 'Thesen': 135, 'Fakten': 119, 'Zeitzeugen': 119, 'begleiten': 9, 'achtziger': 163, 'beschreiben': 88, 'Publikum': 10, 'ruft': 1, 'Dame': 87, 'Besucher': 78, 'Akt': 104, 'Saal': 18, 'verpassen': 9, 'einzige': 3, 'Lösung': 50, 'verkörpert': 51, 'Spätestens': 155, 'Beobachtung': 33, 'Publikums': 161, 'Gott': 87, 'Leitung': 87, 'manchen': 158, 'vollkommen': 3, 'Herr': 54, 'egal': 3, 'mediale': 36, 'wunderbar': 189, 'Spannung': 87, 'beinahe': 119, 'roten': 104, 'digitalen': 28, 'Liebe': 95, 'Tochter': 95, 'fahren': 88, 'Strand': 154, 'entstand': 87, 'Technologiepark': 51, 'Sophia': 86, 'Antipolis': 86, \"d'Azur\": 119, 'örtliche': 135, 'einstige': 167, 'jenes': 88, 'Campus': 104, 'erkennen': 62, 'gefeiert': 54, 'Forscher': 88, 'Silicon': 18, 'Valley': 119, 'erstes': 8, 'Sowjetunion': 4, 'Barbara': 9, 'hört': 1, 'Areal': 154, 'aussieht': 189, 'Côte': 119, '47': 75, 'Hektar': 67, '1969': 145, 'beschäftigen': 88, 'Angestellte': 102, 'Umsatz': 67, 'Pariser': 25, 'Fortschritt': 189, 'gegenseitig': 9, 'ernüchternde': 33, 'Austausch': 88, 'allgemeine': 28, 'Schweizer': 2, 'milliardenschweren': 51, 'Paket': 189, 'Meer': 70, 'Leuten': 158, 'Einerseits': 155, 'Nachbarn': 121, 'Kombination': 87, 'Alpen': 116, 'beantworten': 88, 'Auswahl': 87, 'Standorts': 161, 'Analysen': 158, 'dreißig': 75, 'Region': 93, 'wirtschaftliche': 92, 'wissenschaftlichen': 158, 'Nachwuchs': 88, 'gesorgt': 31, 'Innovationen': 28, 'Team': 70, 'offiziellen': 87, 'Frustration': 119, 'Wirtschaftspolitik': 33, 'France': 87, 'Führung': 92, 'Frankreichs': 14, 'müde': 54, 'Versuche': 36, 'Glück': 70, 'Wirtschaftsminister': 51, 'La': 86, 'for': 86, 'Vier': 8, 'Standorte': 87, '1,2': 102, 'Technologien': 2, 'Autos': 104, 'selbständig': 9, 'angewiesen': 78, 'Bergen': 116, 'schafft': 88, 'automatisierten': 182, 'Diversität': 119, 'Autobahnen': 102, 'Senioren': 54, 'Touristen': 84, 'beeinflusst': 119, 'sammeln': 119, '1986': 51, 'Software': 87, 'Schwerpunkt': 70, 'Daimler': 102, 'gestalten': 13, 'ungefähr': 22, 'stecken': 28, 'bewegen': 13, 'Wirkungen': 135, 'Handlungen': 119, 'erfasst': 54, 'Emotionen': 33, 'anhand': 161, 'werten': 88, 'Maschinen': 116, 'riesige': 116, 'reichen': 28, 'entworfen': 54, 'Hotel': 189, 'Parkplätze': 102, 'Konzept': 167, 'Bauten': 87, 'siebziger': 163, 'Umgebung': 87, 'integrieren': 13, 'starkes': 189, 'Linett': 51, 'Wachow': 51, 'Kopp': 86, 'abends': 9, 'Tür': 80, 'Otto': 86, 'hinunter': 116, 'Nummer': 84, 'Tatort': 154, 'Richard': 74, 'Wasser': 167, 'ZDF': 87, 'feiert': 1, 'rechnen': 28, 'Redakteur': 51, 'Günther': 51, 'van': 51, 'erfolgreicher': 189, 'schauen': 13, 'Stefanie': 51, 'Florian': 51, 'Martens': 119, 'ermitteln': 9, 'Klöckner': 17, 'Teams': 88, 'Maja': 86, 'halbes': 189, 'spielten': 33, 'Jürgen': 14, 'P.': 51, 'achtzig': 75, 'stammen': 158, 'erzählen': 62, 'Nachfolge': 51, 'wusste': 1, 'Projekten': 119, 'verabschiedet': 135, 'Falls': 33, 'Regisseur': 70, 'Roland': 51, 'gerettet': 31, 'italienische': 25, 'dran': 88, 'verdeutlicht': 88, 'Wände': 78, 'All': 167, 'Gabriel': 25, 'wovon': 9, 'starken': 104, 'aufeinander': 9, 'gefüllt': 102, '83': 75, 'nächste': 51, 'Samstag': 46, 'Tschiller': 36, 'breite': 33, 'Baby': 189, 'Notwendigkeit': 87, 'schienen': 9, 'äußert': 18, 'geradezu': 88, 'Niedergang': 121, 'verbreitet': 158, 'Einmal': 155, 'bitte': 1, 'Option': 33, 'bessere': 72, 'Souveränität': 182, 'Erkenntnis': 87, 'Niemand': 155, 'wohnt': 1, 'nachhaltig': 88, 'Selbstbewusstsein': 167, 'stammt': 51, 'spielt': 72, 'Australien': 22, 'geflüchtet': 8, 'Job': 104, 'wartet': 189, 'Jugendliche': 78, 'ehemaliger': 189, 'Lehrerin': 87, 'Schmidt': 14, 'morgens': 104, 'Jugendlichen': 78, 'Simon': 51, 'Sattar': 14, 'bloß': 9, 'nötig': 3, 'Nix': 51, 'Ben': 51, 'fortan': 87, 'albanischen': 135, 'gefährliche': 88, 'fühlt': 9, 'Zeugen': 8, 'Bett': 167, 'Szenen': 86, 'Metropole': 116, 'Löhr': 14, 'Berlins': 84, 'Müller': 14, 'lobte': 25, 'kennt': 1, 'öffentlicher': 158, 'Boris': 25, 'Innenstadt': 84, 'Termin': 104, 'Standesamt': 121, 'DDR-Zeiten': 84, 'Lebensmittel': 88, 'Abstand': 102, 'Provinz': 185, 'Erfolge': 33, 'Siemens': 158, 'Tesla': 102, 'Umland': 18, 'wuchs': 84, 'Landesregierung': 33, 'Ämter': 9, 'Tausende': 67, 'Energie': 119, 'verwandeln': 13, 'abgebaut': 54, 'spätestens': 154, 'treten': 84, 'durchzusetzen': 33, 'Flächen': 158, 'riesigen': 104, 'Symbol': 189, 'Probleme': 72, 'Frieden': 121, 'Google': 104, 'Protest': 119, 'breit': 88, 'Überwachung': 182, 'Lindner': 14, 'Genau': 155, 'zählt': 121, 'Belegschaft': 33, 'Technologieunternehmen': 167, 'nahmen': 84, 'Leistungen': 28, 'jüngster': 9, 'regelmäßig': 54, 'organisiert': 54, 'aktiv': 54, 'vermeintliche': 119, 'Vergeltung': 189, 'gewertet': 54, 'unlängst': 104, 'Unmut': 119, 'Lügen': 9, 'bilden': 13, 'Gewerkschaft': 25, 'annehmen': 189, 'Management': 51, 'Sollten': 155, 'etablierten': 158, 'Gewerkschaften': 158, 'Streik': 87, 'Unternehmens': 161, 'wonach': 51, 'gezwungen': 54, 'Andere': 155, 'richteten': 119, 'Pläne': 50, 'Wegen': 161, 'Engagements': 87, 'Visier': 70, 'Times': 86, 'Mechanismus': 104, 'meldet': 104, 'angesetzt': 54, 'einzudämmen': 119, 'Treffen': 70, 'diskutiert': 54, 'San': 36, 'National': 36, 'Labor': 167, 'eingereicht': 54, 'zuständigen': 36, 'Kommunikation': 182, 'kündigte': 154, 'abzuhalten': 88, 'Gespräche': 119, 'beschränken': 119, 'galten': 119, 'breiten': 116, 'Früher': 155, 'einiger': 84, 'Vorstandschef': 51, 'Ross': 119, 'Beziehungen': 182, 'wider': 158, 'Rückzug': 18, 'Menschenrechten': 182, 'plante': 33, 'erwarteten': 88, 'Adam': 51, 'verkündet': 116, 'passieren': 13, 'Dessen': 36, 'ergab': 167, 'Diskussion': 50, 'engagieren': 13, 'Tisch': 154, 'verhandeln': 13, 'schrieben': 116, 'Organisatoren': 36, 'Mitbestimmung': 33, 'Standard': 88, 'Drang': 121, 'gefallen': 3, 'spielen': 72, 'Zuletzt': 155, 'arbeitenden': 33, '1983': 116, 'erhoben': 31, 'linken': 161, 'Elizabeth': 119, 'Warren': 9, 'Bernie': 9, 'Sanders': 8, 'Zuspruch': 36, 'vorbereitet': 54, 'angespannt': 36, 'Tötung': 27, 'Soleimanis': 55, 'verfolgte': 36, 'amtierende': 25, 'Benjamin': 25, 'Netanjahu': 48, 'Athen': 135, 'Militärs': 27, 'Morgen': 154, 'verbündeten': 158, 'Raketen': 78, 'Angriffen': 84, 'diplomatischen': 158, 'Verbündeten': 119, 'Teheran': 55, 'bewusst': 3, 'Riad': 116, 'Abu': 135, 'bereiten': 9, 'regionalen': 104, 'Teherans': 116, 'Qassem': 27, 'Soleimani': 55, 'heftigen': 116, 'schiitische': 78, 'betrachteten': 102, 'Möglichkeit': 50, 'vorbereiten': 88, 'beschließt': 88, 'wachsender': 33, 'Irak': 55, 'Hunderten': 84, 'getötet': 31, 'August': 32, 'zerstört': 54, 'Hizbullah': 27, 'iranische': 55, 'Ziele': 50, 'zusätzlich': 28, 'Spannungen': 116, 'zulassen': 13, 'drohte': 25, 'verteidigen': 13, 'politisches': 189, 'Überleben': 9, 'kämpft': 167, 'SMS': 119, 'War': 155, '2010er': 75, 'Whatsapp': 102, 'Co': 102, 'Gustav': 14, 'Bastian': 14, 'durchs': 9, '9': 180, 'verschickt': 102, 'verkündete': 1, 'Rekord': 104, 'Jan': 14, 'beispielsweise': 2, 'Apple': 102, 'Funktion': 87, 'App': 28, 'Nutzer': 102, 'kurze': 36, 'schreiben': 13, 'verändern': 13, 'Messenger': 28, '1989': 131, 'begrenzte': 33, 'gehörte': 74, 'Bewohner': 78, 'Erde': 119, 'täglich': 67, 'täglichen': 119, 'Nutzern': 102, 'Marktführer': 88, 'beliebte': 51, 'aktive': 33, 'ausreichen': 36, 'Übernahme': 22, 'fiel': 24, 'Werbung': 28, 'gleiche': 88, 'nutzt': 1, 'Methoden': 119, 'voran': 135, 'Stattdessen': 155, 'verknüpft': 36, 'umfassend': 119, 'Konkurrenten': 121, 'Umsätze': 102, 'etablieren': 88, 'Gerät': 189, 'finanzieren': 13, 'Anbieter': 2, '8': 180, 'kostenlos': 88, 'Gleiche': 167, 'Signal': 167, 'Acton': 86, 'Vordergrund': 18, 'anbietet': 102, 'erhobenen': 119, 'umfassende': 33, 'liest': 119, 'DSGVO': 33, 'Weil': 83, 'schlicht': 189, 'Schweiz': 116, 'übersetzt': 54, 'darzustellen': 33, 'erschienen': 86, 'RealT': 104, 'Beteiligungen': 119, 'Security': 88, 'Token': 11, 'Orten': 158, 'konkrete': 33, 'Anwendungen': 2, 'umgesetzt': 54, 'Kanada': 116, 'Jacobson': 189, 'schätzen': 9, 'finde': 1, 'Bitcoin': 2, 'begann': 74, 'Verwendung': 87, 'Währung': 36, 'zahlreichen': 135, 'Angebote': 28, 'kritisch': 119, 'beides': 88, 'funktioniert': 24, 'Wettbewerber': 182, 'GmbH': 135, 'Erhalt': 88, 'gehandelt': 54, 'einfacher': 189, 'Gibt': 104, 'übrig': 102, 'Immobilienmarkt': 154, 'dramatische': 33, 'Regionen': 185, 'Finanzkrise': 185, 'stabil': 102, 'Automobilindustrie': 158, 'Häuser': 78, 'billig': 9, 'Natürlich': 83, 'natürlich': 19, 'anstatt': 13, 'Künftig': 88, 'Dividende': 11, 'Dax': 18, 'versammelten': 84, 'Aktionäre': 16, 'anzuheben': 102, 'Hürkamp': 51, 'Commerzbank': 14, 'Dax-Konzerne': 102, 'Geschäftsjahr': 167, 'Vom': 155, 'Anteilseigner': 182, 'Steigerung': 87, 'Rückgang': 104, 'dürften': 11, 'Dividenden': 11, 'fließen': 28, 'Ausschüttungen': 33, 'vergleichbaren': 116, 'investiert': 54, 'langjährigen': 119, '2008': 131, 'niedrig': 102, 'Dividendenrendite': 2, 'Aktienkurs': 22, 'Bloomberg': 51, 'gefolgt': 116, 'Lufthansa': 182, 'Rendite': 102, '0,3': 75, 'DIE': 88, 'Fiskus': 102, 'Pflege': 11, 'Pflegekosten': 28, 'übersteigt': 189, 'Aufwendungen': 11, 'Zumindest': 155, 'trugen': 84, 'Einkünfte': 28, 'Heim': 70, 'wären': 13, 'Schnitt': 18, 'Tasche': 28, 'Pflegekräfte': 28, 'Verband': 51, 'Reichen': 28, 'springt': 189, 'Bundesamt': 167, 'belaufen': 84, 'Verdienst': 167, 'I': 86, 'gezahlt': 54, 'Kind': 70, '5000': 67, 'freiwilligen': 116, 'Arme': 87, 'greifen': 13, 'Steuerberater': 88, 'Ärzte': 78, 'Medikamente': 28, 'haushaltsnahe': 11, 'außergewöhnliche': 11, 'Belastungen': 11, 'geltend': 11, 'akzeptieren': 13, 'Finanzämter': 11, 'eingestuft': 8, 'Bevor': 54, 'richtet': 28, 'entstandenen': 88, 'reduzieren': 13, 'häusliche': 36, 'Haushalt': 10, 'angestellt': 54, '4000': 67, 'Wohnen': 88, 'mitunter': 88, '7000': 67, 'Einkommensteuer': 11, 'Aufgrund': 119, 'bemerkbar': 36, '1992': 145, 'Grad': 102, 'Wesentlichen': 18, 'Kriterien': 33, 'Ehrhardt': 14, 'Majid': 14, 'Furcht': 80, 'vorigen': 131, 'ungewöhnlich': 3, 'späteren': 104, 'amerikanischer': 145, 'Flagge': 36, 'Nichts': 189, 'Luftangriff': 36, 'Bagdad': 145, 'Führer': 87, 'Revolutionswächter': 92, 'verfolgt': 31, 'warteten': 84, 'Typs': 161, 'abgeschossen': 31, 'ergriffen': 135, 'Toten': 84, 'al': 27, 'gezielte': 158, 'Mike': 25, 'Pompeo': 25, 'gegangen': 22, 'bevorstehende': 135, 'strategisch': 36, 'Risiken': 182, 'brach': 145, 'Verhandlung': 54, 'Atomabkommen': 167, 'Vorgänger': 70, 'Obama': 8, 'offenkundig': 36, 'größer': 189, 'Nutzen': 88, 'geschworen': 36, 'beenden': 13, 'Stärke': 87, 'Sanktionen': 135, 'zwingen': 13, 'Weltwirtschaft': 2, 'Regime': 55, 'John': 95, 'Bolton': 27, 'schien': 1, 'republikanische': 167, 'Wenige': 8, 'Nordkorea': 102, 'Kongress': 135, 'interpretiert': 54, 'Iraks': 161, 'geplante': 25, 'Washingtons': 51, 'böse': 36, 'Mehrere': 155, 'griffen': 84, 'setzten': 33, 'vierzig': 75, '52': 75, 'Diplomaten': 78, 'Tage': 122, 'Revolution': 92, 'irakische': 116, 'Hunderte': 145, 'Saudi-Arabien': 135, 'hob': 1, 'zitierte': 1, 'Beratern': 116, 'Womöglich': 8, 'führten': 158, 'gelang': 1, 'Impeachment': 167, 'angesichts': 158, 'gelassen': 54, 'zuversichtlich': 135, 'kosten': 13, 'dauerte': 1, 'Islamische': 119, 'Struktur': 87, 'verbindet': 119, 'derjenige': 33, 'ausgeweitet': 54, 'Außenpolitik': 158, 'gewählten': 135, 'Revolutionsführer': 36, 'reguläre': 36, 'beauftragt': 104, 'Selbstverständnis': 119, 'Jerusalem': 22, 'Akteure': 182, 'Zellen': 18, 'Islamischen': 27, 'schnellen': 104, 'regiert': 135, 'überall': 3, 'klang': 167, 'erinnerte': 1, 'Zeitschrift': 86, 'sicherte': 104, 'reicht': 24, 'Botschafter': 25, 'Freude': 22, 'Kämpfen': 84, 'Al': 8, 'Qaida': 119, 'fühlte': 9, 'begannen': 84, 'Delegation': 8, '2002': 36, '2003': 131, 'Nachbarland': 167, 'Herrschaft': 92, 'mächtige': 36, 'griff': 84, '2004': 145, 'Fünftel': 189, 'syrische': 55, 'Passage': 116, 'sorgte': 84, 'Afghanistan': 116, 'vorübergehend': 145, 'Zuflucht': 84, 'Terroristen': 119, 'geriet': 119, 'außer': 135, 'schiitischen': 116, 'Amerikanern': 36, 'geschrieben': 8, 'rief': 116, 'Bitte': 119, 'Weiterleitung': 87, 'bewahrt': 36, 'Hände': 95, 'Rebellen': 135, 'Migrationskrise': 182, 'Griff': 121, 'Habeck': 17, 'Interview': 70, 'Allgemeinen': 18, 'Sonntagszeitung': 14, 'griechischen': 135, 'aufnehmen': 88, 'Idlib': 185, 'Nordwesten': 18, 'Syriens': 158, 'Städten': 185, 'gedroht': 31, 'griechische': 54, 'Herausforderung': 50, 'Mitsotakis': 135, 'Bewältigung': 87, 'getreten': 84, 'skeptisch': 33, 'Neuerungen': 54, 'Reformen': 135, 'Nikas': 54, 'Ministerium': 167, 'Festland': 116, 'Lagern': 116, 'Skepsis': 33, 'gelöst': 54, 'Ansatz': 121, 'ziehen': 62, 'zogen': 116, 'Instanz': 87, 'ablehnende': 33, 'beschleunigen': 13, 'solange': 33, 'gewahrt': 189, 'bleibe': 1, 'Jurist': 189, 'reformiert': 54, 'ausgebildet': 102, 'Ressourcen': 182, 'stärksten': 154, 'betroffenen': 158, '300': 67, 'durchschnittliche': 102, 'nötige': 33, 'analysiert': 36, 'zurückgeschickt': 54, 'angekommen': 36, 'individuell': 28, 'syrischen': 185, 'individuelle': 28, 'Krankenhäusern': 158, 'Versorgung': 2, '99': 75, 'lebenden': 116, 'antreten': 88, 'Anreiz': 121, 'gesenkt': 54, 'Solange': 155, 'fließt': 88, 'unbedingt': 9, 'schließen': 13, 'jeweils': 158, 'EU-Türkei-Abkommen': 167, 'türkischer': 36, 'Je': 155, 'ankommen': 9, 'desto': 155, 'gemessen': 154, 'bewältigen': 88, 'erfahrene': 116, 'Besser': 102, 'geschafft': 8, 'effizient': 158, 'EU-Staaten': 158, 'sage': 1, 'allzu': 189, 'Einladung': 116, 'Vorschlag': 121, 'nein': 88, 'Eingeständnis': 167, 'Anlauf': 116, 'lasse': 28, 'obsolet': 33, 'vorgesehene': 135, 'Abschluss': 121, 'Wirklichkeit': 93, 'Knaus': 51, 'kämen': 9, 'Geduld': 36, 'sinnvoll': 28, 'Winter': 18, 'Rat': 51, 'gesucht': 54, 'Ähnlich': 36, 'Klagen': 119, 'Gerichtshof': 121, 'unterstützen': 13, 'Balkan-Route': 119, 'kroatischen': 51, 'Zustände': 116, 'merkt': 1, 'Kroatien': 185, 'Stichentscheid': 18, 'abgestimmt': 54, 'Grabar-Kitarovic': 17, 'Zoran': 25, 'Milanovic': 25, 'Flügel': 87, 'Demokratische': 36, 'HDZ': 17, 'Andrej': 25, 'Plenkovic': 25, 'Kroatiens': 25, 'verbreitete': 119, 'Unzufriedenheit': 33, 'stößt': 1, 'Äußerungen': 119, 'Parlamentswahl': 51, 'Staates': 161, 'ausgesetzt': 78, 'sinkt': 102, 'Geburtenrate': 102, 'Branchen': 158, 'Tourismus': 158, 'Mangel': 154, 'Kroaten': 84, 'österreichischen': 161, 'warnte': 25, 'Hoteliers': 116, 'mitgeteilt': 135, 'anzunehmen': 88, 'Löhne': 102, 'Analyse': 87, 'vergeben': 54, 'Einwohnern': 116, 'beschlossen': 31, 'kenne': 9, 'Judy': 86, 'Garland': 9, 'Dutzende': 84, 'Filme': 86, 'Videos': 87, 'Ihrer': 9, 'Film': 70, 'Fans': 88, 'herstellen': 13, 'sucht': 1, 'Sängerin': 36, 'Ja': 155, 'Richtige': 167, 'bestand': 18, 'gerecht': 54, 'froh': 9, 'üben': 36, 'meinem': 145, 'Auto': 70, 'mein': 9, 'prinzipiell': 119, 'Pianist': 51, 'liebsten': 154, 'Können': 9, 'erwartete': 33, 'achten': 33, 'Trotzdem': 155, 'Kindheit': 95, 'Auftritte': 87, 'Auftritt': 104, 'Vielzahl': 87, 'konzentrieren': 88, 'unsicher': 3, 'Darauf': 88, 'unterhalten': 9, 'geschuldet': 36, 'Leinwand': 33, 'Mein': 155, 'möglichst': 28, 'denke': 1, 'Produzenten': 88, 'ausgeliefert': 36, 'heutzutage': 189, 'Einsamkeit': 84, 'schön': 3, 'Chaos': 167, 'kümmern': 13, 'Erwartungen': 33, 'rückt': 33, 'erlebt': 8, 'Zuhause': 86, 'aufzubauen': 189, 'kompliziert': 51, 'dich': 86, 'dachte': 9, 'glücklich': 9, 'erkannte': 1, 'mitten': 18, 'absoluten': 88, 'krank': 189, 'eigentlichen': 36, 'Feuilleton': 86, 'Österreichs': 161, 'bricht': 51, 'Michaela': 14, 'Korruption': 135, 'Vorhaben': 167, 'verankert': 189, 'erschweren': 88, 'parlamentarischen': 104, 'parallel': 121, 'Wiener': 154, 'Finanzvorstand': 51, 'anonyme': 33, 'Anzeige': 87, 'günstige': 102, 'tschechische': 135, 'weisen': 9, 'Affäre': 87, 'angeboten': 36, 'sozialdemokratischen': 25, 'staatlicher': 33, 'Transparenz': 116, 'börsennotierten': 102, 'dadurch': 28, 'Präferenz': 33, 'Motto': 86, 'engagiert': 158, 'Roten': 116, 'Schwarzen': 104, 'Betriebsrat': 88, 'stellvertretenden': 51, 'Jörg': 51, 'Politikern': 158, 'interessiert': 3, 'Dienste': 182, 'Entsprechend': 36, 'geschadet': 36, 'halte': 1, 'Parteispitze': 154, 'Kanzleramt': 18, 'Rund': 75, 'eingehen': 88, 'russischen': 27, 'österreichische': 36, 'Mobilität': 88, 'Bernd': 51, 'Prozesse': 182, 'scheinbar': 119, 'markieren': 33, 'klarer': 189, 'Schülern': 116, 'jüngere': 9, 'schlagen': 88, 'genannten': 116, 'verweisen': 33, 'zugrunde': 88, 'Phänomene': 119, 'Jahrtausendwende': 22, 'dreißiger': 163, 'Roman': 74, 'konzipiert': 36, 'International': 36, 'Konferenz': 33, 'globalen': 2, 'diskutieren': 13, 'Auffassung': 22, 'langjährige': 51, 'Beim': 88, 'geschehen': 3, 'bedeutendsten': 104, 'Wissenschaftler': 158, 'legten': 84, 'Anstieg': 121, 'Atmosphäre': 87, 'zeigten': 158, 'stiegen': 84, 'geeignet': 33, 'Energien': 50, 'Planeten': 119, 'dienen': 88, 'verwandelt': 104, 'hergestellt': 54, 'neunzehnten': 74, 'Realitäten': 88, 'erzeugen': 88, 'Kapitalismus': 121, 'Gegenwart': 92, 'menschlichen': 88, 'mitsamt': 119, 'Kategorien': 119, 'Hinsicht': 33, 'spätere': 33, 'menschliche': 33, 'Waren': 102, 'reduziert': 33, 'Dank': 87, 'fossilen': 182, 'Konsequenzen': 33, 'Unterscheidung': 87, 'Moderne': 84, 'Trennung': 158, 'anthropozänen': 33, 'seinerseits': 167, 'Zusammenwirken': 18, 'Phänomen': 167, 'Augen': 80, 'Bewusstsein': 167, 'untereinander': 158, 'Technosphäre': 33, 'Wärme': 119, 'digitale': 28, 'gesellschaftliche': 72, 'Cloud': 88, 'Wissenschaft': 92, 'entwickelten': 88, 'beziehen': 9, 'äußere': 9, 'Finanzmärkte': 88, 'Wissens': 161, 'beruhen': 158, 'Eigenschaften': 54, 'zurzeit': 119, 'Werden': 88, 'Denkens': 161, 'definieren': 9, 'existiert': 116, 'Ansätze': 102, 'ethische': 119, 'verordnet': 33, 'Arbeitsweisen': 102, 'Typ': 70, 'Versprechen': 167, 'soziale': 72, 'Start': 154, 'Wahlgang': 18, 'absolute': 33, 'einfache': 33, 'Dienstag': 46, 'genügt': 88, 'Sozialisten': 36, 'UP': 87, 'Koalitionspartner': 36, 'Pablo': 25, 'Iglesias': 25, 'endgültig': 135, 'rückgängig': 88, 'konservative': 51, 'Zusammen': 8, 'seitdem': 116, 'Arbeitszeiten': 116, 'Geringverdiener': 28, 'Mindestlohn': 11, '1200': 102, 'jegliche': 88, 'Steuerbelastung': 33, 'Arbeiter': 84, 'ursprünglich': 102, 'Steuer': 50, 'geplant': 54, 'Fahrt': 22, 'niedrigsten': 154, 'Volkswirtschaft': 2, 'verglichen': 102, '1,4': 75, '2021': 11, 'Prognose': 102, 'Haushaltsdefizit': 167, '2,3': 75, 'abschließen': 102, 'dringend': 54, 'Rentenreform': 25, 'Spielraum': 28, 'Ministerpräsidentin': 36, 'stellvertretender': 25, 'Sozialpolitik': 135, 'Kabinett': 167, 'suchen': 13, 'heftige': 119, 'Budget': 167, 'Datenschutz': 54, 'Verordnung': 87, 'Stolz': 158, 'Wettbewerb': 158, 'Bürgern': 2, 'meinte': 88, 'hilfreich': 36, 'Selbstbestimmung': 135, 'Daneben': 155, 'daraus': 28, 'Ärger': 88, 'Menge': 84, 'Gesprächen': 116, 'Sind': 9, 'Zugriff': 33, 'Ausmaß': 167, 'bestehende': 102, 'digitaler': 2, 'Urteile': 116, 'Strahlkraft': 116, 'Meinungsfreiheit': 92, 'bewirkt': 33, 'eingeschränkt': 54, 'Berufung': 87, 'zurückgezogen': 8, 'Bundesverwaltungsgericht': 154, 'Gerichtshofs': 161, 'Befürworter': 161, 'Vorteile': 28, 'Jemen': 135, 'Einheiten': 116, 'Institution': 33, 'entscheidend': 36, 'Mittel': 121, '1980': 145, '1988': 145, 'Front': 84, 'gekämpft': 8, 'Brücken': 9, 'Wiederaufbau': 88, 'zerstören': 88, 'einsetzen': 28, 'Chatam': 51, 'Anbia': 51, 'Schätzungen': 22, 'ehemalige': 25, 'errichten': 33, 'Öl-': 102, 'Betriebe': 2, 'beherrschen': 9, 'Dürre': 87, 'Tochtergesellschaft': 33, '2010': 131, 'Ebenfalls': 51, 'Metro': 167, 'verließen': 145, 'Technologie': 33, 'nannten': 84, 'geschah': 9, 'umgehen': 88, 'dunklen': 87, 'verglich': 36, 'verpflichtet': 135, 'Exil': 119, 'Leibniz-Gemeinschaft': 87, 'bunten': 87, 'Zur': 155, 'München': 14, 'Hochschulen': 182, 'Max-Planck-Gesellschaft': 88, 'Gottfried': 86, 'Wilhelm': 86, 'teure': 9, 'dauerhaft': 28, 'mangelnde': 182, 'gesamte': 167, 'Reihen': 116, 'Eignung': 33, 'getragen': 54, 'Safe-Institut': 167, 'Münchener': 135, 'Essen': 70, 'Wirtschaftsforschungsinstitute': 33, 'Zusammenbruch': 161, 'Einiges': 135, '120': 67, 'Finance': 51, 'nachhaltige': 2, 'Europäische': 2, 'Goethe-Universität': 87, 'finanziert': 54, 'erforschen': 88, 'betrachten': 13, 'moderner': 88, 'Institutionen': 92, 'Perspektiven': 158, 'betrachtet': 54, 'Direktorin': 51, 'juristische': 88, 'umfasst': 33, 'aufgestellt': 36, 'ökonomischen': 158, 'beraten': 119, 'Nachteil': 121, 'Gemeinsamen': 116, 'stimmten': 17, 'nationaler': 119, 'Professoren': 36, '62': 75, 'Verantwortlichen': 33, 'eingebracht': 54, 'Planungssicherheit': 119, 'gebunden': 119, 'enge': 33, 'Wissenschaftlern': 158, 'of': 74, 'gesetzt': 31, 'weichen': 88, 'erheben': 13, 'Erhard': 86, 'Moral': 33, 'Sozialen': 88, 'Marktwirtschaft': 135, 'Konrad': 51, 'Adenauer': 36, 'Ludwig': 86, 'Konflikte': 158, 'Erinnerung': 74, 'Interessengruppen': 119, 'Ministers': 161, 'Einzelnen': 18, 'moralische': 72, 'Überzeugungsarbeit': 88, 'äußerte': 1, 'starker': 189, 'Haltung': 72, 'Weimarer': 51, 'organisierte': 119, 'wichtiges': 189, 'Zurückhaltung': 36, 'Renten': 11, '1957': 116, 'Warnungen': 87, 'moralischen': 87, 'fünfziger': 75, 'Entwurf': 121, 'Scheitern': 84, 'Band': 70, 'somit': 88, 'wirtschaftlicher': 33, 'gerät': 84, 'Wohlstand': 121, 'Zielen': 158, 'Hrsg': 86, 'Spielbanken': 167, 'Oliver': 18, 'Stuttgart': 145, 'stattfinden': 135, 'staatlich': 87, 'Standorten': 158, 'Schleswig-Holstein': 119, 'Beteiligten': 88, 'zuerst': 145, 'drohten': 88, '1982': 51, 'Bremen': 116, 'Spieler': 189, 'erhielten': 84, 'liberale': 135, 'angenommen': 54, 'ausgeben': 102, 'ignorieren': 88, 'endlich': 13, 'Jack': 119, 'Akzeptanz': 2, 'Gäste': 84, 'gearbeitet': 31, 'gerieten': 119, 'demonstrieren': 135, 'Klasse': 92, 'Zorn': 104, 'richtete': 1, 'Unterdrückung': 84, 'entgegenwirken': 33, 'Quellen': 36, 'Villa': 87, 'gesteckt': 54, 'getöteten': 36, 'Station': 36, 'kritische': 135, 'beschloss': 33, 'ausländischen': 116, 'aufgerufen': 36, 'Prediger': 135, 'Wut': 9, 'Regierungschefs': 158, 'berühmten': 104, 'Gast': 51, 'Kommando': 116, 'Rache': 78, 'blutigen': 119, 'Bevormundung': 135, 'Würde': 92, 'Protestbewegung': 87, 'Stellung': 87, 'Demonstranten': 78, 'eure': 9, 'fern': 119, 'Mode': 189, 'Müll': 119, 'stört': 9, 'Jana': 8, 'Nils': 51, 'Textilien': 102, 'Badaga': 86, 'verrät': 9, 'Wurzeln': 87, '1984': 18, 'ökologischen': 33, 'fair': 88, 'produziert': 88, 'Anfängen': 88, 'nachhaltigen': 88, 'Materialien': 182, 'Grundlage': 50, 'angeht': 9, 'Marketing': 88, 'Wohnzimmer': 18, 'erforderlich': 33, 'Fairness': 189, 'laufe': 36, 'Weihnachtsgeschäft': 167, 'richtige': 189, 'Gewinn': 11, 'Portugal': 185, 'Zielgruppe': 33, 'Produkt': 189, 'Nachhaltigkeit': 92, 'keinerlei': 9, 'Philosophie': 33, 'Zurück': 155, 'Fashion': 116, 'Produkten': 158, 'analog': 88, 'gestern': 36, 'Küche': 87, 'Marc': 86, 'Eckert': 86, 'Aicher': 51, 'Hochschule': 51, 'Bulthaup': 51, 'Küchen': 119, 'Kochen': 121, 'Orte': 189, 'schlichten': 189, 'Wand': 87, 'hängen': 116, 'Messer': 104, 'kennengelernt': 36, 'Koch': 51, 'Raums': 161, 'denkt': 1, 'weiße': 84, '5,5': 75, 'anfangen': 88, 'Onkel': 8, 'arbeitete': 145, 'schwarzen': 119, '1972': 51, 'Fronten': 84, 'Fabrik': 87, 'schönen': 119, 'verbringen': 116, 'essen': 9, 'wem': 9, 'hören': 62, 'Decke': 8, 'meines': 88, 'widerspricht': 121, '49': 75, 'Instagram': 119, 'mögen': 9, 'junger': 189, 'Insofern': 155, 'Smartphone': 189, 'Schanghai': 18, 'Loch': 189, 'Hölle': 119, 'Mallacoota': 145, 'saßen': 145, 'Brände': 145, 'deutsches': 189, 'Ehepaar': 167, 'Australiens': 158, 'dicht': 102, 'blicken': 9, 'rote': 88, 'Bildern': 88, 'Cosima': 8, 'Schroller': 8, 'Ehemann': 8, 'Gipsy': 116, 'Point': 116, 'eingeschlossen': 84, 'Fenster': 116, 'abgeschnitten': 116, 'Panik': 84, 'spürten': 9, 'australischen': 116, 'Melbourne': 145, 'längeren': 104, 'Urlaub': 18, 'endete': 84, 'Hafen': 104, 'jüngeren': 116, 'gewaltige': 36, 'Passagiere': 78, 'Ankunft': 22, 'Manche': 155, 'gehörten': 121, 'Ersten': 161, 'Freundin': 95, 'gereist': 22, 'Klimawandels': 161, 'zeige': 33, 'Premierminister': 25, 'Morrison': 25, 'inmitten': 161, 'Brandkatastrophe': 116, 'Gemeinden': 158, 'laufenden': 102, '3000': 102, 'Bundesstaat': 18, 'Victoria': 84, 'South': 145, 'Wales': 145, 'landesweit': 51, 'Canberra': 116, 'Bewohnern': 116, 'Häusern': 116, 'Gegenden': 158, 'befand': 1, 'Verlassen': 161, 'Bus': 18, 'Rückkehr': 22, 'Asche': 78, 'geschickt': 78, 'Abschied': 189, 'Tränen': 84, 'euch': 9, 'löschte': 84, 'Dutzend': 67, 'drehte': 9, 'Funken': 189, 'Bäume': 33, 'Nächte': 116, 'Hotels': 33, 'unterstützte': 51, 'Australier': 51, 'empfunden': 54, 'bezahlt': 54, 'Helden': 88, 'absehbar': 36, 'Schiff': 167, 'überführt': 36, 'Karlsruhe': 145, 'Echo': 167, 'verheerend': 36, 'verschwunden': 189, 'Bundestagswahl': 7, 'Ostpolitik': 92, 'Strömungen': 119, 'Profil': 189, 'Konkurrenz': 84, 'Bundesverband': 36, 'Umweltschutz': 119, 'Club': 51, 'Zerstörung': 87, 'CDU-Bundestagsabgeordnete': 51, 'Herbert': 25, 'Gruhl': 8, 'veröffentlichte': 145, '1975': 145, 'Fraktion': 17, 'Sozialdemokrat': 25, 'Helmut': 14, 'Wehner': 14, 'Kreise': 18, 'Landwirte': 78, 'Milieu': 8, 'Anschluss': 18, 'Großstädten': 116, '*': 14, 'Bielefeld': 145, 'Beckmann': 145, 'lebte': 145, 'lernte': 119, 'Joseph': 51, 'Joschka': 17, 'Fischer': 17, 'Oft': 155, '1968': 51, 'Protokoll': 51, 'gewählt': 31, 'Nordrhein-Westfalen': 116, 'Parteivorsitzende': 17, 'Politische': 36, 'Vereinigung': 87, 'Deutscher': 51, 'Schriftsteller': 51, 'Landtagswahlen': 84, 'überwinden': 13, 'scheiterte': 145, 'rhetorisch': 88, 'taktisch': 36, 'Ebermann': 14, 'Kommunalwahlen': 116, 'grüne': 17, 'Wind': 104, 'Rathaus': 167, 'Beratungen': 87, 'dieselbe': 9, 'dürfe': 113, 'forderten': 116, 'lehnten': 116, 'ökologisch': 33, 'Europawahl': 8, 'Forum': 167, 'Jungen': 104, 'festgelegt': 54, 'Landtagswahl': 7, 'Abstimmungen': 116, 'Hinweise': 50, 'Versammlung': 87, '17': 180, 'Verlängerung': 33, 'Hoffnungen': 33, 'Fernsehen': 18, 'Müttern': 158, 'Beschlüsse': 182, 'selben': 145, 'Schily': 17, 'Gleichwohl': 155, 'Franz': 51, 'Josef': 135, 'Sozialdemokratie': 36, 'Milieus': 116, 'Fritz': 51, 'Rau': 86, 'Wahlkampf': 18, 'Veranstalter': 36, 'auftreten': 116, 'Viel': 155, 'Reden': 36, 'größter': 189, 'Köln': 116, 'Dortmund': 84, 'bekamen': 84, 'Jahrgang': 36, 'dahin': 145, 'besetzten': 158, 'verlangten': 119, 'sexuelle': 119, 'rufen': 13, 'Bundestagsfraktion': 116, 'Sitzungen': 87, 'Journalisten': 84, 'Positionen': 158, 'Rhetorik': 87, 'Claudia': 36, 'Roth': 51, 'Christen': 119, 'Kretschmann': 36, 'Vorsitzender': 25, 'Widerspruch': 18, 'Haufen': 116, 'Volkspartei': 36, '1987': 8, 'unabhängige': 36, 'präsentierte': 86, 'Fraktionsvorsitzende': 51, 'brauche': 9, 'Gegenspieler': 51, 'tot': 3, 'Gesicht': 167, 'getrennt': 119, 'Bündnis': 70, 'angetreten': 8, 'linke': 17, 'Schäuble': 51, 'Verfasser': 51, 'Traum': 51, 'Gedichte': 86, 'weiten': 104, 'schützt': 80, 'Buth': 86, 'Blatt': 189, 'Gedicht': 70, 'Ihn': 36, 'Einwohner': 67, '1939': 145, '1941': 145, 'starb': 145, 'Geschichten': 95, 'Bauern': 3, 'versetzt': 36, 'klagen': 33, 'Sonne': 119, 'Bleibt': 88, 'Gier': 119, 'Jede': 155, 'klingt': 24, 'sterben': 88, 'Blut': 18, 'Humor': 119, 'Tages': 161, 'Ohren': 116, 'Weiß': 86, 'Architekt': 51, 'Jude': 9, '1942': 145, 'überlebte': 145, 'Befreiung': 4, 'Lagers': 4, 'Städtebau': 119, 'erwähnt': 36, 'Mächtigen': 116, '1922': 145, 'Material': 116, 'ältere': 84, 'Nationalsozialismus': 161, 'Kontinuität': 88, 'Freie': 36, 'Großstadt': 87, 'seltsame': 36, 'Architekten': 78, 'Überzeugung': 33, 'Städte': 158, 'anschließend': 116, 'herausragende': 119, 'erheblichen': 104, 'Elite': 92, 'voneinander': 88, 'nationalsozialistischen': 116, '1934': 84, 'Reich': 86, 'Hoheit': 119, '1960': 116, 'Kommunen': 2, '1971': 135, 'außerordentlich': 102, 'kritischer': 189, 'Kommentar': 104, 'rührt': 33, 'entsprach': 189, 'Epoche': 33, 'Theorie': 33, 'Hölderlin': 86, 'braunen': 84, 'Bordeaux': 86, 'Geburt': 22, 'lebendig': 9, 'Spuren': 87, 'Hölderlins': 9, 'letzter': 51, 'Meyer': 8, 'Erstens': 36, 'Turm': 104, 'entdecken': 88, 'Wahrscheinlich': 155, 'du': 86, 'beider': 158, 'hiesigen': 18, 'Gegend': 87, 'hebt': 51, 'Franzosen': 102, 'worauf': 9, 'Garonne': 86, 'schöne': 119, '1943': 145, 'schlechter': 3, 'Fortsetzung': 87, 'Elend': 189, 'Bruno': 51, 'fortsetzen': 88, 'Schreiben': 104, 'unfähig': 88, 'Menschenwürde': 92, 'Aktualität': 9, 'Massaker': 70, '1944': 145, 'Sphäre': 116, 'meinten': 119, 'Menschheit': 189, 'Goethe': 86, 'umgebracht': 8, 'nachvollziehbar': 88, 'Hitlers': 36, 'Armen': 87, 'äußersten': 116, 'Dritten': 161, 'vergast': 8, 'Fuß': 88, 'Minute': 36, 'Russland': 185, 'Damen': 119, 'Überlebende': 78, 'Weltkriegs': 161, 'antisemitischen': 119, 'Witz': 36, 'weibliche': 189, 'Hof': 18, 'liefen': 84, 'Aufenthalt': 104, 'Adorno': 88, 'retten': 62, 'Lob': 88, 'afrikanischen': 158, 'Philosoph': 51, 'wirkliche': 88, 'wünschte': 9, 'schwarze': 9, 'Haiti': 145, 'Denkmal': 70, 'dreht': 88, 'scheinen': 9, 'Heidelberg': 86, 'beobachten': 9, 'Weiter': 155, 'Dichter': 119, 'Weder': 155, 'Strafe': 189, 'Untreue': 87, 'Literatur': 92, 'verleihen': 87, 'enttäuscht': 54, 'Diskurs': 121, 'Bewunderung': 87, 'rechts': 22, 'Russen': 135, 'hoffe': 1, 'spreche': 9, 'Präsenz': 88, 'derselben': 84, 'sozialistischen': 116, 'sowjetischen': 4, 'zugänglich': 189, 'Norm': 87, 'Autor': 86, 'Kommunisten': 116, 'vergleichbar': 88, 'Kann': 155, 'Schriftstellerin': 87, 'Schein': 88, 'Soll': 88, 'Ausbau': 121, 'angeschlossen': 36, 'technisch': 54, 'Netzbetreiber': 104, 'überrascht': 9, 'FTTB/H-Anschlüssen': 2, 'mittleren': 158, 'Gutscheine': 33, 'Empfänger': 189, 'Vertrags': 161, 'Bandbreite': 33, 'verbessert': 54, 'Endnutzer': 28, 'Zuschuss': 104, 'zugunsten': 161, 'Gutachter': 36, 'Gigabit-Voucher': 54, 'Betrachtung': 33, 'bewirken': 33, 'Gebiete': 135, 'erschließen': 88, 'unwahrscheinlich': 3, 'fragwürdige': 119, 'Mittelschicht': 87, 'Zuschüsse': 28, 'vermieden': 54, 'Dilemma': 104, 'Konsumenten': 102, 'Effekte': 33, 'bloße': 88, 'vermeintlich': 88, 'niedrigeren': 2, 'entweder': 119, 'Strecke': 87, 'Subventionen': 28, 'Verzicht': 70, 'zwingend': 88, 'begeistern': 88, 'lehrt': 51, 'School': 51, 'Schwellenländer': 102, 'Studie': 7, 'Breite': 88, 'Märkte': 182, 'Indien': 185, 'Standort': 154, 'Schwellenländern': 158, 'Rechtsstaatlichkeit': 92, 'Besteuerung': 50, 'Dimension': 87, 'Produktivität': 102, 'Bedürfnisse': 88, 'basiert': 84, 'Anstrengungen': 88, 'betonte': 36, 'Einklang': 18, 'Etwas': 155, 'Umsatzplus': 102, 'Wachstumstreiber': 102, 'Einzelhandel': 18, 'beschert': 33, '2,9': 75, 'stärkste': 102, 'Schuhen': 102, 'Insolvenz': 84, 'Weber': 51, 'vergangene': 102, 'erhofft': 102, 'Konsum': 88, 'kräftig': 102, 'Häfen': 116, 'Gold': 102, 'Generals': 27, 'Punkte': 84, 'schloss': 84, '0,7': 75, '1,3': 75, 'abgegeben': 54, 'Konflikts': 161, 'Ölpreis': 102, 'belasten': 2, 'Öl': 102, 'Street': 116, 'Kurse': 102, 'Staatsanleihen': 36, 'gelegen': 102, 'Zentralbanken': 28, 'gekauft': 54, 'Einschränkungen': 33, 'Erholung': 33, '3,5': 75, '64': 75, 'Börse': 2, 'Entscheidend': 155, 'Fass': 67, 'gerechnet': 54, 'verhalten': 155, 'Tankstellen': 116, 'seinerzeit': 36, 'Lehren': 116, 'Gebiet': 121, 'sorgten': 84, 'westliche': 33, 'billigen': 102, 'Islamisten': 116, 'trieb': 84, 'Märkten': 158, '1991': 145, 'brauchte': 1, 'Kriegsende': 22, 'Abhängigkeit': 182, 'unterschiedlich': 3, 'Carsten': 14, 'Generell': 155, 'Großbank': 116, 'Norwegen': 22, 'Frank': 51, 'Bemühungen': 87, 'teurer': 102, 'Inflationsrate': 102, '0,2': 75, 'Krämer': 51, 'Singapur': 116, 'reiche': 189, 'Motor': 119, 'Ängste': 36, 'holen': 88, 'profitiert': 158, 'Südostasien': 158, 'gewinnt': 116, 'hierher': 9, 'besuchen': 9, 'Hongkong': 145, 'leidet': 33, 'Group': 104, 'Offenheit': 182, '0,5': 75, '2,5': 75, 'Finanzminister': 25, 'bewaffnet': 88, 'dank': 161, 'Gemengelage': 87, 'Sturm': 189, 'Notenbank': 2, 'asiatischen': 161, 'Grab': 119, 'Pakistan': 116, 'schätzt': 1, 'Manila': 116, 'optimistisch': 9, 'Capital': 102, 'Unsicherheit': 33, 'altes': 189, 'weitergehen': 9, 'Vorsorge': 28, 'Überlegungen': 87, 'leeren': 104, 'Händen': 116, 'jung': 3, 'üblichen': 158, 'Augenblick': 18, 'Meinungen': 119, 'Glaube': 119, 'leer': 102, 'Anlagen': 28, '400': 67, 'zustimmen': 88, 'Glauben': 104, 'Spekulation': 33, 'vermitteln': 13, 'dasselbe': 88, 'Genuss': 22, 'Sex': 121, 'Vermögens': 161, 'Empfehlungen': 33, 'Alternativen': 121, 'sprich': 36, 'Devise': 119, 'vertrauen': 9, 'wenigsten': 154, 'Ab': 116, 'Ausbildung': 87, 'Söder': 14, 'Timo': 14, 'Frasch': 14, 'Eckart': 14, 'Lohse': 14, 'grauen': 36, 'irgendwie': 3, 'Attacken': 119, 'Vorgängers': 161, 'Kanzlerin': 25, 'Angela': 25, 'Merkel': 48, 'Ressorts': 116, 'zielt': 87, 'Altmaier': 51, 'Anja': 145, 'zitiert': 51, 'Grundsatz': 88, '53': 75, 'Kabinetts': 161, 'Scheuer': 135, 'Zweitens': 88, 'Vorfall': 51, 'schildern': 36, 'Bauer': 51, 'vorgeschlagen': 51, 'namens': 104, 'Bestimmungen': 161, 'eindeutig': 3, 'Welle': 33, 'Veröffentlichung': 87, 'Seibert': 36, 'Sätze': 9, 'arbeite': 119, 'keinesfalls': 9, 'harte': 135, 'niemals': 88, 'wesentliche': 33, 'CDU-Vorsitzende': 36, 'nutzte': 51, 'verwies': 1, 'Wird': 155, 'inhaltliche': 33, 'Tagesordnung': 50, 'Klausur': 17, 'Rentensystem': 167, 'bekräftigte': 25, 'bedeute': 167, 'informiert': 8, 'Bundeskabinett': 167, 'klargemacht': 36, 'Landwirtschaftsministerin': 119, 'Gelassenheit': 33, 'wach': 54, 'Parteivorsitzenden': 36, 'Norbert': 25, 'Walter-Borjans': 17, 'Sekunden': 84, 'AfD': 0, 'Parteiführung': 33, 'gleichwohl': 36, 'Linien': 88, 'Unterstützer': 36, 'Monats': 161, 'Genossen': 36, 'Niedersachsen': 33, 'Hubertus': 25, 'Heil': 0, 'Bundesarbeitsminister': 51, 'Vernunft': 119, 'Bundesfinanzminister': 2, 'Olaf': 0, 'Scholz': 0, 'unten': 22, 'Jubel': 116, 'Lühmann': 87, 'Ausschreitungen': 36, 'Überprüfung': 161, 'unseres': 88, 'umstrittenen': 104, 'einfachen': 116, 'langer': 22, 'abhalten': 88, 'Kundgebung': 87, 'Absage': 25, 'Freien': 119, 'aufmerksam': 9, 'Prognosen': 102, 'arbeitende': 88, 'Rechtspopulisten': 36, 'Keine': 155, 'bekam': 104, 'Applaus': 36, 'Herz': 47, 'Leidenschaft': 36, 'enttäuschte': 33, 'Gerster': 36, 'erwähnte': 1, 'Mitleid': 36, 'Freunden': 116, 'bemühen': 13, 'rechnerisch': 102, 'warb': 25, 'brennen': 116, 'Temperaturen': 116, 'verschaffte': 33, 'Farmer': 102, 'ausgegeben': 31, 'Zyklon': 145, 'Wiederbelebung': 87, 'Überschuss': 104, 'Buschfeuer': 36, 'Nachmittag': 145, 'Bundesstaaten': 158, 'gemeldet': 54, 'geöffnet': 54, 'dauert': 1, 'beschädigt': 36, 'Ausstellung': 74, 'Verleihung': 87, 'Golden': 116, 'Schauspieler': 135, 'anwesend': 3, 'Ansprache': 87, 'Anhängern': 17, 'Präsidentin': 25, 'bat': 1, 'Nachfolger': 70, 'Dialog': 121, 'Normalität': 88, 'Zagreb': 51, 'deutlicher': 35, 'gehofft': 36, 'mehrheitlich': 135, 'Niederlage': 87, 'Mauer': 87, 'Ost': 119, 'West': 119, 'Wiedervereinigung': 22, 'zweiter': 189, 'gewürdigt': 33, 'Wolff': 14, 'Teilung': 119, 'Mittelpunkt': 18, 'geschlossenen': 116, '1961': 145, 'erstreckt': 116, 'theoretischen': 189, 'dar': 161, 'Beispiele': 9, 'friedlichen': 116, 'Forschungen': 116, 'Historiker': 51, 'bestreiten': 9, 'jenseits': 9, '1967': 145, 'systematisch': 158, 'international': 33, 'entscheidenden': 87, 'bezeichnend': 33, 'schwierige': 33, 'überzeugend': 33, 'ausgegangen': 36, 'Themas': 161, 'weite': 119, 'Suhrkamp': 51, 'beschrieben': 161, 'dominierten': 158, 'Niedhart': 36, '1948': 36, 'Entspannungspolitik': 33, 'unterscheidet': 88, 'Osteuropa': 158, 'Kirchen': 182, 'bedeutsam': 36, 'Brandt': 87, 'Inszenierung': 95, 'Staats-': 116, 'Parteichef': 51, 'Krim': 84, 'Moskau': 14, 'geteilt': 54, 'Prämisse': 33, 'erkannt': 54, 'erfüllt': 54, 'langfristigen': 2, 'Beleg': 104, 'fortgesetzt': 135, 'Kenner': 189, 'Problems': 161, 'Vorhang': 88, 'Klage': 50, 'Staatschef': 119, 'Tito': 36, 'Tudjman': 36, 'behauptete': 36, 'samt': 9, 'zeitweilig': 116, 'bedenken': 28, 'Handlung': 87, 'Legitimation': 33, '1914': 145, 'Belgien': 8, 'zugetraut': 33, 'anfangs': 9, 'Propaganda': 87, 'diente': 189, 'Konvention': 33, 'Konflikten': 116, 'radikale': 36, 'Hitler': 145, 'trug': 1, 'deuten': 88, 'Deal': 104, 'ANDREAS': 36, 'Reinhard': 14, 'üblich': 3, 'Vermittlung': 119, 'Tätigkeiten': 158, 'Wobei': 88, 'Arbeiterwohlfahrt': 87, 'Awo': 25, 'sprengen': 88, 'Gemeinnützigkeit': 104, 'Bundespräsident': 4, 'Frank-Walter': 4, 'Steinmeier': 4, 'Gehälter': 88, 'Internationale': 51, 'Sprecherin': 50, 'Tanja': 18, 'konkreten': 104, 'streben': 22, 'Last': 87, 'Dorf': 104, 'Lesen': 9, 'Wesen': 167, 'Felders': 116, 'ruhig': 9, 'Geltung': 87, 'Lebzeiten': 36, 'infolge': 87, 'Landwirt': 116, 'Aufsehen': 104, 'Schneider': 119, 'Redner': 51, 'beweist': 88, 'moralischer': 189, 'Gewissen': 70, 'Halt': 104, 'Vorschriften': 158, 'überaus': 135, 'Begegnungen': 158, 'Todes': 161, 'vernichtet': 54, 'Erzählung': 87, 'Hannah': 86, 'Arendt': 119, 'Ausrichtung': 87, 'verfassten': 84, 'Ursula': 25, 'Edition': 51, 'Arendts': 86, '1964': 51, 'denkbar': 3, 'Zweifeln': 116, 'Heinrich': 86, 'Charlie': 86, 'Bernard': 51, 'antisemitisch': 36, 'Letztere': 135, 'Herzen': 154, 'löste': 116, 'scharfe': 36, 'dokumentieren': 88, 'Schriften': 158, 'Freundschaft': 119, 'Zugeständnisse': 33, 'Selbstverwaltung': 158, 'Palästina': 22, 'Völker': 119, 'Volk': 47, 'Empörung': 119, 'erweiterte': 87, 'Angeklagten': 78, 'rückte': 116, 'kriminellen': 116, 'Milo': 36, 'Selbstmord': 116, 'belgischen': 84, 'Flüchtlingen': 158, 'Manifest': 121, 'belgische': 119, 'echten': 88, 'Louisa': 119, 'vierzehn': 145, 'schaut': 1, 'aufs': 95, 'fehlenden': 116, 'sitzen': 84, 'teilen': 13, 'bekannte': 87, 'Kleidung': 84, 'klagt': 119, 'real': 33, 'willens': 9, 'Außenministerium': 84, 'Attentat': 51, 'herrschte': 84, 'arabischen': 158, 'Halbinsel': 116, 'Szenario': 167, 'verläuft': 88, 'Arabischen': 158, 'Rohöl': 102, 'verbraucht': 54, 'stagniert': 102, 'Benzin': 87, 'Gas': 33, 'Methode': 87, 'töten': 13, 'gemischt': 9, 'Morgan': 102, 'benötigt': 102, 'Hauptgrund': 189, 'Stagnation': 88, 'prognostiziert': 102, 'Skandal': 18, 'Dienstwagen': 104, 'Kassen': 102, 'Protect': 51, 'gemeinnützige': 51, 'Anfrage': 50, 'Enthüllungen': 116, 'Frankfurts': 88, 'herausgekommen': 3, 'Awo-Kreisverband': 51, 'Flüchtlingskrise': 116, 'bestätigte': 167, 'Kommune': 102, 'Laufe': 18, 'verlangte': 135, 'Aufschlag': 104, 'verschoben': 54, 'ungeklärt': 116, 'dahinter': 88, 'Klaus': 51, 'Käufer': 28, 'institutionelle': 28, 'Lediglich': 102, 'Lebensversicherungen': 102, 'netto': 102, 'Kunz': 102, 'dortigen': 116, 'Aktienrückkäufe': 87, 'Marktkapitalisierung': 102, '43': 75, 'bestehe': 1, 'übrigens': 88, 'Dimensionen': 87, 'Notenbanken': 33, 'Suche': 22, 'Aktienmarkt': 116, '67': 75, 'Aleviten': 9, 'Dersim': 22, 'Nationalisten': 135, 'Mahmut': 36, 'Yildiz': 8, 'Ferne': 116, 'Schwestern': 95, '1938': 145, 'Tunceli': 22, 'Atatürk': 8, 'stattgefunden': 36, 'baut': 119, 'Gerüchte': 119, '1936': 36, 'Wunde': 88, 'Tabu': 119, 'Kaya': 8, 'Staatsbürger': 119, 'fürchteten': 9, 'strikt': 88, 'Beleidigung': 87, 'gefährden': 88, 'Verwandten': 145, 'arme': 102, 'zeichnet': 33, 'Reisen': 22, 'anschauen': 9, 'vergewaltigt': 8, 'Überlebenden': 84, 'gestorben': 8, 'erstaunliche': 119, 'ursprünglichen': 116, 'dankbar': 9, 'vergeht': 189, 'verdrängen': 9, 'Parolen': 8, 'Kaum': 155, 'Sendung': 119, 'warfen': 84, 'Redaktion': 116, 'Tonnen': 67, 'bestellen': 9, 'Anfeindungen': 36, 'reisen': 9, 'Copur': 135, 'Politologe': 51, 'Volkes': 161, 'geleistet': 54, 'Adresse': 84, 'Rechtsextremisten': 104, 'ausgesprochen': 31, 'Kurden': 182, 'anerkannt': 54, 'Berichten': 116, 'Erinnern': 167, 'Helene': 14, 'Bubrowski': 14, 'Wyssuwa': 14, 'Fegebank': 17, 'Spitzenkandidatin': 17, 'Park': 18, 'oberhalb': 189, 'unglaublich': 9, 'Annalena': 17, 'Baerbock': 17, 'Hansestadt': 116, 'liberalen': 116, 'Beschlüssen': 135, 'Bereiche': 119, '29': 180, 'zusammenkommen': 9, 'Gelingt': 9, 'Misstrauen': 167, 'fort': 86, 'Streiks': 116, 'Protesten': 84, 'zurückgegangen': 102, 'Nahverkehr': 121, 'Bahn': 158, 'neuem': 119, 'gefangen': 36, 'beklagt': 3, 'Anliegen': 189, 'fehle': 88, 'Olivier': 51, 'rechtspopulistische': 36, 'ausgemacht': 33, 'Rentenkasse': 33, 'planen': 9, 'Fondsgesellschaft': 135, 'Blackrock': 135, 'Beweis': 36, 'angeführt': 51, 'zeugt': 116, 'flog': 1, 'Agnes': 116, 'Vertrauensverhältnis': 167, 'starben': 84, 'begegnen': 88, 'Hebdo': 86, 'Nicolas': 86, 'Ausschluss': 121, 'Kamera': 87, 'Jahrestag': 4, 'Witwe': 119, 'Letzterer': 36, 'Polizist': 189, 'angebracht': 36, 'Geschäfte': 182, 'Bahnhof': 8, 'Wäre': 1, 'Widerspruchsregel': 33, 'Organspende': 50, 'Organe': 28, 'Hirntod': 87, 'Organentnahme': 87, 'Widerspruchsregelung': 50, 'Organspenden': 50, 'verdeutlichen': 88, 'Wünsche': 87, 'angemessen': 33, 'University': 51, 'hinsichtlich': 88, 'Definition': 87, 'Verstorbenen': 161, 'Menschenleben': 9, 'Spende': 50, 'daneben': 33, 'Spender': 28, 'Maßnahmen': 50, 'verweist': 33, 'verschiedener': 36, 'solch': 33, 'geltenden': 18, 'durchgeführt': 54, 'ausmachen': 33, 'Seenot': 84, 'Lebenden': 189, 'Kammer': 84, 'Bundesverfassungsgerichts': 161, '1999': 145, 'widersprechen': 88, 'zulässig': 33, 'solidarisch': 88, 'vollzogen': 54, 'Anwendung': 87, 'verstanden': 54, 'Queen': 95, 'Slim': 95, 'wütend': 3, 'Supermarkt': 18, 'schuldig': 36, 'landen': 116, 'Films': 161, 'Beziehung': 95, 'weithin': 189, 'Verhalten': 70, 'gefilmt': 36, 'ehemals': 119, 'nah': 116, 'offenbart': 104, 'entsprechenden': 28, 'Gefühlen': 119, 'begreifen': 88, 'geborenen': 51, 'Kulturpolitik': 36, 'Show': 33, 'Umverteilung': 182, 'Spitzen': 116, 'bezeichnete': 25, 'Programms': 161, 'Albrecht': 51, 'eröffnete': 84, 'Generalsekretär': 51, 'technische': 54, 'leiten': 51, 'Politikerin': 36, 'Großmutter': 95, 'Autorin': 87, 'Vertreibung': 119, 'Ida': 74, 'Schauplatz': 87, 'Nachkriegszeit': 87, 'Phantasie': 87, 'Stalin': 25, 'Abgesehen': 116, 'Armut': 15, 'Kino': 70, 'kurzer': 145, 'Sehnsucht': 22, 'Freizeit': 22, 'Finnland': 119, 'angeblichen': 119, 'Großbritannien': 185, 'vorzubereiten': 33, 'zuständige': 104, 'Trend': 121, 'Schlagzeilen': 116, 'einzustellen': 9, 'teuer': 3, 'Zwischen': 145, 'Fünf': 116, 'radikalen': 36, 'radikal': 119, 'abzuschaffen': 84, 'redet': 1, 'Kölner': 104, 'schlimmer': 36, 'genauer': 161, 'appellierte': 1, 'Finanzpolitik': 33, 'Christine': 25, 'Gremium': 167, 'Diskussionen': 119, 'Mancher': 36, 'Würth': 102, 'Kohleausstieg': 121, 'Linken': 17, 'flachen': 88, 'Hierarchien': 88, 'quasi': 36, 'agile': 9, 'freiwillig': 54, 'Autorität': 87, 'The': 86, 'sagten': 9, 'überflüssig': 36, 'zuweilen': 9, 'Moser': 88, 'Globalisierung': 92, 'Sehr': 88, 'Freiheiten': 158, 'berufliche': 119, 'EuGH': 135, 'voller': 86, 'Betriebsräte': 102, 'Will': 155, 'merken': 88, 'MENSCHEN': 51, 'UND': 51, 'WIRTSCHAFT': 51, 'Woodford': 51, 'Londoner': 36, 'City': 36, 'Income': 102, 'Aufregung': 119, 'Pfund': 67, 'Star': 86, 'Craig': 88, 'Britannien': 102, 'Stock': 18, 'Messe': 14, 'Heimtextil': 51, 'Kerstin': 14, 'Eher': 87, 'Haare': 22, 'stattfindet': 88, 'Veranstaltungen': 158, 'nachhaltiger': 88, 'Neu': 135, 'Hunger': 84, 'Global': 102, 'Herstellung': 87, 'italienischen': 51, 'internationaler': 135, 'Farben': 119, 'Erbe': 167, 'persönliche': 189, 'einschließlich': 33, 'teil': 84, 'heftig': 119, 'Rechtsstaat': 88, 'einbringen': 158, 'Zusammenhalt': 119, 'Bezug': 121, 'wahrnehmen': 88, 'fraglich': 3, 'Anträgen': 135, 'Bundesinnenministerium': 167, 'Leib': 116, 'Einwanderung': 22, 'humanitären': 102, 'studieren': 84, 'Zukunftsvertrag': 18, 'ergänzen': 88, 'Rechnungshofs': 161, 'Parken': 102, 'gedenken': 88, 'Verpflichtungen': 88, 'Bernhard': 51, 'notfalls': 28, 'erfuhr': 9, '1,1': 75, '2024': 135, 'betreten': 36, 'fotografieren': 116, 'linksextremen': 36, 'Senatorin': 36, 'einschlägigen': 88, 'Bekennerschreiben': 84, 'Repräsentanten': 135, 'bewertet': 54, 'Kontext': 18, 'Staatsanwalt': 51, 'Mandant': 88, 'Sechs': 8, 'Rande': 154, 'Verdächtigen': 87, 'bekanntwurde': 36, 'Diktatur': 87, 'Kapstadt': 36, 'Journalist': 119, 'Gefängnis': 145, 'höherer': 102, 'Staats': 161, 'Anhörung': 87, 'Pressefreiheit': 33, 'verschleppt': 8, 'geworfen': 8, 'Jahrzehntelang': 155, 'verschont': 102, 'britische': 51, 'Beobachter': 78, 'Briten': 135, 'lokalen': 88, 'Hätte': 36, 'abgegebenen': 17, 'beklagen': 9, 'Menschenrechtsverletzungen': 135, 'islamistische': 102, 'Marawi': 54, 'flohen': 84, 'nebenan': 167, 'überlassen': 88, 'Moscheen': 158, 'fasst': 1, 'Mindanao': 33, 'lebten': 84, 'fliehen': 84, 'Frust': 119, 'Aufruhr': 36, 'bildet': 84, 'Zelt': 154, 'umstrittene': 135, 'Ahnung': 36, 'Absturz': 27, 'Flugzeugs': 27, 'Gerhard': 14, 'Gnauck': 14, 'Warschau': 14, 'Boeing': 27, '737-800': 27, 'gestartet': 145, 'Kiew': 22, 'Unglück': 36, '176': 102, 'Außenministers': 161, '63': 102, 'Opfern': 84, 'Flug': 104, 'Modellen': 158, 'stürzte': 36, 'Hersteller': 116, 'ukrainische': 135, 'Wolodymyr': 25, 'Selenskyj': 25, 'untersuchen': 33, 'technischen': 158, 'mitteilte': 36, 'Unfall': 104, 'Königin': 51, 'AJ': 86, 'and': 86, 'RuPaul': 155, 'Ruby': 36, 'Thron': 70, 'Teufel': 70, 'Bühnen': 158, 'Mietvertrag': 104, 'fällig': 102, 'Stich': 18, 'Popularität': 36, 'Netflix': 116, 'Hauptrolle': 119, 'Produzent': 51, 'äußeren': 119, 'Krebs': 102, 'Potential': 167, 'entfalten': 88, 'präsentieren': 88, 'abrufbar': 36, 'Cambridge': 87, 'Analytica': 135, 'besorgt': 88, 'Dokumenten': 116, 'Präsentation': 116, 'Sarah': 86, 'weltweiten': 88, 'Weile': 33, 'Klimapolitik': 33, 'CO2-Ausstoß': 116, 'zweifeln': 9, 'Hinblick': 18, 'EEG': 167, 'Preisen': 28, 'Kraftwerke': 54, 'Emissionshandel': 121, 'geregelt': 54, 'Wind-': 121, 'überschreiten': 88, 'VW': 189, 'CO2': 167, 'hinreichend': 158, 'abgeschaltet': 54, 'Europäer': 135, 'fallenden': 28, 'Ressourcenbesitzer': 28, 'Putins': 25, 'unverändert': 135, 'kurzfristig': 28, 'Erwägungen': 88, 'befasst': 119, 'Vereinbarungen': 158, 'OECD': 135, 'etabliert': 88, 'William': 86, 'gründen': 189, 'ablehnt': 88, 'Weltbank': 2, 'armen': 158, 'tiefgreifende': 33, 'bekämpfen': 13, 'Schichten': 158, 'Japans': 135, 'abgeben': 36, 'befragt': 135, 'Mori': 135, 'Ausnahmen': 36, 'schweigen': 13, 'Juristen': 33, 'argumentieren': 9, 'Beweise': 36, 'Nie': 36, 'Manfred': 14, 'Schäfers': 14, 'Finanztransaktionssteuer': 50, 'Konsens': 121, 'Uns': 155, 'Grundrente': 11, 'ernsthaft': 88, 'besteuern': 28, 'besteuert': 54, 'Steuersatz': 75, 'Handwerk': 189, 'Derivate': 102, 'Finanzprodukte': 28, 'Vereinbarung': 50, 'Nationalbank': 116, 'SNB': 88, 'Franken': 67, 'Schwankungen': 102, 'Bewertung': 87, 'angelegt': 54, 'wachsenden': 158, 'gesetzlich': 28, 'Finanzministerium': 18, 'Formulierung': 33, 'Eupen': 145, 'Sankt': 145, 'Gutschker': 51, 'Französisch': 84, 'Ruland': 51, 'sechzig': 75, '1918': 145, 'Versailler': 18, 'Vertrag': 104, 'vereinbart': 116, '1920': 51, 'Neun': 102, 'Belgier': 119, '77': 75, '1940': 145, 'Wehrmacht': 145, 'Ihrem': 9, 'Nazis': 119, 'Adolf': 145, 'Fußball': 84, 'Kommunalwahl': 36, 'SS': 8, 'Autonomie': 33, 'übertrug': 18, 'Kompetenzen': 182, 'neuerdings': 54, 'Luxemburg': 102, 'aufgegeben': 8, 'Rom': 25, 'Italiens': 87, 'Giuseppe': 25, 'Conte': 25, 'Nationalen': 25, 'empfangen': 116, 'geworben': 135, 'Libyens': 88, 'Luigi': 51, 'Di': 25, 'Maio': 25, 'Fünf-Sterne-Bewegung': 36, 'Anschließend': 116, 'pflegten': 119, 'Lega': 25, 'Entschädigung': 135, 'Eni': 119, 'ausländischer': 119, 'Gegenüber': 189, 'Territorien': 119, 'kontrollierten': 119, 'Verpflichtung': 87, 'sozialdemokratische': 25, 'Gegenzug': 10, 'verlängert': 8, 'Kompromiss': 121, 'Verschärfung': 87, 'Information': 182, 'teilt': 135, 'ethischen': 158, 'fungiert': 189, 'Tageszeitung': 51, 'Kompromisse': 161, 'längerem': 102, 'wahrgenommen': 54, 'äußerten': 9, 'Auflösung': 161, 'Roms': 33, 'andernorts': 9, 'direkte': 33, 'Erklärungen': 9, 'eingeleitet': 135, 'Witze': 116, 'Ricky': 70, 'Dankbarkeit': 119, 'Paar': 70, 'Science': 86, 'Fiction': 86, 'Roboter': 87, 'Baum': 70, 'Vision': 87, 'verwirklichen': 13, 'Unsere': 155, 'Künstlern': 119, 'Skulptur': 87, 'seltsam': 3, 'Geschwindigkeit': 9, 'Fleisch': 3, 'Brutalität': 119, 'vermissen': 33, 'wilde': 36, 'Hetze': 135, 'Glaubwürdigkeit': 33, 'Zehntausende': 102, 'Brandenburg': 87, 'stärken': 13, 'Venedig-Kommission': 135, 'Europarats': 161, 'Dritte': 88, 'Nordmazedonien': 36, 'umstritten': 3, 'Albaner': 189, 'Vorgang': 104, 'Landesteilen': 116, 'Aufhebung': 87, 'Mörder': 87, 'Strafen': 102, 'Vielsprachigkeit': 88, 'Gerichts': 161, 'bittet': 88, 'ergreifen': 88, 'Teilnehmern': 116, 'Polen': 4, 'Ungarn': 145, 'Französische': 167, 'Umstellung': 33, 'verschieben': 88, 'empfängt': 116, 'Verfahrens': 161, 'abgesehen': 116, 'ernannt': 31, 'errichtet': 8, 'Palast': 18, 'Rechtssystem': 116, 'Rechtsprechung': 161, 'Entfremdung': 33, 'Reichtum': 104, 'beantwortet': 54, 'Sonderausgaben': 102, 'erfolgte': 135, 'Riss': 36, 'Stéphane': 87, 'erzählte': 189, 'Bücher': 119, 'beliebten': 116, 'Kommissar': 104, 'Bär': 189, 'Sven': 51, 'berüchtigten': 189, 'Messiah': 86, 'Spuk': 36, 'eigentliche': 33, 'Ihm': 36, 'Tausenden': 84, 'Samuel': 36, 'folge': 88, 'Wüste': 87, 'Westjordanland': 10, 'verschwindet': 104, 'illegal': 36, 'verbinde': 9, 'Brenner': 154, 'Maurer': 51, 'Schritte': 87, 'Schnee': 116, 'Nord': 167, 'Verein': 121, 'Version': 86, 'spezifischen': 119, 'Steine': 78, 'St.': 87, 'Tagebuch': 18, 'überlegen': 9, 'letztes': 84, 'bequem': 9, 'Roma': 119, 'Zitat': 167, 'folgende': 88, 'erwarte': 1, 'Inschrift': 119, 'Original': 167, 'Matteo': 25, 'Salvini': 25, 'angeregt': 36, 'Berufsausbildung': 84, 'Verfassungsgericht': 167, 'Kläger': 135, 'biete': 88, 'Fähigkeiten': 182, 'Fink': 116, 'Spitzenverdiener': 28, 'Zuschlag': 11, 'Maire': 51, 'Zuversicht': 119, 'langjährig': 102, 'rechtzeitig': 9, 'Gesetzentwurf': 121, 'Einzelheiten': 116, 'Einkommensprüfung': 50, 'gewährleistet': 3, 'aufgewertet': 54, 'Rentenversicherung': 11, 'Finanzämtern': 116, 'offener': 36, 'übergeben': 22, 'Böller': 84, 'explizit': 54, 'wohnen': 9, 'Scheiben': 84, 'beobachtet': 8, 'Reichl': 9, 'Pfarrer': 104, 'Mitgliedern': 116, '39': 75, 'Kriminalität': 33, 'Graffiti': 119, 'Grundstück': 70, 'Gewand': 116, 'Rechten': 158, 'Neubau': 104, 'Roter': 86, 'Stern': 86, 'Bednarsky': 36, 'verletzten': 9, '1500': 102, 'Zaun': 51, 'zweier': 8, 'blickt': 1, 'absolut': 36, 'bringe': 33, 'eingerichtet': 54, 'Derweil': 84, 'zuordnen': 88, 'Freistellungsaufträge': 28, 'Frist': 135, 'Steuerlast': 102, 'Kapitalerträge': 11, 'anfallen': 28, 'BMW': 102, 'brutto': 102, 'Ertrag': 104, 'realisieren': 28, 'Schlag': 104, 'Weitere': 36, 'CGT': 135, 'Großraum': 119, 'Philippe': 25, 'Martinez': 25, 'beklagte': 25, 'Staatsrat': 51, 'Les': 86, 'plant': 135, 'Nationalversammlung': 51, 'Eile': 135, 'Berger': 25, 'Renteneintrittsalter': 102, 'Kundgebungen': 36, 'Allianz': 102, 'wohin': 9, 'begrüßen': 9, 'Verträgen': 22, '2050': 102, 'Kontinent': 189, 'Besatzung': 84, 'Abschuss': 161, 'Ostukraine': 119, 'Wieder': 155, 'Trudeau': 9, 'Ottawa': 8, 'Iraner': 78, 'fliegen': 84, 'Quelle': 33, 'Drohung': 87, 'verbreiteten': 119, 'Pence': 102, 'entschlossen': 36, 'absetzen': 88, 'schrittweise': 33, 'Normalisierung': 33, 'Blacha': 145, 'Südpol': 154, 'verbracht': 36, 'Schlitten': 22, 'erwähnten': 18, 'it': 36, 'Distanz': 116, 'Kilogramm': 102, 'schaffte': 84, 'mehrmals': 167, '57': 75, 'Reisstroh': 189, 'Dauck': 189, 'Stoff': 189, 'Kälte': 116, 'Lasten': 13, 'Instabilität': 116, 'sozialer': 51, 'Hausbau': 51, 'potentiell': 158, 'zweitausend': 75, 'menschlicher': 104, 'Peking': 25, 'Kategorie': 86, 'Übergriffe': 33, 'vergangenes': 8, 'Ungleichheit': 182, 'Dominanz': 119, 'Geographen': 116, 'Square': 86, 'Dance': 86, 'Balanchine': 87, 'Theaters': 161, 'American': 119, 'Ballett': 116, 'Rhein': 154, 'Premiere': 87, 'Tor': 70, 'grundsätzlichen': 33, 'Muss': 9, 'erarbeitet': 31, 'glaubten': 9, 'Wald': 10, 'Rimini': 51, 'Demoskopie': 51, 'sichtbar': 116, 'verfolgen': 13, 'Tatsachen': 33, 'behandelt': 54, 'Summen': 28, 'erfolgt': 33, 'worin': 88, 'Individuen': 102, 'Dauner': 87, 'widmete': 51, 'Impulse': 88, 'Stücken': 88, 'musikalischen': 119, 'Verhältnissen': 116, 'Jazz': 119, 'Musiker': 116, 'Rundfunks': 161, 'Gästen': 116, 'fünfzehn': 75, 'Chor': 18, 'einiges': 88, 'Zunächst': 155, 'Unternehmern': 182, 'Privaten': 84, 'Krankenversicherung': 33, 'jüngste': 135, 'gewährleiste': 33, 'Einbruch': 102, 'Anhebung': 87, '750': 102, 'Beiträge': 182, 'Finanz-': 88, 'Kohle': 2, 'Leyen': 25, 'Entschädigungen': 28, 'angerechnet': 54, 'Sozialstaat': 104, 'Erzieher': 88, 'Kipping': 51, 'ersetzt': 135, 'Krankenhäuser': 78, 'Thüringen': 17, 'Bodo': 51, 'Ramelow': 36, 'zusammenarbeiten': 88, 'Essenslieferdienste': 102, 'Takeaway': 102, 'Naspers': 33, 'Just': 102, 'Eat': 102, 'bekanntesten': 116, 'Prosus': 102, 'Aktionären': 54, 'reagierte': 36, 'Du': 86, 'vorzugehen': 135, 'Operation': 119, 'Feinde': 36, 'einziger': 51, 'vorab': 135, 'Israelis': 36, 'einzugehen': 119, 'Kamp-Lintfort': 102, 'Landscheidt': 135, 'Bewaffnung': 87, 'Sabine': 51, 'Landscheidts': 119, 'Putin': 48, 'Moskauer': 18, 'Wladimir': 48, 'Heiko': 25, 'Maas': 25, 'anlässlich': 161, 'Merkels': 25, 'teilnehmen': 135, 'angegeben': 54, 'Freilich': 36, 'Jordanien': 158, 'Großbritanniens': 116, 'wiederholte': 135, 'heutige': 84, 'sichergestellt': 54, 'dreimal': 36, 'Verbot': 167, 'Sultan': 119, 'Qabus': 145, 'Said': 8, 'fassen': 9, 'Modernisierung': 119, 'Königshaus': 119, 'half': 104, 'Haitham': 8, 'Ehe': 36, 'Wahrheiten': 9, 'individuellen': 88, 'Konsequenz': 87, 'vorangetrieben': 51, 'gesellschaftlicher': 9, 'gerechtfertigt': 3, 'Inhalt': 161, 'gewählte': 102, 'Standpunkt': 104, 'Gerichte': 135, 'antisemitische': 33, 'wiederholen': 9, 'Bürgerinnen': 28, 'feststellen': 88, 'ausgewiesen': 54, 'anstehenden': 116, 'Sydney': 116, 'verpflichten': 88, 'Fläche': 87, 'Stellenwert': 104, 'Nachbarschaft': 116, 'fremd': 36, 'Abela': 25, 'Muscat': 25, 'Arbeiterpartei': 51, 'Muscats': 36, 'maltesischen': 158, 'Vorsitz': 116, 'Journalistin': 36, 'bitter': 36, 'Chris': 88, 'Rentner': 11, 'gespalten': 88, 'zurückzugewinnen': 33, 'Nord-': 182, 'Ostsee': 22, 'SSW': 87, 'dänischen': 87, 'Staatskanzlei': 51, 'Harry': 95, 'Alltag': 18, 'verständigt': 33, 'Stanisic': 116, 'Episode': 33, 'Schütte-Lihotzky': 86, 'Schütte': 86, 'Architektin': 86, '1993': 36, 'Vorgesetzten': 95, 'Stalins': 145, 'Briefe': 119, 'Idealismus': 104, 'jüngerer': 9, '2027': 102, 'renommierte': 51, 'darstellen': 88, 'Microsoft': 119, 'überzogen': 36, 'überzeugte': 9, 'Mine': 102, 'indischen': 33, 'Indiens': 119, 'fehlte': 119, 'Inder': 88, 'brechen': 36, 'derweil': 135, 'geschwächt': 119, 'Johnson': 104, 'Verletzungen': 135, 'Schlichtungsmechanismus': 135, 'Atomabkommens': 161, 'außenpolitischer': 51, 'Johann': 51, 'schwieriger': 88, 'berechtigt': 88, 'Vernehmen': 22, 'Auswärtigen': 51, 'Yolanda': 135, 'Díaz': 51, 'José': 119, 'Escrivá': 54, 'Wirtschaftskrise': 33, 'Ärztin': 119, 'Abgabe': 28, 'Ernährung': 88, 'eingebüßt': 36, 'Nestlé': 102, 'Philip': 14, 'Terwey': 189, 'Marken': 88, 'Bayerischen': 25, 'Bauernverband': 51, 'Staatsregierung': 135, 'demonstrierten': 84, 'gemeinsamer': 33, 'Umweltministerin': 84, 'Düngeverordnung': 33, 'Grundwasser': 167, 'Nitrat': 158, 'Kabarett': 167, 'Schaller': 14, 'Philipp': 14, 'Körperverletzung': 135, 'Plenum': 167, 'neutral': 36, 'Dehmel': 74, 'Dehmels': 86, 'wohlhabenden': 158, 'ungewöhnliche': 87, 'Sessel': 104, 'reichte': 84, 'Geschick': 104, 'respektiert': 9, 'jemals': 36, 'Buche': 9, 'privilegierten': 116, 'Mindestlöhne': 28, 'Parlaments': 161, 'Straßburg': 119, 'Untergrenze': 33, 'Davos': 14, 'Weltwirtschaftsforums': 161, 'Schwab': 51, 'Weltwirtschaftsforum': 167, 'Nerven': 104, 'Stakeholder': 2, 'gesichert': 33, 'Ocean': 84, 'erstaunt': 51, 'Huawei': 88, 'prominente': 36, 'häuslicher': 15, 'körperliche': 119, 'verprügelt': 8, 'aufzunehmen': 84, 'EGMR': 135, 'sowjetische': 145, 'Spruch': 104, 'Vorgeschichte': 87, 'schmalen': 116, 'Angelegenheiten': 116, 'Vereins': 161, 'Strafanzeige': 135, 'Entgegennahme': 87, 'hingewiesen': 54, 'komplexen': 158, 'Soweit': 155, 'Schäden': 33, 'Bauernfrage': 33, 'Engels': 36, 'Argumentation': 36, 'Bauernschaft': 36, 'Agrarpolitik': 182, 'Empfehlung': 33, 'Traktoren': 84, 'Kakao': 102, 'berichteten': 36, 'Fazit': 167, 'Witter': 189, 'Flüchtlingshilfe': 51, 'Geflüchtete': 116, 'Vorurteile': 119, 'Kreml': 116, 'Medwedjew': 135, 'Regierungsbildung': 33, 'Michail': 161, 'Real': 102, 'Lagarde': 25, 'Kleinanleger': 88, 'Anleihe': 75, 'Merck': 36, 'Häuserpreise': 102, 'Ausschuss': 18, 'Anzeichen': 88, 'darstellt': 33, 'Wuhan': 116, 'ansprechen': 9, 'Jahrhunderten': 22, 'Stabilität': 182, 'Fernsehdebatte': 8, 'Iowa': 116, 'Dienstagabend': 154, 'Des': 84, 'Senator': 18, 'Rennen': 18, 'Jochen': 14, 'Stahnke': 14, 'Thüringer': 135, 'Zeh': 135, 'Neinstimmen': 36, 'gewollt': 36, 'angebliche': 36, 'Pfarramt': 88, 'Kirchenaustritt': 88, 'Bischofskonferenz': 84, 'Austrittserklärung': 121, 'Bediensteten': 88, 'vertrieben': 8, 'kirchlichen': 158, 'Religionsfreiheit': 33, 'religiösen': 119, 'Berufe': 9, 'Kündigung': 36, 'Mitgliedschaft': 87, 'Kliniken': 88, 'Matzneff': 51, 'sexuellen': 119, 'erfolgreiche': 33, 'Marianne': 86, 'ideologischen': 158, 'bewiesen': 36, 'Selbstbestimmungsrecht': 167, 'Argumenten': 36, 'Eingriff': 121, 'Votum': 167, 'ankommt': 36, 'Spahns': 116, 'Spahn': 0, '9000': 67, 'Patienten': 102, 'Fachleuten': 33, 'Marx': 135, 'beschlossene': 36, 'Widerspruchslösung': 50, 'HU': 87, 'Baberowski': 36, 'schlugen': 9, 'Diskussionsrunde': 116, 'Schnell': 155, 'pflegen': 9, 'Auschwitz': 4, 'korrigiert': 88, 'Dauerausstellung': 33, 'männliche': 84, 'Gedenkstätte': 51, 'Verbände': 119, 'Heils': 88, 'teilten': 84, 'geistigen': 119, 'Mitstreiter': 87, 'Diskrepanz': 182, 'medizinische': 28, 'Bildschirm': 104, 'Weltbevölkerung': 102, 'Nitratwerte': 102, 'Bußgelder': 28, 'Schiefner': 36, 'auftauchen': 116, 'geladen': 36, 'Koizumi': 51, 'Vaterschaftsurlaub': 102, 'Kindes': 161, 'Diaby': 145, 'Hannover': 116, 'Bürgerbüro': 36, 'Gegenstand': 189, 'Varianten': 102, 'Wahlrecht': 167, 'Schiffe': 22, 'Ausscheiden': 51, 'verkünden': 88, 'Mallorca': 22, 'Vergewaltigung': 87, 'Santiago': 14, 'Schreyer': 51, 'Emilia': 119, 'Bangladesch': 22, 'behandeln': 13, 'Muslimen': 33, 'Muslime': 102, 'Tierversuche': 135, 'Logothetis': 104, 'Tierversuchsgegner': 88, 'Spezialisten': 119, 'komplexe': 33, 'Gehorsam': 104, 'Standards': 88, 'Hecker': 145, 'Amtes': 161, 'Freiburg': 51, 'ans': 36, 'Friedenskonferenz': 158, 'fürchte': 1, 'unverzichtbar': 33, 'Annexion': 87, 'Prag': 22, 'einbeziehen': 88, 'Vernichtungslager': 18, 'Polens': 145, 'Gedenkveranstaltung': 4, 'Andrzej': 135, 'Duda': 135, 'Pakt': 104, 'Verbänden': 158, 'polnische': 51, 'Yad': 110, 'Vashem': 110, 'Siegermächte': 119, 'reichsten': 102, 'Jüdischen': 51, 'Landwirten': 116, 'Finger': 88, 'zufällig': 36, 'Hungersnot': 33, 'Fritz-Bauer-Institut': 167, 'Zentralrats': 161, 'Büchern': 119, 'Weniger': 102, 'erstellte': 9, 'Konservativen': 116, 'Plickert': 14, 'korrupte': 33, 'Afrikas': 158, 'Angola': 116, 'Staatsfonds': 51, 'Zimbabwe': 22, 'Mugabe': 145, 'Jacob': 51, 'Zölle': 54, 'auftritt': 119, 'Ebenen': 158, 'Keiner': 155, 'ordnen': 88, '180': 102, 'Papst': 36, 'Meghan': 18, 'geheiratet': 36, 'Condor': 121, 'Ufo': 102, 'Verdi': 25, 'polnischen': 27, 'Company': 36, 'Platzeck': 189, 'Unternehmensführung': 182, 'Policen': 102, 'Beiträgen': 88, 'Versicherer': 119, 'demographischen': 158, 'beruht': 33, 'GDV': 51, 'Interpretation': 87, 'Banlieue': 116, 'Uniform': 36, 'Chanteloup-les-Vignes': 86, 'gelben': 18, 'Erziehung': 119, 'Radikalisierung': 182, 'Salafisten': 158, 'Hügel': 104, 'Privatleben': 167, 'Investors': 102, '3,6': 75, 'Berücksichtigung': 2, 'Finanzsektor': 18, 'Blockchain-Technologie': 2, 'Zahlungsmittel': 87, 'A.G': 8, 'Grenzübertritte': 102, 'Leggeri': 102, 'Plätze': 84, 'Hontscharuk': 25, 'Komiker': 189, 'Zwei-Kind-Politik': 33, 'angepasst': 88, 'Modewoche': 9, 'Ausblick': 116, 'Kraftwerk': 167, 'Tötungen': 88, 'Feind': 189, 'Aeneas': 86, 'Troja': 116, 'Dido': 119, 'Ehre': 87, 'Sternheim': 86, 'Vernichtungslagers': 161, 'Auschwitz-Birkenau': 4, 'Konzentrationslager': 4, 'Gießener': 116, 'KZ': 18, 'Häftlinge': 78, 'Befehl': 116, 'Baracken': 116, 'Gaskammer': 87, 'Krematorium': 70, 'Enkel': 51, 'Zuständigkeit': 51, 'Birkenau': 145, 'Oxfam': 87, 'Gewerbesteuer': 33, 'Stufe': 33, 'intern': 36, 'M-Bank': 102, 'Quantencomputer': 88, 'ablehnen': 88, 'Pension': 102, 'Mahtani': 102, 'Femtech': 36, 'Mantel': 104, 'Binder': 51, 'Bologna': 116, 'Emilia-Romagna': 92, 'Regionalwahlen': 116, 'Salvinis': 116, 'Rettungsschiff': 116, 'Immunität': 135, 'abstimmen': 119, 'Senatoren': 116, 'SWR': 51, 'Räpple': 51, 'Spaniel': 51, 'Freiburger': 51, 'Mandic': 86, 'Mandics': 36, 'bitten': 88, 'Herrn': 104, 'Morales': 51, 'Bolivien': 36, 'Añez': 135, 'Oberste': 116, 'Sozialismus': 18, 'MAS': 135, 'Enttäuschung': 119, 'Ostmitteleuropas': 116, 'Hunderttausende': 102, 'Bratianu': 119, 'Dmowski': 119, 'Zehn': 75, 'Großmächte': 116, 'Inquiry': 87, 'Ostmitteleuropa': 116, 'Munition': 87, 'Synagoge': 36, 'Konzentrationslagers': 161, 'Virus': 189, 'Reuven': 25, 'Rivlin': 4, 'Rivlins': 36, 'Verbreitung': 87, 'palästinensischen': 104, 'Palästinensern': 135, 'benutzt': 54, 'Sieges': 161, 'Veteranen': 116, 'Rote': 8, 'Podcast': 121, 'Sandra': 36, 'Newsletter': 121, 'Rüegger': 3, 'Altern': 9, 'prächtig': 33, 'Apu': 36, 'Maria': 86, 'Athos': 86, 'Förster': 86, 'Kalavryta': 119, 'Verfassungsänderung': 50, 'Arbeitsgruppe': 87, 'kümmert': 9, 'Tristan': 86, 'Isolde': 86, 'Aufzug': 18, 'Queer': 86, 'Falschparken': 28, 'OLG': 167, 'Altmaiers': 33, 'benennen': 13, 'angetan': 36, 'Davoser': 121, 'Pessimisten': 54, 'Bahlsen': 51, 'Manchmal': 9, 'Hongkonger': 189, 'Nachrichtenredaktion': 51, 'Wirtschaftsredaktion': 14, 'Korrespondent': 25, 'Ankara': 14, 'F.A.S': 14, 'Redakteurin': 51, 'Rhein-Main-Zeitung': 51, 'Niemann': 36, 'Rodrigues': 51, 'Soner': 8, 'Ö': 8, 'Dschihadisten': 145, 'Fortschrittspartei': 135, 'protestieren': 135, 'Gros': 167, 'Falstaff': 104, 'Ritter': 51, 'Referendum': 104, 'Schokolade': 102, 'Ghana': 102, 'Ohnehin': 36, 'Krankheiten': 119, 'Pazderski': 36, 'Wurdack': 36, 'Räume': 87, 'AfD-Politiker': 51, 'abzuwenden': 135, 'Indymedia': 84, 'Monarchie': 88, 'Böhm': 104, 'Gertrud': 36, 'Böhms': 161, 'Platonow': 86, 'Platonows': 86, 'langsamer': 1, 'Moskwa': 84, 'Geister': 119, 'Wohlleben': 9, 'Tödliche': 86, 'Jo': 119, 'Mario': 88, 'Draghi': 119, 'Italiener': 102, 'Weidmann': 36, 'Friedmann': 36, 'Pieper': 51, 'Sachsen-Anhalt': 116, 'Kreuzer': 36, 'BGBl': 51, 'Moshe': 8, 'Haelion': 8, 'Krakau': 36, 'Saloniki': 145, 'Gaskammern': 145, 'Imber': 36, 'Staatsoberhäupter': 116, 'Burkina': 145, 'Faso': 145, 'Trek': 86, 'Picard': 86, 'Next': 51, 'Böse': 167, 'Amazon': 119, 'Preisstabilität': 36, 'Inflationsziel': 167, 'Anpassung': 33, 'Betriebsrats': 161, 'Online-Wahl': 102, 'Digitalsteuer': 33, 'Elektroautos': 102, 'Grünheide': 189, 'Christiani': 86, 'Coronavirus': 87, 'Gesundheitssystem': 121, 'Yuan': 67, 'Han': 102, 'Prothesen': 102, 'Massenmord': 51, 'israelischer': 51, 'Judenhass': 36, 'ausbezahlt': 54, 'Türkisch-Deutschen': 116, 'Rohingya': 135, 'Burma': 135, 'Giusy': 8, 'Versace': 8, 'Women': 86, 'Sterne': 116, 'Gauck': 145, 'Doppelanlage': 33, 'Sanierung': 87, 'Neubauten': 102, 'Schön': 4, 'Brexit-Votum': 75, 'Toyota': 116, 'Friedensplan': 18, 'Steinkohle': 135, 'Stilllegung': 33, 'Braunkohle': 88, '2026': 102, 'Ratte': 102, 'Heithausen': 88, 'Grothues': 88, 'Therapien': 102, 'B': 145, 'Klein': 135, 'Szuster': 8, 'Oswiecim': 145, 'Stammlager': 4, 'Block': 18, 'Setkiewicz': 8, 'Sowjets': 84, 'Sobibor': 145, 'Charlestown': 14, 'Gabbard': 36, 'Peru': 116, 'García': 8, 'Vizcarra': 104, 'Peruaner': 33, 'Puente': 51, 'Alvarado': 36, 'Chile': 119, 'Schausteller': 36, 'stärkt': 88, 'Illies': 9, 'fünfundsiebzig': 75, 'Kaurin': 86, 'Lunde': 86, 'Wichtlinger': 84, 'Zoukak': 119, 'Madina': 36, 'Misérables': 86, 'Montfermeil': 33, 'Ladj': 119, 'Ly': 87, 'Barlachs': 86, 'Barlach': 87, 'Shareholder': 161, 'Value': 161, 'Linksunten': 84, 'Zeman': 25, 'Hilfsorganisationen': 116, 'völkischen': 51, 'wehren': 88, 'Boucheron': 119, 'Leonardo': 86, 'Machiavelli': 86, 'Ghodsee': 88, 'Wertaufbewahrung': 50, 'Geschäftsbanken': 88, 'Schkopau': 116, 'Otto.de': 88, 'Hering': 102, 'Gewässern': 116, 'Gardosch': 168, 'ungarischen': 145, 'Somalia': 119, 'Colo': 116, 'Heights': 116, 'Richards': 51, 'Sheindi': 145, 'Zauberflöte': 87, 'Romero': 51, 'Calderón': 88, 'EU-Austritt': 121, 'Wolfson': 51, 'Bootle': 102, 'SAP': 102, 'Qualtrics': 102, 'Gedeon': 116, 'Dershowitz': 36, 'Hilfetelefon': 167, 'Bischöfe': 135, 'Assad': 135, 'palästinensische': 135, 'Siedler': 135, 'palästinensischer': 88, 'Siedlungen': 161, 'Jordantal': 167, 'Ramallah': 88, 'Schrei': 104, 'Gustloff': 8, 'Floß': 116, 'Netanjahus': 36, 'Little': 86, 'Gerwig': 189, 'Antike': 87, 'Asli': 135, 'Osamu': 36, 'Suzuki': 36, 'Weiler': 51, 'Rougier': 119, 'Linksunten.Indymedia': 36, 'Dolgopolow': 51, 'Endruschat': 36, 'Fuchs': 36, 'Loach': 87, 'Turners': 84, 'Mugabes': 8, 'Hazel': 84, 'Vorster': 8, 'Rhodesien': 18, 'Mnangagwa': 8, 'Aserbaidschan': 36, 'Strenz': 31, 'Lintner': 51, 'PACE': 25, 'Asmussen': 36, 'Synode': 87, 'Priester': 88, 'Lee': 51, 'Nordkoreaner': 102, 'Hohenzollern': 116, 'VDA': 51, 'Gertrude': 36, 'Himmelfarb': 51, 'Kristol': 86, 'Gates': 189}\n"
     ]
    }
   ],
   "source": [
    "word_cluster = dict(zip(words, kmeans.labels_))\n",
    "print(word_cluster)"
   ]
  },
  {
   "attachments": {},
   "cell_type": "markdown",
   "metadata": {},
   "source": [
    "Wir speichern die Zuordnung der Cluster zu ihren Mittelpunkten (Centroids) im Vektorraum"
   ]
  },
  {
   "cell_type": "code",
   "execution_count": 84,
   "metadata": {},
   "outputs": [],
   "source": [
    "cluster_centroid = dict(\n",
    "    zip(range(len(kmeans.cluster_centers_)), kmeans.cluster_centers_)\n",
    ")"
   ]
  },
  {
   "attachments": {},
   "cell_type": "markdown",
   "metadata": {},
   "source": [
    "Nun können wir unsere Daten in einer tabellarischen Struktur zusammenbringen. Dafür vermerken wir für jedes Wort sein Cluster in einer Spalte und in einer weiteren Spalte berechnen wir für jedes Wort seine Cosinusdistanz (bzw. Cosinus-Ähnlichkeit) zum Mittelpunkt des Clusters\n"
   ]
  },
  {
   "cell_type": "code",
   "execution_count": 85,
   "metadata": {},
   "outputs": [
    {
     "name": "stderr",
     "output_type": "stream",
     "text": [
      "/var/folders/hf/7sh8pbpj1t9cgl61pd6js3lm0000gn/T/ipykernel_77715/461974868.py:6: DeprecationWarning:\n",
      "\n",
      "Call to deprecated `__getitem__` (Method will be removed in 4.0.0, use self.wv.__getitem__() instead).\n",
      "\n"
     ]
    }
   ],
   "source": [
    "import pandas as pd\n",
    "from scipy.spatial import distance\n",
    "\n",
    "df = pd.DataFrame(word_cluster.items(), columns=[\"word\", \"cluster\"])\n",
    "df[\"sim\"] = [\n",
    "    1 - distance.cosine(model_korpus1[word], cluster_centroid[word_cluster[word]])\n",
    "    for word in df[\"word\"]\n",
    "]\n",
    "df = df.sort_values(by=[\"cluster\", \"sim\"], ascending=[True, False])"
   ]
  },
  {
   "attachments": {},
   "cell_type": "markdown",
   "metadata": {},
   "source": [
    "So sieht das Ergebnis aus. mit pd.to_csv(\"datei/pfad.csv\") könnten wir die Tabelle so sichern"
   ]
  },
  {
   "cell_type": "code",
   "execution_count": 86,
   "metadata": {},
   "outputs": [],
   "source": [
    "df.head(50)\n",
    "df.to_csv(\"cluster.csv\")"
   ]
  },
  {
   "attachments": {},
   "cell_type": "markdown",
   "metadata": {},
   "source": [
    "Für eine bessere Übersicht möchten wir noch eine Zuordnung der Cluster-IDs zu den enthaltenen Wörtern in einem dictionary haben. Die Wörter sind dabei nach ihrer Cosinus-Ähnlichkeit zum jeweiligen Centroid sortiert"
   ]
  },
  {
   "cell_type": "code",
   "execution_count": 87,
   "metadata": {},
   "outputs": [
    {
     "name": "stdout",
     "output_type": "stream",
     "text": [
      "['sage', 'ließ', 'merkt', 'hofft', 'kennt', 'hört', 'finde', 'glaubt', 'traf', 'halte', 'nannte', 'bekommt', 'versuchte', 'versprach', 'nennt', 'bekomme', 'flog', 'bemühte', 'wisse', 'fasst', 'vermag', 'ergänzte', 'hielt', 'schätzt', 'blickt', 'fragt', 'mache', 'setzt', 'äußerte', 'tat', 'fürchte', 'bitte', 'trug', 'machte', 'wendet', 'denke', 'erwähnte', 'verliert', 'verwies', 'bildeten', 'sehe', 'erwarte', 'befand', 'erklärte', 'stellte', 'indem', 'redet', 'setzte', 'hoffe', 'käme', 'glaube', 'appellierte', 'brachte', 'erinnert', 'hob', 'richtete', 'fand', 'bestehe', 'wies', 'betrachtete', 'glaubte', 'wusste', 'wünscht', 'fordert', 'fügt', 'schließt', 'denkt', 'nutzt', 'ruft', 'wohnt', 'verkündete', 'feiert', 'lohnt', 'legte', 'schaut', 'verließ', 'erkannte', 'stößt', 'besitzt', 'suchte', 'zitierte', 'sucht', 'fragte', 'deutet', 'verdient', 'meint', 'nennen', 'verspricht', 'bat', 'weist', 'dauerte', 'ändert', 'bleibe', 'arbeitet', 'durfte', 'langsamer', 'übernimmt', 'erinnerte', 'gelang', 'betont', 'handele', 'bezog', 'lautet', 'weshalb', 'Wäre', 'bevor', 'verlässt', 'spielte', 'greift', 'erwartet', 'dauert', 'versucht', 'schreibt', 'brauchte', 'steckt', 'schien', 'stehe', 'obwohl', 'vierte', 'wann', 'landet', 'darauf', 'wo', 'beim']\n",
      "['niedrigen', 'Blockchain-Technologie', 'Exploration', 'langfristige', 'niedrige', 'FTTB/H-Anschlüssen', 'Haushalte', 'langfristigen', 'Berücksichtigung', 'Negativzinsen', 'Industrie', 'Museen', 'zunehmende', 'Verbraucher', 'geringen', 'Regulierung', 'kleineren', 'Anbieter', 'niedrigeren', 'Anwendungen', 'privaten', 'Versorgung', 'Weltbank', 'finanzielle', 'Weltwirtschaft', 'Akzeptanz', 'belasten', 'Lösungen', 'Qualität', 'digitaler', 'Verwaltung', 'zunehmenden', 'nachhaltige', 'Zentralbank', 'gleichermaßen', 'Intelligenz', 'Dividendenrendite', 'Volkswirtschaft', 'Institute', 'Forschung', 'entlasten', 'relativ', 'Digitalisierung', 'Pensionsfonds', 'Betriebe', 'Geldpolitik', 'Herausforderungen', 'notwendigen', 'Handel', 'künftigen', 'erheblich', 'Kommunen', 'Bitcoin', 'globale', 'DZ', 'aktuellen', 'globalen', 'Infrastruktur', 'Kohle', 'Innovation', 'Schweizer', 'Verträge', 'nationalen', 'Europäische', 'internationalen', 'Technologien', 'Wirtschaft', 'negative', 'Konjunktur', 'FRANKFURT', 'insbesondere', 'Blockchain', 'Bürgern', 'Stakeholder', 'europäischen', 'Ökonomen', 'wichtigsten', 'beispielsweise', 'EZB', 'Auswirkungen', 'staatlichen', 'Börse', 'Bedarf', 'zudem', 'Angesichts', 'Bundesfinanzminister', 'größten', 'liegen', 'Notenbank', 'Estland', 'wächst', 'Bund', 'weiterhin', 'größeren', 'entwickelt', 'besonders', 'für']\n"
     ]
    }
   ],
   "source": [
    "cluster_words = {}\n",
    "\n",
    "for i, row in df.iterrows():\n",
    "    if row[\"cluster\"] in cluster_words:\n",
    "        cluster_words[row[\"cluster\"]].append(row[\"word\"])\n",
    "    else:\n",
    "        cluster_words[row[\"cluster\"]] = [row[\"word\"]]\n",
    "\n",
    "print(cluster_words[1])\n",
    "print(cluster_words[2])"
   ]
  },
  {
   "attachments": {},
   "cell_type": "markdown",
   "metadata": {},
   "source": [
    "Und außerdem brauchen wir statt der numerischen IDs interpretierbare Labels Dazu erstellen wir eine Zusammenstellung von Cluster-ID zu einem Label, das aus den drei zentralsten Wörtern des Clusters, also den ersten drei Wörtern der Liste, besteht."
   ]
  },
  {
   "cell_type": "code",
   "execution_count": 88,
   "metadata": {},
   "outputs": [
    {
     "data": {
      "text/plain": [
       "\"\\n# Specify the CSV file name\\ncsv_file = 'data.csv'\\n\\n# Open the CSV file in write mode\\nwith open(csv_file, 'w', newline='') as csvfile:\\n    fieldnames = cluster_label[0].keys()  # Use the keys from the dictionary as column headers\\n\\n    # Create a DictWriter object\\n    writer = csv.DictWriter(csvfile, fieldnames=fieldnames)\\n\\n    # Write the header row\\n    writer.writeheader()\\n\\n    # Write the data\\n    writer.writerows(cluster_label)\\n\\nprint(f'Data has been written to {csv_file}')\\n\""
      ]
     },
     "execution_count": 88,
     "metadata": {},
     "output_type": "execute_result"
    }
   ],
   "source": [
    "import csv\n",
    "cluster_label = {}\n",
    "\n",
    "for cluster, words in cluster_words.items():\n",
    "    cluster_label[cluster] = \"|\".join(words[:10])\n",
    "cluster_label\n",
    "\"\"\"\n",
    "# Specify the CSV file name\n",
    "csv_file = 'data.csv'\n",
    "\n",
    "# Open the CSV file in write mode\n",
    "with open(csv_file, 'w', newline='') as csvfile:\n",
    "    fieldnames = cluster_label[0].keys()  # Use the keys from the dictionary as column headers\n",
    "\n",
    "    # Create a DictWriter object\n",
    "    writer = csv.DictWriter(csvfile, fieldnames=fieldnames)\n",
    "\n",
    "    # Write the header row\n",
    "    writer.writeheader()\n",
    "\n",
    "    # Write the data\n",
    "    writer.writerows(cluster_label)\n",
    "\n",
    "print(f'Data has been written to {csv_file}')\n",
    "\"\"\""
   ]
  },
  {
   "attachments": {},
   "cell_type": "markdown",
   "metadata": {},
   "source": [
    "Möchten wir nun z.B anhand eines Wortes wissen, mit welchen anderen Wörtern es ein Cluster teilt, können wir das wie folgt abfragen word_cluste[\"korpus2\"] gibt uns die Cluster-ID zurück, die wir dann im dicionary cluster_words abfragen."
   ]
  },
  {
   "cell_type": "code",
   "execution_count": 89,
   "metadata": {},
   "outputs": [
    {
     "data": {
      "text/plain": [
       "['Land',\n",
       " 'Herz',\n",
       " 'System',\n",
       " 'Problem',\n",
       " 'Geschäft',\n",
       " 'Gesetz',\n",
       " 'Volk',\n",
       " 'Vertrauen',\n",
       " 'Gefühl',\n",
       " 'Theater',\n",
       " 'Thema',\n",
       " 'Angebot',\n",
       " 'Haus',\n",
       " 'Geld',\n",
       " 'Leben',\n",
       " 'eigenes',\n",
       " 'Abkommen',\n",
       " 'Interesse',\n",
       " 'Ziel',\n",
       " 'Verhältnis',\n",
       " 'Recht']"
      ]
     },
     "execution_count": 89,
     "metadata": {},
     "output_type": "execute_result"
    }
   ],
   "source": [
    "cluster_words[word_cluster[\"Volk\"]]"
   ]
  },
  {
   "attachments": {},
   "cell_type": "markdown",
   "metadata": {},
   "source": [
    "Diese Funktion berechnet das Modell. Wir übergeben den Pfad zum Word-Embedding-Modell, das geclustert werden soll, die Anzahl der Cluster k sowie optional einen Pfad zum Sichern des fertigen kmeans-Modells. Wird hier kein Pfad übergeben, wird das Modell im gleichen Ordner wie das WE-Modell gesichert. Außerdem können wir optional eine Mindestfrequenz für die Types des Korpus sowie ein entsprechendes Dictionary, in dem diese ausgezählt sind, übergeben. Ein Funktionsaufruf zum trainieren unseres obigen Modells  könnte so aussehen:"
   ]
  },
  {
   "cell_type": "code",
   "execution_count": 90,
   "metadata": {},
   "outputs": [
    {
     "name": "stderr",
     "output_type": "stream",
     "text": [
      "/Users/davideventre/Library/Python/3.9/lib/python/site-packages/sklearn/cluster/_kmeans.py:1412: FutureWarning:\n",
      "\n",
      "The default value of `n_init` will change from 10 to 'auto' in 1.4. Set the value of `n_init` explicitly to suppress the warning\n",
      "\n",
      "/Users/davideventre/Library/Python/3.9/lib/python/site-packages/sklearn/cluster/_kmeans.py:1412: FutureWarning:\n",
      "\n",
      "The default value of `n_init` will change from 10 to 'auto' in 1.4. Set the value of `n_init` explicitly to suppress the warning\n",
      "\n"
     ]
    }
   ],
   "source": [
    "import lib\n",
    "from sklearn import cluster\n",
    "\n",
    "kmeans = lib.compute_kmeans(\"model/sentences_korpus2_min_count.model\", k=k, min_count=100)\n",
    "kmeans2 = lib.compute_kmeans(\"model/sentences_korpus1_min_count.model\", k=k, min_count=100)"
   ]
  },
  {
   "cell_type": "code",
   "execution_count": 91,
   "metadata": {},
   "outputs": [],
   "source": [
    "word_cluster, cluster_words, cluster_centroid, cluster_label = lib.load_kmeans(\"model/sentences_korpus2_min_count.model.kmeans.pkl\", \"model/sentences_korpus2_min_count.model\")\n",
    "word_cluster2, cluster_words2, cluster_centroid2, cluster_label2 = lib.load_kmeans(\"model/sentences_korpus1_min_count.model.kmeans.pkl\", \"model/sentences_korpus1_min_count.model\")"
   ]
  },
  {
   "attachments": {},
   "cell_type": "markdown",
   "metadata": {},
   "source": [
    "So wie wir zu einzelnen Wörtern nächste Nachbarn abfragen können, können wir das auch zu den Clustern, indem wir den Centroid der Cluster verwenden dafür modifizieren wir unsere time_machine Funktion, sodass wir ihr entweder ein Wort oder einen Vektor übergeben können."
   ]
  },
  {
   "cell_type": "code",
   "execution_count": 92,
   "metadata": {},
   "outputs": [
    {
     "data": {
      "text/plain": [
       "[('medizinischen', 0.5736995935440063),\n",
       " ('Rechtsordnung', 0.5579150915145874),\n",
       " ('kulturelle', 0.5464684963226318),\n",
       " ('religiöse', 0.5452260971069336),\n",
       " ('Ausübung', 0.5370306968688965),\n",
       " ('Aktivisten', 0.5346746444702148),\n",
       " ('psychologischen', 0.526710569858551),\n",
       " ('Neutralität', 0.5189263820648193),\n",
       " ('säkularisierten', 0.5145954489707947),\n",
       " ('Hindernisse', 0.5128360986709595)]"
      ]
     },
     "execution_count": 92,
     "metadata": {},
     "output_type": "execute_result"
    }
   ],
   "source": [
    "def time_machine(model1, model2, word_or_vec):\n",
    "    if type(word_or_vec) == str:\n",
    "        embedding = model1[word_or_vec]\n",
    "    else:\n",
    "        embedding = word_or_vec\n",
    "    return model2.wv.most_similar([embedding])\n",
    "\n",
    "centroid = cluster_centroid2[word_cluster2[\"Solidarität\"]]\n",
    "time_machine(model_korpus1, model_korpus2, centroid)"
   ]
  },
  {
   "cell_type": "code",
   "execution_count": 93,
   "metadata": {},
   "outputs": [
    {
     "data": {
      "text/plain": [
       "[('Ausweitung', 0.638799786567688),\n",
       " ('Änderung', 0.6226786375045776),\n",
       " ('Annexion', 0.6202496886253357),\n",
       " ('Durchsetzung', 0.610773503780365),\n",
       " ('Regelung', 0.6061670184135437),\n",
       " ('Verfassungsänderung', 0.5918546915054321),\n",
       " ('Vernichtung', 0.5885361433029175),\n",
       " ('Verbesserung', 0.5864938497543335),\n",
       " ('Untersuchung', 0.5857803225517273),\n",
       " ('Entlastung', 0.5832583904266357)]"
      ]
     },
     "execution_count": 93,
     "metadata": {},
     "output_type": "execute_result"
    }
   ],
   "source": [
    "centroid = cluster_centroid[word_cluster[\"Solidarität\"]]\n",
    "time_machine(model_korpus2, model_korpus1, centroid)"
   ]
  },
  {
   "attachments": {},
   "cell_type": "markdown",
   "metadata": {},
   "source": [
    "### Ähnliche Cluster berechnen"
   ]
  },
  {
   "cell_type": "code",
   "execution_count": 94,
   "metadata": {},
   "outputs": [
    {
     "name": "stdout",
     "output_type": "stream",
     "text": [
      "Brutalität|Menschenwürde|Kulturen 0.29\n",
      "Moscheen|Bezirken|griffen 0.28\n",
      "Demokratie|nationale|Gegenwart 0.25\n",
      "wir|Wir 0.22\n",
      "Versicherungen|rechtlichen|medizinische 0.21\n",
      "unserem|diesen|jedem 0.21\n",
      "Zusammenarbeit|Mitgliedstaaten|Vielfalt 0.2\n",
      "of|the|and 0.18\n",
      "ins|dieses|jedes 0.18\n",
      "Frauen 0.18\n"
     ]
    },
    {
     "name": "stderr",
     "output_type": "stream",
     "text": [
      "/var/folders/hf/7sh8pbpj1t9cgl61pd6js3lm0000gn/T/ipykernel_77715/1339255853.py:1: DeprecationWarning:\n",
      "\n",
      "Call to deprecated `__getitem__` (Method will be removed in 4.0.0, use self.wv.__getitem__() instead).\n",
      "\n"
     ]
    },
    {
     "data": {
      "text/plain": [
       "{81: 0.2872501611709595,\n",
       " 163: 0.2763715088367462,\n",
       " 170: 0.24564850330352783,\n",
       " 186: 0.2218509465456009,\n",
       " 34: 0.2114371359348297,\n",
       " 68: 0.21005812287330627,\n",
       " 2: 0.1985180377960205,\n",
       " 149: 0.17909365892410278,\n",
       " 153: 0.17883576452732086,\n",
       " 172: 0.17799021303653717,\n",
       " 151: 0.17627175152301788,\n",
       " 177: 0.1704244762659073,\n",
       " 121: 0.1697154939174652,\n",
       " 33: 0.16957031190395355,\n",
       " 25: 0.16293153166770935,\n",
       " 106: 0.15595869719982147,\n",
       " 94: 0.15444731712341309,\n",
       " 157: 0.1354384869337082,\n",
       " 125: 0.1345892697572708,\n",
       " 132: 0.13377010822296143,\n",
       " 116: 0.1269909292459488,\n",
       " 112: 0.12347224354743958,\n",
       " 27: 0.11927089840173721,\n",
       " 118: 0.11731042712926865,\n",
       " 47: 0.11719460040330887,\n",
       " 109: 0.10764659941196442,\n",
       " 58: 0.10366563498973846,\n",
       " 126: 0.10308019816875458,\n",
       " 124: 0.10243187844753265,\n",
       " 162: 0.10004092752933502,\n",
       " 96: 0.09213514626026154,\n",
       " 45: 0.09175480902194977,\n",
       " 156: 0.08748666197061539,\n",
       " 161: 0.08719785511493683,\n",
       " 30: 0.08529023826122284,\n",
       " 144: 0.08366631716489792,\n",
       " 88: 0.08319475501775742,\n",
       " 49: 0.08116558939218521,\n",
       " 50: 0.08054550737142563,\n",
       " 189: 0.07997410744428635,\n",
       " 6: 0.07734914869070053,\n",
       " 85: 0.0765533447265625,\n",
       " 133: 0.07583917677402496,\n",
       " 16: 0.07173265516757965,\n",
       " 158: 0.06950773298740387,\n",
       " 48: 0.06877784430980682,\n",
       " 140: 0.06862959265708923,\n",
       " 143: 0.06440513581037521,\n",
       " 115: 0.06275983899831772,\n",
       " 63: 0.057917509227991104,\n",
       " 190: 0.054278742522001266,\n",
       " 148: 0.05263955891132355,\n",
       " 182: 0.05137236416339874,\n",
       " 17: 0.04938128590583801,\n",
       " 123: 0.04695987328886986,\n",
       " 152: 0.04665909335017204,\n",
       " 129: 0.04518886283040047,\n",
       " 166: 0.04308587312698364,\n",
       " 131: 0.041581302881240845,\n",
       " 119: 0.04000914841890335,\n",
       " 130: 0.03882685676217079,\n",
       " 98: 0.03879127278923988,\n",
       " 110: 0.03821663185954094,\n",
       " 90: 0.03754184767603874,\n",
       " 9: 0.03586084023118019,\n",
       " 183: 0.034013982862234116,\n",
       " 43: 0.033948589116334915,\n",
       " 20: 0.03314077854156494,\n",
       " 79: 0.03298056870698929,\n",
       " 89: 0.03186061233282089,\n",
       " 72: 0.030188871547579765,\n",
       " 83: 0.02999774180352688,\n",
       " 29: 0.029665596783161163,\n",
       " 46: 0.028423653915524483,\n",
       " 22: 0.027033252641558647,\n",
       " 44: 0.025204120203852654,\n",
       " 103: 0.02430945821106434,\n",
       " 174: 0.024063417688012123,\n",
       " 28: 0.022668730467557907,\n",
       " 14: 0.02115834504365921,\n",
       " 141: 0.019902952015399933,\n",
       " 26: 0.019835546612739563,\n",
       " 136: 0.019778652116656303,\n",
       " 69: 0.019068190827965736,\n",
       " 66: 0.018643368035554886,\n",
       " 65: 0.017124807462096214,\n",
       " 24: 0.016052816063165665,\n",
       " 180: 0.01475150603801012,\n",
       " 99: 0.01391057949513197,\n",
       " 168: 0.01333433948457241,\n",
       " 184: 0.0103285051882267,\n",
       " 21: 0.009775013662874699,\n",
       " 10: 0.00870584324002266,\n",
       " 135: 0.00826515443623066,\n",
       " 23: 0.008110669441521168,\n",
       " 37: 0.005150245502591133,\n",
       " 145: 0.004574682097882032,\n",
       " 31: 0.004225690383464098,\n",
       " 19: 0.002650746377184987,\n",
       " 78: -0.0023481023963540792,\n",
       " 70: -0.0036797181237488985,\n",
       " 80: -0.004852307960391045,\n",
       " 147: -0.006114847958087921,\n",
       " 178: -0.00710470462217927,\n",
       " 111: -0.00836446974426508,\n",
       " 108: -0.008716343902051449,\n",
       " 159: -0.01110414694994688,\n",
       " 137: -0.014819079078733921,\n",
       " 82: -0.015525510534644127,\n",
       " 185: -0.015737876296043396,\n",
       " 134: -0.01991301216185093,\n",
       " 187: -0.02066856622695923,\n",
       " 84: -0.020717667415738106,\n",
       " 127: -0.020768534392118454,\n",
       " 60: -0.02288566716015339,\n",
       " 139: -0.023174038156867027,\n",
       " 150: -0.023315027356147766,\n",
       " 95: -0.02393868751823902,\n",
       " 38: -0.02486405149102211,\n",
       " 154: -0.024951765313744545,\n",
       " 18: -0.030201304703950882,\n",
       " 93: -0.03255429118871689,\n",
       " 101: -0.03569267317652702,\n",
       " 73: -0.03569760546088219,\n",
       " 5: -0.036605317145586014,\n",
       " 164: -0.04024314135313034,\n",
       " 92: -0.04161013290286064,\n",
       " 181: -0.04167085886001587,\n",
       " 175: -0.041689250618219376,\n",
       " 11: -0.04314061999320984,\n",
       " 0: -0.043359506875276566,\n",
       " 138: -0.04500488191843033,\n",
       " 171: -0.045271847397089005,\n",
       " 56: -0.0463477186858654,\n",
       " 105: -0.04794872924685478,\n",
       " 173: -0.04800520837306976,\n",
       " 62: -0.048072680830955505,\n",
       " 12: -0.052520494908094406,\n",
       " 160: -0.05262775346636772,\n",
       " 87: -0.054788216948509216,\n",
       " 114: -0.05502806603908539,\n",
       " 117: -0.05581451207399368,\n",
       " 122: -0.056858599185943604,\n",
       " 167: -0.057561684399843216,\n",
       " 179: -0.05797531455755234,\n",
       " 128: -0.059999898076057434,\n",
       " 188: -0.061478666961193085,\n",
       " 155: -0.061604131013154984,\n",
       " 41: -0.06165214627981186,\n",
       " 8: -0.06478440761566162,\n",
       " 100: -0.06511317193508148,\n",
       " 71: -0.0663059875369072,\n",
       " 54: -0.07226244360208511,\n",
       " 42: -0.07560297846794128,\n",
       " 3: -0.07800471782684326,\n",
       " 176: -0.07927591353654861,\n",
       " 97: -0.08063283562660217,\n",
       " 53: -0.0821831077337265,\n",
       " 55: -0.08264254033565521,\n",
       " 1: -0.083980031311512,\n",
       " 32: -0.08466988801956177,\n",
       " 74: -0.08472013473510742,\n",
       " 146: -0.08658332377672195,\n",
       " 67: -0.08926025032997131,\n",
       " 52: -0.08958786725997925,\n",
       " 120: -0.09398362785577774,\n",
       " 107: -0.09503223747015,\n",
       " 35: -0.0964585468173027,\n",
       " 39: -0.09758225083351135,\n",
       " 13: -0.1043858677148819,\n",
       " 75: -0.10545433312654495,\n",
       " 51: -0.1073521301150322,\n",
       " 77: -0.11362627893686295,\n",
       " 169: -0.11415910720825195,\n",
       " 36: -0.11510395258665085,\n",
       " 91: -0.1155250072479248,\n",
       " 76: -0.12110280990600586,\n",
       " 7: -0.1288144439458847,\n",
       " 104: -0.1288384348154068,\n",
       " 113: -0.1420852243900299,\n",
       " 40: -0.14797842502593994,\n",
       " 15: -0.15684941411018372,\n",
       " 4: -0.15831130743026733,\n",
       " 102: -0.16310913860797882,\n",
       " 64: -0.16318759322166443,\n",
       " 61: -0.1688399612903595,\n",
       " 59: -0.176123708486557,\n",
       " 142: -0.18046462535858154,\n",
       " 86: -0.1893136203289032,\n",
       " 57: -0.21392278373241425,\n",
       " 165: -0.23579932749271393}"
      ]
     },
     "execution_count": 94,
     "metadata": {},
     "output_type": "execute_result"
    }
   ],
   "source": [
    "lib.get_most_similar_clusters(model_korpus1[\"Solidarität\"], cluster_centroid2, cluster_label2)\n"
   ]
  },
  {
   "attachments": {},
   "cell_type": "markdown",
   "metadata": {},
   "source": [
    "### Entfernte Clusters"
   ]
  },
  {
   "cell_type": "code",
   "execution_count": 95,
   "metadata": {},
   "outputs": [
    {
     "data": {
      "text/plain": [
       "{'während': 0.7845290899276733,\n",
       " 'Roma|Frankreich': 0.773831382393837,\n",
       " 'Deutschen': 0.7322509586811066,\n",
       " 'Frau': 0.632010281085968,\n",
       " 'September': 0.6050704121589661,\n",
       " 'doch': 0.6022545993328094,\n",
       " 'Banken': 0.587448239326477,\n",
       " 'vom': 0.5803453028202057,\n",
       " 'Internet': 0.5653052628040314,\n",
       " 'Danach|Zwar|Heute': 0.561120699942112,\n",
       " 'Eltern|Kinder|Familien': 0.5482966993004084,\n",
       " '2012|2015|2030': 0.5445947401225567,\n",
       " 'richtig|alles|ja': 0.5338904882914254,\n",
       " 'Ansicht|Angaben|Suche': 0.5199679697261137,\n",
       " '!': 0.5191918611526489,\n",
       " 'Bundesregierung|CDU|SPD': 0.5143425431516435,\n",
       " 'groß|viel|etwas': 0.5138828611892202,\n",
       " 'Unternehmen': 0.4941704273223877,\n",
       " 'Gerichtshof|Europäischen|Europäische': 0.4902157485485077,\n",
       " '12|14|7': 0.4825370368119833,\n",
       " 'wer': 0.4795107841491699,\n",
       " 'steht': 0.4785652160644531,\n",
       " 'dann': 0.4772442579269409,\n",
       " 'New|York': 0.4712052643299103,\n",
       " 'Recht': 0.47078055143356323,\n",
       " 'Finanzkrise': 0.464777410030365,\n",
       " 'könnte|würde|dürfte': 0.4639243185520172,\n",
       " 'braucht|ist|sieht': 0.4583222634262509,\n",
       " 'weil': 0.45649105310440063,\n",
       " 'werde|will|wolle': 0.44935808579126996,\n",
       " 'durch': 0.4435828924179077,\n",
       " 'August': 0.4427005648612976,\n",
       " 'anderen': 0.4400257468223572,\n",
       " 'unsere|uns|alle': 0.43110523372888565,\n",
       " 'hätten|haben|hatten': 0.42237450588833203,\n",
       " 'diese': 0.4220706820487976,\n",
       " 'Wer': 0.420110821723938,\n",
       " 'Und|Aber': 0.4182221293449402,\n",
       " 'sein|bleiben': 0.4177592396736145,\n",
       " 'Woche': 0.41215938329696655,\n",
       " 'denen': 0.410555362701416,\n",
       " 'müssen|sollten|können': 0.4079618602991104,\n",
       " 'seiner': 0.39995115995407104,\n",
       " 'was': 0.3948360085487366,\n",
       " 'Hier|Dabei|Allerdings': 0.3940763702759376,\n",
       " 'Wenn': 0.39391010999679565,\n",
       " 'dieses|kein|das': 0.38414639234542847,\n",
       " 'könne|kann|müsse': 0.3817853212356567,\n",
       " 'ihren': 0.3806877136230469,\n",
       " 'soll|sollen': 0.3805293142795563,\n",
       " 'wieder': 0.370125949382782,\n",
       " 'seinem': 0.3647264242172241,\n",
       " 'wurde': 0.3599609136581421,\n",
       " 'gebe|gibt|geht': 0.3590844598683444,\n",
       " 'seinen': 0.3526197075843811,\n",
       " 'seine': 0.3502228856086731,\n",
       " 'Jahrhundert': 0.34431320428848267,\n",
       " 'Als': 0.344257652759552,\n",
       " 'wird': 0.34418851137161255,\n",
       " 'Millionen|Milliarden|000': 0.34065916140874225,\n",
       " 'wurden': 0.33842194080352783,\n",
       " 'Von': 0.33813774585723877,\n",
       " 'Mit': 0.33356356620788574,\n",
       " 'Nach|Bei|An': 0.3326035737991333,\n",
       " 'Sie': 0.32666242122650146,\n",
       " 'gegen': 0.32316911220550537,\n",
       " 'Mittwoch|Wochenende|Dienstag': 0.3223769307136536,\n",
       " 'auch': 0.3107120394706726,\n",
       " 'diesem|kommenden|nächsten': 0.31054602066675824,\n",
       " 'S.|[|geb': 0.29932913184165955,\n",
       " 'hatte': 0.2957480549812317,\n",
       " 'aus|Aus': 0.29230254888534546,\n",
       " 'mit': 0.2914092540740967,\n",
       " 'Er': 0.29091066122055054,\n",
       " 'mehr|weniger': 0.28773805499076843,\n",
       " 'Monaten|Jahren|Wochen': 0.2829860746860504,\n",
       " 'Staaten': 0.28182631731033325,\n",
       " 'war|waren': 0.280466228723526,\n",
       " 'hat': 0.27910131216049194,\n",
       " 'ein': 0.2760082483291626,\n",
       " 'sondern': 0.27381056547164917,\n",
       " 'zwischen': 0.27337855100631714,\n",
       " 'In': 0.2673383951187134,\n",
       " 'man': 0.26550382375717163,\n",
       " '?': 0.2645528316497803,\n",
       " 'vergangenen': 0.2622528076171875,\n",
       " 'Wir': 0.26014524698257446,\n",
       " 'aber': 0.2599946856498718,\n",
       " 'allem': 0.2578543424606323,\n",
       " 'Ich': 0.2574688196182251,\n",
       " '-': 0.25652992725372314,\n",
       " 'einer': 0.256155788898468,\n",
       " 'um': 0.24758988618850708,\n",
       " 'seit': 0.24744290113449097,\n",
       " 'einem': 0.24744266271591187,\n",
       " 'Euro|Dollar': 0.2405758500099182,\n",
       " 'sagte|sagt': 0.23768600821495056,\n",
       " 'Der': 0.2355821132659912,\n",
       " 'Das': 0.2348201870918274,\n",
       " 'Die': 0.23162376880645752,\n",
       " 'Es': 0.22507208585739136,\n",
       " 'noch': 0.21821534633636475,\n",
       " 'es': 0.2144131064414978,\n",
       " 'als': 0.21372294425964355,\n",
       " 'wir': 0.21272850036621094,\n",
       " 'über': 0.2098425030708313,\n",
       " 'sind': 0.20819729566574097,\n",
       " 'nur': 0.20740944147109985,\n",
       " 'ich': 0.20664572715759277,\n",
       " 'werden': 0.20467275381088257,\n",
       " 'nach': 0.20351672172546387,\n",
       " 'so': 0.19983768463134766,\n",
       " 'wie': 0.19505321979522705,\n",
       " 'Jahr': 0.19042664766311646,\n",
       " 'zur': 0.1891099214553833,\n",
       " 'Im': 0.18093341588974,\n",
       " 'er': 0.17569410800933838,\n",
       " 'an': 0.17565590143203735,\n",
       " 'am|Am': 0.17422020435333252,\n",
       " 'Jahre': 0.1679036021232605,\n",
       " 'vor|Vor': 0.1674758791923523,\n",
       " ')': 0.1623692512512207,\n",
       " '(': 0.1545749306678772,\n",
       " 'zum': 0.1544291377067566,\n",
       " 'Prozent': 0.14285820722579956,\n",
       " 'einen': 0.13280314207077026}"
      ]
     },
     "execution_count": 95,
     "metadata": {},
     "output_type": "execute_result"
    }
   ],
   "source": [
    "import numpy as np\n",
    "\n",
    "lib.get_most_distant_clusters(\n",
    "    model_korpus1, cluster_words, cluster_label, model_korpus2\n",
    ")\n"
   ]
  },
  {
   "cell_type": "markdown",
   "metadata": {},
   "source": [
    "### Semantische Achse\n"
   ]
  },
  {
   "cell_type": "code",
   "execution_count": 96,
   "metadata": {},
   "outputs": [
    {
     "name": "stdout",
     "output_type": "stream",
     "text": [
      "[(-0.06670394, 'schlecht'), (0.85807824, 'gut')]\n"
     ]
    },
    {
     "data": {
      "image/png": "[encoded data removed]",
      "text/plain": [
       "<Figure size 600x300 with 1 Axes>"
      ]
     },
     "metadata": {},
     "output_type": "display_data"
    },
    {
     "name": "stdout",
     "output_type": "stream",
     "text": [
      "[(0.10521132, 'schlecht'), (0.915982, 'gut')]\n"
     ]
    },
    {
     "data": {
      "image/png": "[encoded data removed]",
      "text/plain": [
       "<Figure size 600x300 with 1 Axes>"
      ]
     },
     "metadata": {},
     "output_type": "display_data"
    }
   ],
   "source": [
    "import lib\n",
    "antonym_list = [\n",
    "(\"gut\", \"schlecht\"),\n",
    "]\n",
    "\n",
    "word_list = ['gut', 'schlecht']\n",
    "\n",
    "cos_sim = lib.we_basics('./model/sentences_korpus1_min_count.model', antonym_list, word_list)\n",
    "lib.plot_cosine_similarity(cos_sim, antonym_list, word_list)\n",
    "cos_sim = lib.we_basics('./model/sentences_korpus3_min_count.model', antonym_list, word_list)\n",
    "lib.plot_cosine_similarity(cos_sim, antonym_list, word_list)"
   ]
  },
  {
   "cell_type": "code",
   "execution_count": 97,
   "metadata": {},
   "outputs": [
    {
     "name": "stdout",
     "output_type": "stream",
     "text": [
      "[(-0.05388267, 'Solidarität')]\n"
     ]
    },
    {
     "data": {
      "application/vnd.plotly.v1+json": {
       "config": {
        "linkText": "Export to plot.ly",
        "plotlyServerURL": "https://plot.ly",
        "showLink": false
       },
       "data": [
        {
         "hoverinfo": "text",
         "hovertemplate": "%{hovertext}<extra></extra>",
         "hovertext": [
          "Solidarität"
         ],
         "marker": {
          "color": [
           85.15055973082781
          ],
          "colorscale": [
           [
            0,
            "#0d0887"
           ],
           [
            0.1111111111111111,
            "#46039f"
           ],
           [
            0.2222222222222222,
            "#7201a8"
           ],
           [
            0.3333333333333333,
            "#9c179e"
           ],
           [
            0.4444444444444444,
            "#bd3786"
           ],
           [
            0.5555555555555556,
            "#d8576b"
           ],
           [
            0.6666666666666666,
            "#ed7953"
           ],
           [
            0.7777777777777778,
            "#fb9f3a"
           ],
           [
            0.8888888888888888,
            "#fdca26"
           ],
           [
            1,
            "#f0f921"
           ]
          ],
          "line": {
           "color": "white",
           "width": 0.5
          },
          "opacity": 0.7,
          "size": 10
         },
         "mode": "markers",
         "type": "scatter",
         "x": [
          85.15055973082781
         ],
         "y": [
          85.15055973082781
         ]
        }
       ],
       "layout": {
        "coloraxis": {
         "colorbar": {
          "title": {
           "text": "Angle"
          }
         }
        },
        "template": {
         "data": {
          "bar": [
           {
            "error_x": {
             "color": "#2a3f5f"
            },
            "error_y": {
             "color": "#2a3f5f"
            },
            "marker": {
             "line": {
              "color": "#E5ECF6",
              "width": 0.5
             },
             "pattern": {
              "fillmode": "overlay",
              "size": 10,
              "solidity": 0.2
             }
            },
            "type": "bar"
           }
          ],
          "barpolar": [
           {
            "marker": {
             "line": {
              "color": "#E5ECF6",
              "width": 0.5
             },
             "pattern": {
              "fillmode": "overlay",
              "size": 10,
              "solidity": 0.2
             }
            },
            "type": "barpolar"
           }
          ],
          "carpet": [
           {
            "aaxis": {
             "endlinecolor": "#2a3f5f",
             "gridcolor": "white",
             "linecolor": "white",
             "minorgridcolor": "white",
             "startlinecolor": "#2a3f5f"
            },
            "baxis": {
             "endlinecolor": "#2a3f5f",
             "gridcolor": "white",
             "linecolor": "white",
             "minorgridcolor": "white",
             "startlinecolor": "#2a3f5f"
            },
            "type": "carpet"
           }
          ],
          "choropleth": [
           {
            "colorbar": {
             "outlinewidth": 0,
             "ticks": ""
            },
            "type": "choropleth"
           }
          ],
          "contour": [
           {
            "colorbar": {
             "outlinewidth": 0,
             "ticks": ""
            },
            "colorscale": [
             [
              0,
              "#0d0887"
             ],
             [
              0.1111111111111111,
              "#46039f"
             ],
             [
              0.2222222222222222,
              "#7201a8"
             ],
             [
              0.3333333333333333,
              "#9c179e"
             ],
             [
              0.4444444444444444,
              "#bd3786"
             ],
             [
              0.5555555555555556,
              "#d8576b"
             ],
             [
              0.6666666666666666,
              "#ed7953"
             ],
             [
              0.7777777777777778,
              "#fb9f3a"
             ],
             [
              0.8888888888888888,
              "#fdca26"
             ],
             [
              1,
              "#f0f921"
             ]
            ],
            "type": "contour"
           }
          ],
          "contourcarpet": [
           {
            "colorbar": {
             "outlinewidth": 0,
             "ticks": ""
            },
            "type": "contourcarpet"
           }
          ],
          "heatmap": [
           {
            "colorbar": {
             "outlinewidth": 0,
             "ticks": ""
            },
            "colorscale": [
             [
              0,
              "#0d0887"
             ],
             [
              0.1111111111111111,
              "#46039f"
             ],
             [
              0.2222222222222222,
              "#7201a8"
             ],
             [
              0.3333333333333333,
              "#9c179e"
             ],
             [
              0.4444444444444444,
              "#bd3786"
             ],
             [
              0.5555555555555556,
              "#d8576b"
             ],
             [
              0.6666666666666666,
              "#ed7953"
             ],
             [
              0.7777777777777778,
              "#fb9f3a"
             ],
             [
              0.8888888888888888,
              "#fdca26"
             ],
             [
              1,
              "#f0f921"
             ]
            ],
            "type": "heatmap"
           }
          ],
          "heatmapgl": [
           {
            "colorbar": {
             "outlinewidth": 0,
             "ticks": ""
            },
            "colorscale": [
             [
              0,
              "#0d0887"
             ],
             [
              0.1111111111111111,
              "#46039f"
             ],
             [
              0.2222222222222222,
              "#7201a8"
             ],
             [
              0.3333333333333333,
              "#9c179e"
             ],
             [
              0.4444444444444444,
              "#bd3786"
             ],
             [
              0.5555555555555556,
              "#d8576b"
             ],
             [
              0.6666666666666666,
              "#ed7953"
             ],
             [
              0.7777777777777778,
              "#fb9f3a"
             ],
             [
              0.8888888888888888,
              "#fdca26"
             ],
             [
              1,
              "#f0f921"
             ]
            ],
            "type": "heatmapgl"
           }
          ],
          "histogram": [
           {
            "marker": {
             "pattern": {
              "fillmode": "overlay",
              "size": 10,
              "solidity": 0.2
             }
            },
            "type": "histogram"
           }
          ],
          "histogram2d": [
           {
            "colorbar": {
             "outlinewidth": 0,
             "ticks": ""
            },
            "colorscale": [
             [
              0,
              "#0d0887"
             ],
             [
              0.1111111111111111,
              "#46039f"
             ],
             [
              0.2222222222222222,
              "#7201a8"
             ],
             [
              0.3333333333333333,
              "#9c179e"
             ],
             [
              0.4444444444444444,
              "#bd3786"
             ],
             [
              0.5555555555555556,
              "#d8576b"
             ],
             [
              0.6666666666666666,
              "#ed7953"
             ],
             [
              0.7777777777777778,
              "#fb9f3a"
             ],
             [
              0.8888888888888888,
              "#fdca26"
             ],
             [
              1,
              "#f0f921"
             ]
            ],
            "type": "histogram2d"
           }
          ],
          "histogram2dcontour": [
           {
            "colorbar": {
             "outlinewidth": 0,
             "ticks": ""
            },
            "colorscale": [
             [
              0,
              "#0d0887"
             ],
             [
              0.1111111111111111,
              "#46039f"
             ],
             [
              0.2222222222222222,
              "#7201a8"
             ],
             [
              0.3333333333333333,
              "#9c179e"
             ],
             [
              0.4444444444444444,
              "#bd3786"
             ],
             [
              0.5555555555555556,
              "#d8576b"
             ],
             [
              0.6666666666666666,
              "#ed7953"
             ],
             [
              0.7777777777777778,
              "#fb9f3a"
             ],
             [
              0.8888888888888888,
              "#fdca26"
             ],
             [
              1,
              "#f0f921"
             ]
            ],
            "type": "histogram2dcontour"
           }
          ],
          "mesh3d": [
           {
            "colorbar": {
             "outlinewidth": 0,
             "ticks": ""
            },
            "type": "mesh3d"
           }
          ],
          "parcoords": [
           {
            "line": {
             "colorbar": {
              "outlinewidth": 0,
              "ticks": ""
             }
            },
            "type": "parcoords"
           }
          ],
          "pie": [
           {
            "automargin": true,
            "type": "pie"
           }
          ],
          "scatter": [
           {
            "fillpattern": {
             "fillmode": "overlay",
             "size": 10,
             "solidity": 0.2
            },
            "type": "scatter"
           }
          ],
          "scatter3d": [
           {
            "line": {
             "colorbar": {
              "outlinewidth": 0,
              "ticks": ""
             }
            },
            "marker": {
             "colorbar": {
              "outlinewidth": 0,
              "ticks": ""
             }
            },
            "type": "scatter3d"
           }
          ],
          "scattercarpet": [
           {
            "marker": {
             "colorbar": {
              "outlinewidth": 0,
              "ticks": ""
             }
            },
            "type": "scattercarpet"
           }
          ],
          "scattergeo": [
           {
            "marker": {
             "colorbar": {
              "outlinewidth": 0,
              "ticks": ""
             }
            },
            "type": "scattergeo"
           }
          ],
          "scattergl": [
           {
            "marker": {
             "colorbar": {
              "outlinewidth": 0,
              "ticks": ""
             }
            },
            "type": "scattergl"
           }
          ],
          "scattermapbox": [
           {
            "marker": {
             "colorbar": {
              "outlinewidth": 0,
              "ticks": ""
             }
            },
            "type": "scattermapbox"
           }
          ],
          "scatterpolar": [
           {
            "marker": {
             "colorbar": {
              "outlinewidth": 0,
              "ticks": ""
             }
            },
            "type": "scatterpolar"
           }
          ],
          "scatterpolargl": [
           {
            "marker": {
             "colorbar": {
              "outlinewidth": 0,
              "ticks": ""
             }
            },
            "type": "scatterpolargl"
           }
          ],
          "scatterternary": [
           {
            "marker": {
             "colorbar": {
              "outlinewidth": 0,
              "ticks": ""
             }
            },
            "type": "scatterternary"
           }
          ],
          "surface": [
           {
            "colorbar": {
             "outlinewidth": 0,
             "ticks": ""
            },
            "colorscale": [
             [
              0,
              "#0d0887"
             ],
             [
              0.1111111111111111,
              "#46039f"
             ],
             [
              0.2222222222222222,
              "#7201a8"
             ],
             [
              0.3333333333333333,
              "#9c179e"
             ],
             [
              0.4444444444444444,
              "#bd3786"
             ],
             [
              0.5555555555555556,
              "#d8576b"
             ],
             [
              0.6666666666666666,
              "#ed7953"
             ],
             [
              0.7777777777777778,
              "#fb9f3a"
             ],
             [
              0.8888888888888888,
              "#fdca26"
             ],
             [
              1,
              "#f0f921"
             ]
            ],
            "type": "surface"
           }
          ],
          "table": [
           {
            "cells": {
             "fill": {
              "color": "#EBF0F8"
             },
             "line": {
              "color": "white"
             }
            },
            "header": {
             "fill": {
              "color": "#C8D4E3"
             },
             "line": {
              "color": "white"
             }
            },
            "type": "table"
           }
          ]
         },
         "layout": {
          "annotationdefaults": {
           "arrowcolor": "#2a3f5f",
           "arrowhead": 0,
           "arrowwidth": 1
          },
          "autotypenumbers": "strict",
          "coloraxis": {
           "colorbar": {
            "outlinewidth": 0,
            "ticks": ""
           }
          },
          "colorscale": {
           "diverging": [
            [
             0,
             "#8e0152"
            ],
            [
             0.1,
             "#c51b7d"
            ],
            [
             0.2,
             "#de77ae"
            ],
            [
             0.3,
             "#f1b6da"
            ],
            [
             0.4,
             "#fde0ef"
            ],
            [
             0.5,
             "#f7f7f7"
            ],
            [
             0.6,
             "#e6f5d0"
            ],
            [
             0.7,
             "#b8e186"
            ],
            [
             0.8,
             "#7fbc41"
            ],
            [
             0.9,
             "#4d9221"
            ],
            [
             1,
             "#276419"
            ]
           ],
           "sequential": [
            [
             0,
             "#0d0887"
            ],
            [
             0.1111111111111111,
             "#46039f"
            ],
            [
             0.2222222222222222,
             "#7201a8"
            ],
            [
             0.3333333333333333,
             "#9c179e"
            ],
            [
             0.4444444444444444,
             "#bd3786"
            ],
            [
             0.5555555555555556,
             "#d8576b"
            ],
            [
             0.6666666666666666,
             "#ed7953"
            ],
            [
             0.7777777777777778,
             "#fb9f3a"
            ],
            [
             0.8888888888888888,
             "#fdca26"
            ],
            [
             1,
             "#f0f921"
            ]
           ],
           "sequentialminus": [
            [
             0,
             "#0d0887"
            ],
            [
             0.1111111111111111,
             "#46039f"
            ],
            [
             0.2222222222222222,
             "#7201a8"
            ],
            [
             0.3333333333333333,
             "#9c179e"
            ],
            [
             0.4444444444444444,
             "#bd3786"
            ],
            [
             0.5555555555555556,
             "#d8576b"
            ],
            [
             0.6666666666666666,
             "#ed7953"
            ],
            [
             0.7777777777777778,
             "#fb9f3a"
            ],
            [
             0.8888888888888888,
             "#fdca26"
            ],
            [
             1,
             "#f0f921"
            ]
           ]
          },
          "colorway": [
           "#636efa",
           "#EF553B",
           "#00cc96",
           "#ab63fa",
           "#FFA15A",
           "#19d3f3",
           "#FF6692",
           "#B6E880",
           "#FF97FF",
           "#FECB52"
          ],
          "font": {
           "color": "#2a3f5f"
          },
          "geo": {
           "bgcolor": "white",
           "lakecolor": "white",
           "landcolor": "#E5ECF6",
           "showlakes": true,
           "showland": true,
           "subunitcolor": "white"
          },
          "hoverlabel": {
           "align": "left"
          },
          "hovermode": "closest",
          "mapbox": {
           "style": "light"
          },
          "paper_bgcolor": "white",
          "plot_bgcolor": "#E5ECF6",
          "polar": {
           "angularaxis": {
            "gridcolor": "white",
            "linecolor": "white",
            "ticks": ""
           },
           "bgcolor": "#E5ECF6",
           "radialaxis": {
            "gridcolor": "white",
            "linecolor": "white",
            "ticks": ""
           }
          },
          "scene": {
           "xaxis": {
            "backgroundcolor": "#E5ECF6",
            "gridcolor": "white",
            "gridwidth": 2,
            "linecolor": "white",
            "showbackground": true,
            "ticks": "",
            "zerolinecolor": "white"
           },
           "yaxis": {
            "backgroundcolor": "#E5ECF6",
            "gridcolor": "white",
            "gridwidth": 2,
            "linecolor": "white",
            "showbackground": true,
            "ticks": "",
            "zerolinecolor": "white"
           },
           "zaxis": {
            "backgroundcolor": "#E5ECF6",
            "gridcolor": "white",
            "gridwidth": 2,
            "linecolor": "white",
            "showbackground": true,
            "ticks": "",
            "zerolinecolor": "white"
           }
          },
          "shapedefaults": {
           "line": {
            "color": "#2a3f5f"
           }
          },
          "ternary": {
           "aaxis": {
            "gridcolor": "white",
            "linecolor": "white",
            "ticks": ""
           },
           "baxis": {
            "gridcolor": "white",
            "linecolor": "white",
            "ticks": ""
           },
           "bgcolor": "#E5ECF6",
           "caxis": {
            "gridcolor": "white",
            "linecolor": "white",
            "ticks": ""
           }
          },
          "title": {
           "x": 0.05
          },
          "xaxis": {
           "automargin": true,
           "gridcolor": "white",
           "linecolor": "white",
           "ticks": "",
           "title": {
            "standoff": 15
           },
           "zerolinecolor": "white",
           "zerolinewidth": 2
          },
          "yaxis": {
           "automargin": true,
           "gridcolor": "white",
           "linecolor": "white",
           "ticks": "",
           "title": {
            "standoff": 15
           },
           "zerolinecolor": "white",
           "zerolinewidth": 2
          }
         }
        },
        "title": {
         "text": "Cosine Similarity"
        },
        "xaxis": {
         "range": [
          -10,
          190
         ],
         "title": {
          "text": "Liebe"
         }
        },
        "yaxis": {
         "range": [
          -10,
          190
         ],
         "title": {
          "text": "gut"
         }
        }
       }
      }
     },
     "metadata": {},
     "output_type": "display_data"
    },
    {
     "data": {
      "image/png": "[encoded data removed]",
      "text/plain": [
       "<Figure size 1000x600 with 2 Axes>"
      ]
     },
     "metadata": {},
     "output_type": "display_data"
    }
   ],
   "source": [
    "import lib\n",
    "antonym_list = [\n",
    "(\"gut\", \"schlecht\"),\n",
    "]\n",
    "\n",
    "antonym_list_2 = [\n",
    "('Liebe', 'Hass')\n",
    "    # ... (Other antonym pairs)\n",
    "]\n",
    "word_list = ['Solidarität']\n",
    "cos_sim = lib.we_basics('./model/compass.model', antonym_list, word_list)\n",
    "lib.plot_cosine_similarity2(cos_sim, cos_sim, antonym_list=antonym_list, antonym_list2=antonym_list_2, word_list=word_list)"
   ]
  }
 ],
 "metadata": {
  "kernelspec": {
   "display_name": "twec_kernel",
   "language": "python",
   "name": "twec_kernel"
  },
  "language_info": {
   "codemirror_mode": {
    "name": "ipython",
    "version": 3
   },
   "file_extension": ".py",
   "mimetype": "text/x-python",
   "name": "python",
   "nbconvert_exporter": "python",
   "pygments_lexer": "ipython3",
   "version": "3.9.6"
  },
  "orig_nbformat": 4,
  "vscode": {
   "interpreter": {
    "hash": "8c181cd67bddd6f6971fd187b50a9faa0c657508828b23bbaab2a73d2f442461"
   }
  }
 },
 "nbformat": 4,
 "nbformat_minor": 2
}
