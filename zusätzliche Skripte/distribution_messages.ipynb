{
 "cells": [
  {
   "attachments": {},
   "cell_type": "markdown",
   "metadata": {},
   "source": [
    "# Erstellungsdatum Kanal - .csv"
   ]
  },
  {
   "cell_type": "code",
   "execution_count": null,
   "metadata": {},
   "outputs": [],
   "source": [
    "import glob\n",
    "import json\n",
    "import os\n",
    "import csv\n",
    "\n",
    "path = os.path.join('../json_files')\n",
    "file_list = glob.glob(os.path.join(path, '*.json'))\n",
    "creation_dict = {}\n",
    "for file in file_list:\n",
    "    with open(f'{file}', 'r') as f:\n",
    "        try:\n",
    "            data = json.loads(f.read())\n",
    "        except json.decoder.JSONDecodeError:\n",
    "            pass\n",
    "        for s in data:\n",
    "            try:\n",
    "                if s['id'] == 1:\n",
    "                    creation_dict[s['action']['title']] = s['date']\n",
    "            except KeyError:\n",
    "                pass\n",
    "\n",
    "# Convert the data to a list of dictionaries for CSV writing\n",
    "csv_data = [{'Title': key, 'Date': value} for key, value in creation_dict.items()]\n",
    "\n",
    "# Define the CSV file path\n",
    "csv_file_path = 'creation_data.csv'\n",
    "\n",
    "# Write the data to the CSV file\n",
    "with open(csv_file_path, 'w', newline='') as csv_file:\n",
    "    fieldnames = ['Title', 'Date']\n",
    "    writer = csv.DictWriter(csv_file, fieldnames=fieldnames)\n",
    "\n",
    "    # Write the header\n",
    "    writer.writeheader()\n",
    "\n",
    "    # Write the data rows\n",
    "    writer.writerows(csv_data)\n",
    "\n",
    "print(f'Data has been saved to {csv_file_path}')\n"
   ]
  },
  {
   "attachments": {},
   "cell_type": "markdown",
   "metadata": {},
   "source": [
    "# Vertetung jedes Medium"
   ]
  },
  {
   "cell_type": "code",
   "execution_count": null,
   "metadata": {},
   "outputs": [],
   "source": [
    "import pandas as pd\n",
    "import plotly.express as px\n",
    "\n",
    "# Load the CSV file into a Pandas DataFrame\n",
    "csv_file = '../telegram_data.csv'  # Replace with the path to your .csv file\n",
    "df = pd.read_csv(csv_file)\n",
    "\n",
    "# Convert the 'date' column to a datetime object\n",
    "df['date'] = pd.to_datetime(df['date'])\n",
    "\n",
    "# Group the data by the 'channel' column and count the number of texts in each channel\n",
    "channel_text_counts = df['channel_id'].value_counts().reset_index()\n",
    "channel_text_counts.columns = ['channel_id', 'text_count']\n",
    "\n",
    "# Sort the data by text count\n",
    "channel_text_counts = channel_text_counts.sort_values(by='text_count')\n",
    "\n",
    "# Create an interactive bar chart using Plotly\n",
    "fig = px.bar(channel_text_counts, x='text_count', y='channel_id', orientation='h', color='channel_id',\n",
    "             labels={'text_count': 'Number of Texts', 'channel_id': 'Channel'},\n",
    "             title='Number of Texts in Each Channel')\n",
    "fig.update_xaxes(categoryorder='total ascending')  # Sort x-axis in ascending order\n",
    "\n",
    "# Save the interactive plot to an HTML file\n",
    "fig.write_html('telegram_barchart_messages.html')\n",
    "\n",
    "print(len(df['date']))\n",
    "channel_dict = {}\n",
    "for i in df['channel_id']:\n",
    "    channel_dict[i] = 1\n",
    "print(len(channel_dict))\n",
    "print('interactive_bar_chart.html')"
   ]
  },
  {
   "cell_type": "code",
   "execution_count": null,
   "metadata": {},
   "outputs": [],
   "source": [
    "import pandas as pd\n",
    "import plotly.express as px\n",
    "\n",
    "# Load the CSV file into a Pandas DataFrame\n",
    "csv_file = '../subcorpus_tp1.csv'  # Replace with the path to your .csv file\n",
    "df = pd.read_csv(csv_file, sep='\\t', low_memory=False)\n",
    "    # Convert the 'date' column to a datetime object\n",
    "df['text_date'] = pd.to_datetime(df['text_date'], format='ISO8601')\n",
    "\n",
    "# Group the data by the 'text_id' column and count the number of texts in each channel\n",
    "text_id_text_counts = df['text_source'].value_counts().reset_index()\n",
    "text_id_text_counts.columns = ['text_source', 'text_count']\n",
    "\n",
    "# Sort the data by text count\n",
    "text_id_text_counts = text_id_text_counts.sort_values(by='text_count')\n",
    "\n",
    "# Create an interactive bar chart using Plotly\n",
    "fig = px.bar(text_id_text_counts, x='text_count', y='text_source', orientation='h', color='text_source',\n",
    "             labels={'text_count': 'Number of Texts', 'text_source': 'Text ID'},\n",
    "             title='Number of Texts for Each Text ID')\n",
    "fig.update_xaxes(categoryorder='total ascending')  # Sort x-axis in ascending order\n",
    "\n",
    "# Save the interactive plot to an HTML file\n",
    "fig.write_html('interactive_bar_chart.html')\n",
    "\n",
    "print(len(df['text_date']))\n",
    "text_id_dict = {}\n",
    "for i in df['text_id']:\n",
    "    text_id_dict[i] = 1\n",
    "print(len(text_id_dict))\n",
    "print('interactive_bar_chart.html')\n"
   ]
  }
 ],
 "metadata": {
  "kernelspec": {
   "display_name": ".venv",
   "language": "python",
   "name": "python3"
  },
  "language_info": {
   "codemirror_mode": {
    "name": "ipython",
    "version": 3
   },
   "file_extension": ".py",
   "mimetype": "text/x-python",
   "name": "python",
   "nbconvert_exporter": "python",
   "pygments_lexer": "ipython3",
   "version": "3.11.2"
  },
  "orig_nbformat": 4
 },
 "nbformat": 4,
 "nbformat_minor": 2
}
