{
 "cells": [
  {
   "attachments": {},
   "cell_type": "markdown",
   "metadata": {},
   "source": [
    "# Data Preparation"
   ]
  },
  {
   "cell_type": "markdown",
   "metadata": {},
   "source": [
    "### Anmerkung\n",
    "Das Skript basiert auf Tim Feldmüllers Anwendung von TWEC, die unter dem folgenden GitLab-Link aufgerufen werden kann: https://gitlab.uzh.ch/zukoko/sommerschule-2023/-/tree/master/C5-Distributionelle-Semantik/TWEC_Clustering/scripts?ref_type=heads "
   ]
  },
  {
   "cell_type": "code",
   "execution_count": null,
   "metadata": {},
   "outputs": [],
   "source": [
    "pip install -r requirements.txt"
   ]
  },
  {
   "attachments": {},
   "cell_type": "markdown",
   "metadata": {},
   "source": [
    "### Vergleich zwischen Quellen\n",
    "Im unteren Beispiel kann eine .csv Datei eingelesen werden, welche die Texte nach der *text_source* sortiert. Je länger die Liste, desto länger dauert die Berechnung."
   ]
  },
  {
   "cell_type": "code",
   "execution_count": 36,
   "metadata": {},
   "outputs": [],
   "source": [
    "import pandas as pd\n",
    "\n",
    "# Specify the path to your CSV file\n",
    "csv_file_path = \"./subcorpus_tp1.csv\"  # Update with the actual file path\n",
    "\n",
    "# Load the CSV file using pandas\n",
    "df = pd.read_csv(csv_file_path, sep='\\t')\n",
    "\n",
    "# Define search words for each corpus as a list\n",
    "corpora = ['FAZ', 'BILD']  # Add as many as needed\n",
    "\n",
    "# Initialize a dictionary to store text content for each corpus\n",
    "sentences_corpus = {corpus: [] for corpus in corpora}\n",
    "\n",
    "# Loop through each row in the DataFrame\n",
    "for index, row in df.iterrows():\n",
    "    channel_id = row['text_source']\n",
    "    message = row['text_content']\n",
    "    \n",
    "    # Check and store messages for each corpus\n",
    "    for corpus in corpora:\n",
    "        if corpus in channel_id:\n",
    "            sentences_corpus[corpus].append(message)"
   ]
  },
  {
   "cell_type": "markdown",
   "metadata": {},
   "source": [
    "### Vergleich zwischen Zeiträumen\n",
    "Im unteren Beispiel kann eine .csv Datei eingelesen werden, welche die Texte nach dem Metadatum *text_date* sortiert. Je länger die Liste, desto länger dauert die Berechnung. Man kann verschiedene Zeiträume setzen, welche die betreffende Fragestellung beleuchtet."
   ]
  },
  {
   "cell_type": "code",
   "execution_count": 7,
   "metadata": {},
   "outputs": [],
   "source": [
    "import pandas as pd\n",
    "from datetime import datetime\n",
    "\n",
    "# Function to parse dates\n",
    "def parse_date(date_str):\n",
    "    for fmt in ('%d-%m-%Y', '%Y-%m'):\n",
    "        try:\n",
    "            return datetime.strptime(date_str, fmt)\n",
    "        except ValueError:\n",
    "            pass\n",
    "    raise ValueError('no valid date format found')\n",
    "\n",
    "# Define your time frames as a dictionary with corpus names as keys\n",
    "time_frames = {\n",
    "    'korpus1': (parse_date('01-01-2020'), parse_date('31-01-2020')),\n",
    "    'korpus2': (parse_date('01-09-2010'), parse_date('30-09-2010')),\n",
    "    'korpus3': (parse_date('01-09-2000'), parse_date('30-09-2000')),\n",
    "    # Add more time frames as needed\n",
    "}\n",
    "\n",
    "# Initialize your sentences_corpus dictionary\n",
    "sentences_corpus = {key: [] for key in time_frames.keys()}\n",
    "\n",
    "# Specify the path to your CSV file\n",
    "csv_file_path = \"./subcorpus_tp1.csv\"  # Update with the actual file path\n",
    "\n",
    "# Load your DataFrame\n",
    "df = pd.read_csv(csv_file_path, sep='\\t')  # Replace with your actual file path\n",
    "\n",
    "# Loop through each row in the DataFrame\n",
    "for index, row in df.iterrows():\n",
    "    try:\n",
    "        channel_date = parse_date(row['text_date'])\n",
    "    except ValueError:\n",
    "        continue  # Skip rows with invalid date formats\n",
    "\n",
    "    message = row['text_content']\n",
    "\n",
    "    # Check each corpus defined in time_frames\n",
    "    for corpus_name, (start_date, end_date) in time_frames.items():\n",
    "        if start_date <= channel_date <= end_date:\n",
    "            sentences_corpus[corpus_name].append(message)"
   ]
  },
  {
   "cell_type": "markdown",
   "metadata": {},
   "source": [
    "### Vergleich zwischen Korpora"
   ]
  },
  {
   "cell_type": "code",
   "execution_count": 2,
   "metadata": {},
   "outputs": [],
   "source": [
    "\n",
    "import pandas as pd\n",
    "# Specify the path to your CSV file\n",
    "import os\n",
    "\n",
    "csv_file_name = \"telegram_data.csv\"  # Update with the actual file name\n",
    "csv_file_path = os.path.join(os.getcwd(), csv_file_name)\n",
    "\n",
    "# Define lists to store text content\n",
    "sentences_korpus1 = []\n",
    "\n",
    "# Load the CSV file using pandas\n",
    "df = pd.read_csv(csv_file_path)\n",
    "\n",
    "# Loop through each row in the DataFrame\n",
    "for index, row in df.iterrows():\n",
    "    channel_id = row['channel_id']\n",
    "    message = row['message']\n",
    "    sentences_korpus1.append(message)"
   ]
  },
  {
   "cell_type": "code",
   "execution_count": 3,
   "metadata": {},
   "outputs": [],
   "source": [
    "# Specify the path to your CSV file\n",
    "\n",
    "csv_file_name = \"subcorpus_tp1.csv\"  # Update with the actual file name\n",
    "csv_file_path = os.path.join(os.getcwd(), csv_file_name)\n",
    "\n",
    "# Define lists to store text content\n",
    "sentences_korpus2 = []\n",
    "\n",
    "# Load the CSV file using pandas\n",
    "df = pd.read_csv(csv_file_path, sep='\\t', low_memory=False)\n",
    "\n",
    "# Loop through each row in the DataFrame\n",
    "for index, row in df.iterrows():\n",
    "    message = row['text_content']\n",
    "    sentences_korpus2.append(message)\n"
   ]
  },
  {
   "attachments": {},
   "cell_type": "markdown",
   "metadata": {},
   "source": [
    "### Tokenization\n",
    "Hier findet eine Tokenisierung der Daten mithilfe von *nltk* oder *spacy* statt."
   ]
  },
  {
   "cell_type": "code",
   "execution_count": 8,
   "metadata": {},
   "outputs": [],
   "source": [
    "from nltk import word_tokenize\n",
    "\n",
    "# Assuming you have a dictionary of sentences for each corpus\n",
    "#sentences_corpus = {'korpus1': ['hallo'], 'korpus2': ['hoi']}\n",
    "\n",
    "# Initialize a dictionary to store tokenized sentences for each corpus\n",
    "tokenized_corpus = {corpus: [] for corpus in sentences_corpus}\n",
    "\n",
    "# Tokenize sentences for each corpus\n",
    "for corpus, sentences in sentences_corpus.items():\n",
    "    for sent in sentences:\n",
    "        if type(sent) is str:\n",
    "            tokenized_corpus[corpus].append(word_tokenize(sent, language=\"german\"))\n",
    "# Save the tokenized sentences to separate files for each corpus\n",
    "for corpus, tokenized_sentences in tokenized_corpus.items():\n",
    "    with open(f\"./data/sentences_{corpus}.txt\", \"w\") as f:\n",
    "        for sent in tokenized_sentences:\n",
    "            f.write(\" \".join(sent) + \"\\n\")\n",
    "\n",
    "# Optionally, save all tokenized sentences in a single file\n",
    "with open(\"./data/all_sentences.txt\", \"w\") as f:\n",
    "    for tokenized_sentences in tokenized_corpus.values():\n",
    "        for sent in tokenized_sentences:\n",
    "            f.write(\" \".join(sent) + \"\\n\")\n"
   ]
  },
  {
   "cell_type": "code",
   "execution_count": 13,
   "metadata": {},
   "outputs": [
    {
     "ename": "",
     "evalue": "",
     "output_type": "error",
     "traceback": [
      "\u001b[1;31mThe Kernel crashed while executing code in the the current cell or a previous cell. Please review the code in the cell(s) to identify a possible cause of the failure. Click <a href='https://aka.ms/vscodeJupyterKernelCrash'>here</a> for more info. View Jupyter <a href='command:jupyter.viewOutput'>log</a> for further details."
     ]
    }
   ],
   "source": [
    "import spacy\n",
    "\n",
    "# Load the German language model\n",
    "nlp = spacy.load(\"de_core_news_sm\")\n",
    "\n",
    "# Assuming you have a dictionary of sentences for each corpus\n",
    "# sentences_corpus = {'korpus1': [...], 'korpus2': [...], ...}\n",
    "\n",
    "# Initialize a dictionary to store tokenized sentences for each corpus\n",
    "tokenized_corpus = {corpus: [] for corpus in sentences_corpus}\n",
    "\n",
    "# Tokenize sentences for each corpus using spaCy\n",
    "for corpus, sentences in sentences_corpus.items():\n",
    "    for sent in sentences:\n",
    "        if type(sent) is str:\n",
    "            doc = nlp(sent)\n",
    "            tokenized_sentence = [token.text for token in doc]\n",
    "            tokenized_corpus[corpus].append(tokenized_sentence)\n",
    "\n",
    "# Save the tokenized sentences to separate files for each corpus\n",
    "for corpus, tokenized_sentences in tokenized_corpus.items():\n",
    "    with open(f\"../data/sentences_{corpus}.txt\", \"w\") as f:\n",
    "        for sent in tokenized_sentences:\n",
    "            f.write(\" \".join(sent) + \"\\n\")\n",
    "\n",
    "# Optionally, save all tokenized sentences in a single file\n",
    "with open(\"../data/all_sentences.txt\", \"w\") as f:\n",
    "    for tokenized_sentences in tokenized_corpus.values():\n",
    "        for sent in tokenized_sentences:\n",
    "            f.write(\" \".join(sent) + \"\\n\")\n"
   ]
  },
  {
   "attachments": {},
   "cell_type": "markdown",
   "metadata": {},
   "source": [
    "### Dictionary mit Frequenzen"
   ]
  },
  {
   "cell_type": "code",
   "execution_count": 9,
   "metadata": {},
   "outputs": [
    {
     "name": "stdout",
     "output_type": "stream",
     "text": [
      "done\n"
     ]
    }
   ],
   "source": [
    "# Eine Hilfsfunktion, die ein Dictionary nach seinen Werten sortiert\n",
    "def sort_dict(dic, reverse=True):\n",
    "    return dict(sorted(dic.items(), key=lambda item: item[1], reverse=reverse))\n",
    "\n",
    "\n",
    "# Mit dieser Funktion können wir eine für TWEC aufbereitete Textdatei einlesen, die enthaltenen Types auszählen lassen und bekommen ein nach Frequenz sortiertes\n",
    "# Dictionary zurück\n",
    "def get_word_frequencies(path_to_txt):\n",
    "    frequencies = {}\n",
    "\n",
    "    with open(path_to_txt, \"r\") as f:\n",
    "        for line in f.readlines():\n",
    "            for word in line.split():\n",
    "                if word in frequencies:\n",
    "                    frequencies[word] += 1\n",
    "                else:\n",
    "                    frequencies[word] = 1\n",
    "\n",
    "    return sort_dict(frequencies)\n",
    "print(\"done\")"
   ]
  },
  {
   "cell_type": "code",
   "execution_count": 11,
   "metadata": {},
   "outputs": [
    {
     "name": "stdout",
     "output_type": "stream",
     "text": [
      "done\n"
     ]
    }
   ],
   "source": [
    "# Assuming you have a function get_word_frequencies(file_path) defined\n",
    "\n",
    "# List of corpus names\n",
    "# Initialize a dictionary to store frequency dictionaries for each corpus\n",
    "freqs = {}\n",
    "\n",
    "# Create frequency dictionaries for each corpus\n",
    "\n",
    "for corpus, sentences in sentences_corpus.items():\n",
    "    file_path = f\"./data/sentences_{corpus}.txt\"\n",
    "    freqs[corpus] = get_word_frequencies(file_path)\n",
    "\n",
    "print(\"done\")\n"
   ]
  },
  {
   "attachments": {},
   "cell_type": "markdown",
   "metadata": {},
   "source": [
    "# TWEC"
   ]
  },
  {
   "attachments": {},
   "cell_type": "markdown",
   "metadata": {},
   "source": [
    "Das Initialisieren von TWEC passiert hier. Wir legen fest, wie viele Dimensionen unsere Word Embeddings haben sollen (size) -> 200–300 sind übliche Werte wie frequent sie mindestens sein müssen (min_count) -> hier nur auf 3 gesetzt, da das Testkorpus sehr klein ist. Es empfehlen sich generell eher höhere Werte, da für sehr niedrigfrequente Wörter nicht genug Informationen erlernbar sind, um sie gut im Vektorraum abbilden zu können wie viele Wörter links und rechts jedes Wortes werden berücksichtigt beim Training (window) -> ähnlich einem Kollokationsfenster, 5 – 6 sind übliche Werte wie viele CPU-Kerne sollen genutzt werden für das Training -> hier automatisch bestimmt (einer weniger als verfügbar)"
   ]
  },
  {
   "cell_type": "code",
   "execution_count": 12,
   "metadata": {},
   "outputs": [
    {
     "name": "stdout",
     "output_type": "stream",
     "text": [
      "done\n"
     ]
    }
   ],
   "source": [
    "from twec.twec import TWEC\n",
    "import multiprocessing\n",
    "\n",
    "min_count = 5\n",
    "aligner = TWEC(\n",
    "    size=300, min_count=min_count, window=6, workers=multiprocessing.cpu_count() - 1\n",
    ")\n",
    "print(\"done\")"
   ]
  },
  {
   "attachments": {},
   "cell_type": "markdown",
   "metadata": {},
   "source": [
    "Nun trainieren wir den sogenannten Kompass auf dem Gesamtkorpus. Dieses Kompassmodell dient danach dazu, auch die Vektorräume von Teilkorpora auf die gleiche Art ausrichten zu können, sodass alle Modelle den gleichen Vektorraum nutzen\n"
   ]
  },
  {
   "cell_type": "code",
   "execution_count": 13,
   "metadata": {},
   "outputs": [
    {
     "name": "stdout",
     "output_type": "stream",
     "text": [
      "Training the compass.\n",
      "Compass will be overwritten after training\n"
     ]
    }
   ],
   "source": [
    "aligner.train_compass(\"./data/all_sentences.txt\", overwrite=True)"
   ]
  },
  {
   "attachments": {},
   "cell_type": "markdown",
   "metadata": {},
   "source": [
    "### Compass"
   ]
  },
  {
   "cell_type": "code",
   "execution_count": 14,
   "metadata": {},
   "outputs": [
    {
     "data": {
      "text/plain": [
       "[('mir', 0.8544212579727173),\n",
       " ('mich', 0.8182902336120605),\n",
       " ('Ich', 0.8132672309875488),\n",
       " ('alles', 0.7979382276535034),\n",
       " ('gesagt', 0.785737156867981),\n",
       " ('etwas', 0.7622934579849243),\n",
       " ('man', 0.7606101632118225),\n",
       " ('nichts', 0.7509281039237976),\n",
       " ('jemand', 0.7473022937774658),\n",
       " ('niemand', 0.7417084574699402)]"
      ]
     },
     "execution_count": 14,
     "metadata": {},
     "output_type": "execute_result"
    }
   ],
   "source": [
    "# Das Training ist fertig und wir können das fertige Modell einlesen\n",
    "from gensim.models.word2vec import Word2Vec\n",
    "\n",
    "compass = Word2Vec.load(\"model/compass.model\")\n",
    "\n",
    "# ... und testweise einen Vektor abfragen\n",
    "compass.wv.most_similar(\"ich\")"
   ]
  },
  {
   "attachments": {},
   "cell_type": "markdown",
   "metadata": {},
   "source": [
    "### Slices"
   ]
  },
  {
   "cell_type": "code",
   "execution_count": 15,
   "metadata": {},
   "outputs": [
    {
     "name": "stdout",
     "output_type": "stream",
     "text": [
      "Training temporal embeddings: slice ./data/sentences_korpus1_min_count.txt.\n",
      "Initializing temporal embeddings from the atemporal compass.\n",
      "Training temporal embeddings: slice ./data/sentences_korpus2_min_count.txt.\n",
      "Initializing temporal embeddings from the atemporal compass.\n",
      "Training temporal embeddings: slice ./data/sentences_korpus3_min_count.txt.\n",
      "Initializing temporal embeddings from the atemporal compass.\n"
     ]
    }
   ],
   "source": [
    "# Jetzt geht es an das Training der Subkorpus-Modelle bzw. 'Slices'\n",
    "# Mit dem For-Loop können wir das Training durchführen, wir müssen nur darauf achten,\n",
    "# dass wir die Textdateien für das Training nach dem Muster sentences_METADATUM.txt benannt haben\n",
    "# und die Metadaten in der Liste slices genauso aufführen\n",
    "# Es passiert außerdem auch ein weiterer Schritt: Und zwar wird von TWEC an dieser Stelle, anders als beim Training des Kompass,\n",
    "# keine Filterung nach dem Parameter min_count mehr vorgenommen. Daher erstellen wir die TXT Files neu, speichern sie mit dem Suffix _min_count\n",
    "# und lassen alle Wörter aus, die wir nicht mit einer Mindestfrequenz in unseren Frequency Dictionaries finden\n",
    "slices = []\n",
    "for corpus, i in sentences_corpus.items():\n",
    "    slices.append(corpus)\n",
    "for slice in slices:\n",
    "    path_input = f\"./data/sentences_{slice}.txt\"\n",
    "    path_output = path_input.replace(\".txt\", \"_min_count.txt\")\n",
    "    with open(path_input, \"r\") as f:\n",
    "        with open(path_output, \"a\") as f_out:\n",
    "            for sentence in f.readlines():\n",
    "                min_count_tokens = []\n",
    "                for word in sentence.split():\n",
    "                    if freqs[slice][word] >= min_count:\n",
    "                        min_count_tokens.append(word)\n",
    "                f_out.write(\" \".join(min_count_tokens) + \"\\n\")\n",
    "\n",
    "    aligner.train_slice(path_output, save=True)"
   ]
  },
  {
   "cell_type": "markdown",
   "metadata": {},
   "source": [
    "### Speichern der Modelle"
   ]
  },
  {
   "cell_type": "code",
   "execution_count": 29,
   "metadata": {},
   "outputs": [
    {
     "data": {
      "text/plain": [
       "'\\nmodel_korpusX = Word2Vec.load(\"./model/sentences_korpusX_min_count.model\")\\n\\n'"
      ]
     },
     "execution_count": 29,
     "metadata": {},
     "output_type": "execute_result"
    }
   ],
   "source": [
    "from gensim.models.word2vec import Word2Vec\n",
    "import numpy\n",
    "\n",
    "model_korpus1 = Word2Vec.load(\"./model/sentences_korpus1_min_count.model\")\n",
    "model_korpus2 = Word2Vec.load(\"./model/sentences_korpus2_min_count.model\")\n",
    "# weitere Slices können hinzugefügt werden\n",
    "\"\"\"\n",
    "model_korpusX = Word2Vec.load(\"./model/sentences_korpusX_min_count.model\")\n",
    "\n",
    "\"\"\""
   ]
  },
  {
   "cell_type": "code",
   "execution_count": 30,
   "metadata": {},
   "outputs": [
    {
     "data": {
      "text/plain": [
       "[('Norm', 0.6024266481399536),\n",
       " ('Erzählung', 0.5813490152359009),\n",
       " ('Erkenntnis', 0.5483028888702393),\n",
       " ('Ausstellung', 0.5233314037322998),\n",
       " ('Freundin', 0.517431378364563),\n",
       " ('Zugehörigkeit', 0.5164638757705688),\n",
       " ('Figur', 0.5132883191108704),\n",
       " ('Vorgeschichte', 0.5108243823051453),\n",
       " ('Ästhetik', 0.5043354630470276),\n",
       " ('Balanchine', 0.5025460720062256)]"
      ]
     },
     "execution_count": 30,
     "metadata": {},
     "output_type": "execute_result"
    }
   ],
   "source": [
    "# Jetzt können wir diesen Vektor in den korpus-Modellen abfragen\n",
    "model_korpus1.wv.most_similar(['Liebe'])"
   ]
  },
  {
   "cell_type": "code",
   "execution_count": 31,
   "metadata": {},
   "outputs": [
    {
     "data": {
      "text/plain": [
       "[('Entführung', 0.559239387512207),\n",
       " ('Heimat', 0.5341224670410156),\n",
       " ('Schwester', 0.527957558631897),\n",
       " ('Küche', 0.5145581364631653),\n",
       " ('Lehrerin', 0.4896073639392853),\n",
       " ('Muttersprache', 0.47060588002204895),\n",
       " ('Sprache', 0.46712154150009155),\n",
       " ('Männer', 0.4525200128555298),\n",
       " ('männlichen', 0.4465506076812744),\n",
       " ('Perspektive', 0.4462692439556122)]"
      ]
     },
     "execution_count": 31,
     "metadata": {},
     "output_type": "execute_result"
    }
   ],
   "source": [
    "model_korpus2.wv.most_similar(['Liebe'])"
   ]
  },
  {
   "attachments": {},
   "cell_type": "markdown",
   "metadata": {},
   "source": [
    "## Vergleiche"
   ]
  },
  {
   "attachments": {},
   "cell_type": "markdown",
   "metadata": {},
   "source": [
    "Mit der Funktion time_machine() können wir diese Schritte bündeln und z.B. abfragen, welches Wort in einem Korpus (Zeit oder Medium) äquivalent zu einem Wort in einem anderen Korpus ist.\n"
   ]
  },
  {
   "cell_type": "code",
   "execution_count": 33,
   "metadata": {},
   "outputs": [
    {
     "data": {
      "text/plain": [
       "[('Verfassung', 0.5866646766662598),\n",
       " ('Lehre', 0.5599774122238159),\n",
       " ('Ermordung', 0.5452415347099304),\n",
       " ('Erwachsenen', 0.5387903451919556),\n",
       " ('Kindheit', 0.5378919839859009),\n",
       " ('Symbole', 0.5324671864509583),\n",
       " ('Entstehung', 0.5321432948112488),\n",
       " ('Gemeinschaft', 0.5289644598960876),\n",
       " ('Beziehung', 0.5210279226303101),\n",
       " ('Synagoge', 0.5190458297729492)]"
      ]
     },
     "execution_count": 33,
     "metadata": {},
     "output_type": "execute_result"
    }
   ],
   "source": [
    "import lib\n",
    "lib.time_machine(model_korpus1, model_korpus2, \"Liebe\")"
   ]
  },
  {
   "attachments": {},
   "cell_type": "markdown",
   "metadata": {},
   "source": [
    "Mit diesem Befehl können wir alle einzelnen Vektoren unseres Modells als Liste abfragen und sie in der Variable word_vectors speichern.\n",
    "\n",
    "Bei anderen Versionen von Word2Vec kann der Befehl auch model.wv[model.wv.key_to_index] lauten"
   ]
  },
  {
   "cell_type": "code",
   "execution_count": 34,
   "metadata": {},
   "outputs": [
    {
     "name": "stdout",
     "output_type": "stream",
     "text": [
      "Anzahl der zu clusternden Vektoren: 7966\n"
     ]
    }
   ],
   "source": [
    "words = model_korpus1.wv.vocab.keys()\n",
    "word_vectors = model_korpus1.wv[words]\n",
    "print(\"Anzahl der zu clusternden Vektoren:\", len(word_vectors))"
   ]
  },
  {
   "attachments": {},
   "cell_type": "markdown",
   "metadata": {},
   "source": [
    "Diese Zelle dient nur dazu, ein Sample aus den Vektoren zu erstellen, damit die Berechnung nicht zu lange dauert.\n",
    "Wir nutzen dafür nochmal unsere Funktion get_word_frequencies() und berechnen dann nur Cluster für alle\n",
    "- Vektoren mit einer Häufigkeit >= 100"
   ]
  },
  {
   "cell_type": "code",
   "execution_count": 35,
   "metadata": {},
   "outputs": [
    {
     "name": "stdout",
     "output_type": "stream",
     "text": [
      "438\n"
     ]
    }
   ],
   "source": [
    "from lib import get_word_frequencies\n",
    "\n",
    "freqs = {}\n",
    "freqs[\"korpus1\"] = get_word_frequencies(\"./data/sentences_korpus1.txt\")\n",
    "\n",
    "min_count = 30\n",
    "\n",
    "words = []\n",
    "for word in model_korpus1.wv.vocab.keys():\n",
    "    if freqs[\"korpus1\"][word] >= 80:\n",
    "        words.append(word)\n",
    "\n",
    "word_vectors = model_korpus1.wv[words]\n",
    "\n",
    "print(len(word_vectors))"
   ]
  },
  {
   "attachments": {},
   "cell_type": "markdown",
   "metadata": {},
   "source": [
    "Die Anzahl der Cluster k muss festgelegt werden. Wir können verschiedene Einstellungen ausprobieren\n",
    "oder die Anzahl der Cluster nach der Anzahl der Types in unserem Korpus richten, wie hier können wir verschiedene Werte ausprobieren \n",
    "- finegranular vs. big picture \n"
   ]
  },
  {
   "cell_type": "code",
   "execution_count": 36,
   "metadata": {},
   "outputs": [],
   "source": [
    "k = int(len(word_vectors) * 0.024)"
   ]
  },
  {
   "cell_type": "code",
   "execution_count": 37,
   "metadata": {},
   "outputs": [
    {
     "name": "stderr",
     "output_type": "stream",
     "text": [
      "/Users/davideventre/Library/Python/3.9/lib/python/site-packages/sklearn/cluster/_kmeans.py:1412: FutureWarning:\n",
      "\n",
      "The default value of `n_init` will change from 10 to 'auto' in 1.4. Set the value of `n_init` explicitly to suppress the warning\n",
      "\n",
      "/Users/davideventre/Library/Python/3.9/lib/python/site-packages/threadpoolctl.py:1019: RuntimeWarning:\n",
      "\n",
      "libc not found. The ctypes module in Python 3.9 is maybe too old for this OS.\n",
      "\n"
     ]
    },
    {
     "data": {
      "text/html": [
       "<style>#sk-container-id-1 {color: black;}#sk-container-id-1 pre{padding: 0;}#sk-container-id-1 div.sk-toggleable {background-color: white;}#sk-container-id-1 label.sk-toggleable__label {cursor: pointer;display: block;width: 100%;margin-bottom: 0;padding: 0.3em;box-sizing: border-box;text-align: center;}#sk-container-id-1 label.sk-toggleable__label-arrow:before {content: \"▸\";float: left;margin-right: 0.25em;color: #696969;}#sk-container-id-1 label.sk-toggleable__label-arrow:hover:before {color: black;}#sk-container-id-1 div.sk-estimator:hover label.sk-toggleable__label-arrow:before {color: black;}#sk-container-id-1 div.sk-toggleable__content {max-height: 0;max-width: 0;overflow: hidden;text-align: left;background-color: #f0f8ff;}#sk-container-id-1 div.sk-toggleable__content pre {margin: 0.2em;color: black;border-radius: 0.25em;background-color: #f0f8ff;}#sk-container-id-1 input.sk-toggleable__control:checked~div.sk-toggleable__content {max-height: 200px;max-width: 100%;overflow: auto;}#sk-container-id-1 input.sk-toggleable__control:checked~label.sk-toggleable__label-arrow:before {content: \"▾\";}#sk-container-id-1 div.sk-estimator input.sk-toggleable__control:checked~label.sk-toggleable__label {background-color: #d4ebff;}#sk-container-id-1 div.sk-label input.sk-toggleable__control:checked~label.sk-toggleable__label {background-color: #d4ebff;}#sk-container-id-1 input.sk-hidden--visually {border: 0;clip: rect(1px 1px 1px 1px);clip: rect(1px, 1px, 1px, 1px);height: 1px;margin: -1px;overflow: hidden;padding: 0;position: absolute;width: 1px;}#sk-container-id-1 div.sk-estimator {font-family: monospace;background-color: #f0f8ff;border: 1px dotted black;border-radius: 0.25em;box-sizing: border-box;margin-bottom: 0.5em;}#sk-container-id-1 div.sk-estimator:hover {background-color: #d4ebff;}#sk-container-id-1 div.sk-parallel-item::after {content: \"\";width: 100%;border-bottom: 1px solid gray;flex-grow: 1;}#sk-container-id-1 div.sk-label:hover label.sk-toggleable__label {background-color: #d4ebff;}#sk-container-id-1 div.sk-serial::before {content: \"\";position: absolute;border-left: 1px solid gray;box-sizing: border-box;top: 0;bottom: 0;left: 50%;z-index: 0;}#sk-container-id-1 div.sk-serial {display: flex;flex-direction: column;align-items: center;background-color: white;padding-right: 0.2em;padding-left: 0.2em;position: relative;}#sk-container-id-1 div.sk-item {position: relative;z-index: 1;}#sk-container-id-1 div.sk-parallel {display: flex;align-items: stretch;justify-content: center;background-color: white;position: relative;}#sk-container-id-1 div.sk-item::before, #sk-container-id-1 div.sk-parallel-item::before {content: \"\";position: absolute;border-left: 1px solid gray;box-sizing: border-box;top: 0;bottom: 0;left: 50%;z-index: -1;}#sk-container-id-1 div.sk-parallel-item {display: flex;flex-direction: column;z-index: 1;position: relative;background-color: white;}#sk-container-id-1 div.sk-parallel-item:first-child::after {align-self: flex-end;width: 50%;}#sk-container-id-1 div.sk-parallel-item:last-child::after {align-self: flex-start;width: 50%;}#sk-container-id-1 div.sk-parallel-item:only-child::after {width: 0;}#sk-container-id-1 div.sk-dashed-wrapped {border: 1px dashed gray;margin: 0 0.4em 0.5em 0.4em;box-sizing: border-box;padding-bottom: 0.4em;background-color: white;}#sk-container-id-1 div.sk-label label {font-family: monospace;font-weight: bold;display: inline-block;line-height: 1.2em;}#sk-container-id-1 div.sk-label-container {text-align: center;}#sk-container-id-1 div.sk-container {/* jupyter's `normalize.less` sets `[hidden] { display: none; }` but bootstrap.min.css set `[hidden] { display: none !important; }` so we also need the `!important` here to be able to override the default hidden behavior on the sphinx rendered scikit-learn.org. See: https://github.com/scikit-learn/scikit-learn/issues/21755 */display: inline-block !important;position: relative;}#sk-container-id-1 div.sk-text-repr-fallback {display: none;}</style><div id=\"sk-container-id-1\" class=\"sk-top-container\"><div class=\"sk-text-repr-fallback\"><pre>KMeans(n_clusters=10)</pre><b>In a Jupyter environment, please rerun this cell to show the HTML representation or trust the notebook. <br />On GitHub, the HTML representation is unable to render, please try loading this page with nbviewer.org.</b></div><div class=\"sk-container\" hidden><div class=\"sk-item\"><div class=\"sk-estimator sk-toggleable\"><input class=\"sk-toggleable__control sk-hidden--visually\" id=\"sk-estimator-id-1\" type=\"checkbox\" checked><label for=\"sk-estimator-id-1\" class=\"sk-toggleable__label sk-toggleable__label-arrow\">KMeans</label><div class=\"sk-toggleable__content\"><pre>KMeans(n_clusters=10)</pre></div></div></div></div></div>"
      ],
      "text/plain": [
       "KMeans(n_clusters=10)"
      ]
     },
     "execution_count": 37,
     "metadata": {},
     "output_type": "execute_result"
    }
   ],
   "source": [
    "from sklearn import cluster\n",
    "\n",
    "kmeans = cluster.KMeans(n_clusters=k) #k\n",
    "kmeans.fit(word_vectors)"
   ]
  },
  {
   "attachments": {},
   "cell_type": "markdown",
   "metadata": {},
   "source": [
    "Sie sind in der gleichen Reihenfolge gelistet wie die übergebenen Vektoren in unserer Variable words und wir können sie mit zip() zu einem dictionary zusammenfassen"
   ]
  },
  {
   "cell_type": "code",
   "execution_count": 54,
   "metadata": {},
   "outputs": [
    {
     "name": "stdout",
     "output_type": "stream",
     "text": [
      "{'Das': 3, 'Der': 3, 'des': 0, 'wird': 5, 'nicht': 2, '.': 2, 'bleibt': 5, 'der': 0, '?': 2, 'Von': 0, 'erste': 0, 'dieses': 2, 'war': 5, 'von': 0, ',': 2, 'dem': 7, 'dagegen': 0, 'sowie': 0, 'den': 0, 'und': 0, 'nur': 0, 'im': 0, 'Im': 3, 'sich': 2, 'an': 0, ':': 2, 'über': 2, 'bis': 4, 'zu': 6, '``': 2, \"''\": 2, 'die': 2, 'für': 2, 'das': 7, 'eines': 0, 'neuen': 2, 'zwischen': 0, 'Vereinigten': 0, 'Staaten': 0, 'China': 0, 'eine': 2, 'Welt': 0, 'Europa': 2, 'heute': 2, 'um': 2, 'seine': 7, 'ist': 5, 'noch': 0, 'zum': 0, 'Teil': 0, 'was': 2, 'Politik': 2, 'in': 0, 'vergangenen': 4, 'Jahren': 0, 'Bürger': 0, 'hat': 9, 'ebenso': 0, 'wie': 2, ';': 3, 'damit': 2, 'werden': 5, 'auf': 0, 'ein': 7, 'lassen': 6, 'sind': 5, 'sie': 7, 'Länder': 0, 'stellen': 2, 'man': 7, 'bei': 0, 'es': 2, 'geht': 5, 'dann': 2, 'auch': 2, 'Die': 3, 'politische': 2, 'mehr': 0, 'denn': 2, 'je': 4, 'aber': 2, 'ob': 2, 'Für': 3, 'neue': 2, 'Zeit': 2, '-': 0, 'aus': 0, 'EU': 0, 'selbst': 2, 'wenn': 6, 'gibt': 5, 'alles': 2, 'Aber': 3, 'so': 2, 'Geschichte': 2, 'europäischen': 0, 'Wie': 3, 'wurde': 5, 'könnte': 6, 'als': 0, 'große': 2, 'Es': 3, 'liegt': 5, 'dass': 2, 'Ein': 3, 'schon': 0, 'jetzt': 2, 'einer': 0, 'Präsidenten': 0, 'Trump': 2, 'erst': 0, 'Mal': 0, 'kommt': 5, 'oder': 0, 'will': 6, 'lässt': 6, 'keine': 2, 'geben': 2, 'seinen': 7, 'stehen': 0, 'weitere': 0, 'vier': 0, 'Jahre': 7, 'Dass': 3, 'zuletzt': 0, 'dieser': 2, 'einen': 7, 'haben': 9, 'dürfte': 6, 'bisher': 0, 'Doch': 3, '(': 1, ')': 1, 'zurück': 0, 'einem': 7, 'Den': 3, 'wieder': 2, 'ihnen': 2, 'viel': 2, 'bleiben': 2, 'wollen': 6, 'Deutschen': 0, 'jeder': 2, 'können': 6, 'allen': 0, 'kein': 7, 'zur': 2, 'müssen': 6, 'wir': 2, 'viele': 0, 'Ende': 0, 'vor': 0, 'Auf': 3, 'hatte': 9, 'mit': 0, 'kann': 6, 'Am': 3, 'fast': 0, 'lange': 2, 'Da': 3, 'doch': 2, 'gegen': 8, 'dafür': 2, 'sagen': 2, 'Thema': 2, 'dessen': 0, 'Jahres': 1, 'gemacht': 2, 'alte': 7, 'ihrem': 7, 'Sie': 3, 'beim': 2, 'dabei': 2, 'zwei': 0, 'Tag': 0, 'vom': 0, 'weil': 0, 'gut': 0, 'Jahr': 1, 'So': 3, 'weit': 0, 'einfach': 2, 'deren': 0, 'soll': 6, 'muss': 6, 'diese': 2, 'etwas': 7, 'tun': 2, 'nie': 2, 'dort': 0, 'gehen': 2, 'hier': 2, 'ihre': 2, 'eigene': 2, 'alten': 0, 'ins': 7, 'er': 7, 'gerade': 2, 'sei': 9, 'gewesen': 0, 'allem': 0, 'habe': 9, 'Kinder': 0, 'nehmen': 2, 'wo': 0, 'Und': 3, 'sein': 7, 'sagte': 1, 'seien': 9, 'alle': 0, 'nun': 2, 'einmal': 2, 'uns': 2, 'sondern': 0, 'Mitarbeiter': 0, 'da': 2, 'Blick': 2, 'durch': 0, 'müsse': 6, 'mal': 2, 'denen': 0, 'hatten': 9, 'Bei': 3, 'keinen': 2, 'konnte': 6, 'diesem': 2, 'Land': 2, 'Was': 3, 'führt': 5, 'dies': 2, 'Millionen': 4, 'Menschen': 0, 'hält': 2, 'weniger': 0, 'also': 2, 'In': 3, 'seiner': 7, 'eigenen': 2, 'Gesellschaft': 2, 'wenig': 2, 'ganz': 2, 'andere': 2, 'anderen': 2, 'Seite': 0, 'immer': 2, 'wohl': 2, 'kaum': 2, 'diesen': 2, 'Arbeit': 7, '/': 2, 'SPD': 1, 'Deutschland': 0, 'wegen': 0, 'Zahl': 4, 'Prozent': 4, 'zeigt': 2, 'Weg': 2, 'wäre': 5, 'deshalb': 2, 'Denn': 3, 'oft': 0, 'dazu': 2, 'Wer': 3, 'davon': 2, 'am': 1, 'nichts': 7, 'nach': 0, 'Eine': 3, 'würde': 6, 'möglich': 0, 'sogar': 0, 'zwar': 2, 'Euro': 4, 'darüber': 2, 'darf': 6, 'Ziel': 2, 'sollte': 6, 'Nach': 3, 'ihr': 7, 'ersten': 0, 'sollen': 6, 'deutlich': 0, 'sieht': 5, 'würden': 0, 'weiß': 2, 'könnten': 6, 'Geld': 2, 'sagt': 2, 'könne': 6, 'Fall': 2, 'unter': 0, 'Ich': 7, 'werde': 6, 'weiter': 2, 'politischen': 2, 'November': 1, '2018': 4, 'später': 7, 'worden': 0, 'kam': 5, 'ihn': 7, 'Milliarden': 4, 'Fragen': 2, 'Regierung': 1, 'gegenüber': 0, 'Türkei': 0, 'ohne': 2, 'drei': 0, 'sehr': 2, 'steht': 5, 'Aus': 3, 'Unternehmen': 0, 'ab': 0, 'Er': 3, 'etwa': 0, 'Dollar': 4, 'ihrer': 2, 'zusammen': 0, 'ihm': 7, 'Frau': 7, 'sehen': 2, 'halten': 0, 'zuvor': 0, 'Frauen': 0, 'Frankfurt': 0, 'Frage': 2, 'Mit': 3, 'knapp': 4, 'Seit': 3, 'Beispiel': 0, 'seit': 4, 'daran': 2, 'während': 0, 'machen': 2, 'Auch': 3, 'waren': 9, 'zehn': 0, 'deutschen': 0, '2016': 1, 'rund': 4, 'gilt': 5, 'Diese': 3, 'allerdings': 2, 'Rolle': 2, 'Staat': 0, 'schnell': 2, 'öffentlichen': 0, 'gab': 5, 'wurden': 5, 'eigentlich': 2, 'Schon': 3, 'jedoch': 2, 'hätte': 6, 'fünf': 0, 'stark': 0, '2019': 4, '000': 4, 'Ländern': 0, 'gar': 2, 'aller': 0, 'vielen': 0, 'eher': 0, 'zunächst': 0, 'Entwicklung': 0, 'beiden': 0, 'kommen': 2, 'ihren': 7, 'allein': 2, 'meisten': 0, 'zudem': 0, 'Wirtschaft': 0, 'derzeit': 0, 'Zudem': 3, 'Kosten': 0, 'Anleger': 0, 'heißt': 5, 'besonders': 0, 'Wir': 3, 'sollten': 6, 'Januar': 1, 'Israel': 2, 'Anfang': 1, 'Wenn': 3, 'ich': 7, 'ging': 5, 'gehört': 2, 'Vor': 3, 'paar': 7, 'Zukunft': 2, 'großen': 0, 'Als': 3, 'geworden': 2, 'Leben': 7, 'Dabei': 3, 'macht': 5, 'seinem': 7, 'Zeitung': 1, 'Juden': 0, 'Berlin': 1, 'anders': 2, 'Lage': 0, 'Präsident': 1, 'CDU': 1, 'Nicht': 3, 'Dezember': 1, 'Ministerpräsident': 1, 'darauf': 2, 'Woche': 1, 'bereits': 0, 'hinter': 0, 'deutsche': 0, 'Recht': 2, 'Man': 3, 'ja': 2, 'An': 3, 'Frankreich': 0, 'wollte': 6, '!': 2, 'damals': 7, 'ebenfalls': 0, 'Mann': 7, 'amerikanischen': 0, 'Iran': 0, 'Partei': 1, 'amerikanische': 0, 'gebe': 5, 'Gewalt': 2, 'Grünen': 1, 'Familie': 7, 'hätten': 9, 'Polizei': 7, 'Stadt': 0, 'Kirche': 2, 'Bevölkerung': 0, 'Russland': 2, 'AfD': 2, 'Putin': 2, 'Auschwitz': 7}\n"
     ]
    }
   ],
   "source": [
    "word_cluster = dict(zip(words, kmeans.labels_))\n",
    "print(word_cluster)"
   ]
  },
  {
   "attachments": {},
   "cell_type": "markdown",
   "metadata": {},
   "source": [
    "Wir speichern die Zuordnung der Cluster zu ihren Mittelpunkten (Centroids) im Vektorraum"
   ]
  },
  {
   "cell_type": "code",
   "execution_count": 55,
   "metadata": {},
   "outputs": [],
   "source": [
    "cluster_centroid = dict(\n",
    "    zip(range(len(kmeans.cluster_centers_)), kmeans.cluster_centers_)\n",
    ")"
   ]
  },
  {
   "attachments": {},
   "cell_type": "markdown",
   "metadata": {},
   "source": [
    "Nun können wir unsere Daten in einer tabellarischen Struktur zusammenbringen. Dafür vermerken wir für jedes Wort sein Cluster in einer Spalte und in einer weiteren Spalte berechnen wir für jedes Wort seine Cosinusdistanz (bzw. Cosinus-Ähnlichkeit) zum Mittelpunkt des Clusters\n"
   ]
  },
  {
   "cell_type": "code",
   "execution_count": 56,
   "metadata": {},
   "outputs": [
    {
     "name": "stderr",
     "output_type": "stream",
     "text": [
      "/var/folders/hf/7sh8pbpj1t9cgl61pd6js3lm0000gn/T/ipykernel_77715/461974868.py:6: DeprecationWarning:\n",
      "\n",
      "Call to deprecated `__getitem__` (Method will be removed in 4.0.0, use self.wv.__getitem__() instead).\n",
      "\n"
     ]
    }
   ],
   "source": [
    "import pandas as pd\n",
    "from scipy.spatial import distance\n",
    "\n",
    "df = pd.DataFrame(word_cluster.items(), columns=[\"word\", \"cluster\"])\n",
    "df[\"sim\"] = [\n",
    "    1 - distance.cosine(model_korpus1[word], cluster_centroid[word_cluster[word]])\n",
    "    for word in df[\"word\"]\n",
    "]\n",
    "df = df.sort_values(by=[\"cluster\", \"sim\"], ascending=[True, False])"
   ]
  },
  {
   "attachments": {},
   "cell_type": "markdown",
   "metadata": {},
   "source": [
    "So sieht das Ergebnis aus. mit pd.to_csv(\"datei/pfad.csv\") könnten wir die Tabelle so sichern"
   ]
  },
  {
   "cell_type": "code",
   "execution_count": 57,
   "metadata": {},
   "outputs": [],
   "source": [
    "df.head(50)\n",
    "df.to_csv(\"cluster.csv\")"
   ]
  },
  {
   "attachments": {},
   "cell_type": "markdown",
   "metadata": {},
   "source": [
    "Für eine bessere Übersicht möchten wir noch eine Zuordnung der Cluster-IDs zu den enthaltenen Wörtern in einem dictionary haben. Die Wörter sind dabei nach ihrer Cosinus-Ähnlichkeit zum jeweiligen Centroid sortiert"
   ]
  },
  {
   "cell_type": "code",
   "execution_count": 58,
   "metadata": {},
   "outputs": [
    {
     "name": "stdout",
     "output_type": "stream",
     "text": [
      "['Dezember', 'November', 'CDU', 'Januar', 'Woche', 'SPD', 'Ministerpräsident', 'Berlin', 'Zeitung', 'Jahres', 'Anfang', 'Grünen', '2016', 'Präsident', 'Partei', 'Jahr', 'Regierung', 'sagte', 'am', '(', ')']\n",
      "['ja', 'einfach', 'alles', 'Zukunft', 'hier', 'uns', '?', 'nicht', 'dabei', '!', 'dies', 'anders', 'sagen', 'Frage', 'jetzt', 'weiß', 'es', 'so', 'da', 'ganz', 'Politik', 'tun', 'schnell', 'selbst', 'gehen', ':', 'geben', 'eigentlich', 'Gesellschaft', 'keinen', 'diese', 'sehr', 'darüber', 'deshalb', 'nie', 'immer', 'wir', 'Fragen', 'kaum', 'weiter', 'wenig', 'viel', 'ihnen', 'doch', '``', 'Geld', 'AfD', 'bleiben', 'Geschichte', 'Recht', 'andere', 'eigene', 'keine', 'anderen', 'gerade', 'diesen', 'jeder', 'Zeit', 'denn', 'politische', 'darauf', 'heute', '.', 'wohl', 'zwar', 'Europa', 'auch', 'Rolle', ',', 'allerdings', 'einmal', 'gemacht', 'nun', 'gar', 'mal', 'sich', 'machen', 'damit', 'kommen', 'was', 'große', 'dieser', 'Blick', 'Trump', 'daran', 'die', 'Thema', 'jedoch', 'nehmen', 'dazu', \"''\", 'Fall', 'aber', 'Kirche', 'sehen', 'lange', 'allein', 'dann', 'also', 'ob', 'sagt', 'davon', 'Israel', 'dafür', 'gehört', 'Russland', 'Land', 'Weg', 'Putin', 'stellen', 'diesem', 'ihrer', 'eine', 'Ziel', 'geworden', 'wieder', 'ihre', 'ohne', 'dieses', 'wie', 'politischen', 'neuen', '/', 'dass', 'neue', 'zeigt', 'eigenen', 'hält', 'zur', 'um', 'Gewalt', 'über', 'für', 'beim']\n"
     ]
    }
   ],
   "source": [
    "cluster_words = {}\n",
    "\n",
    "for i, row in df.iterrows():\n",
    "    if row[\"cluster\"] in cluster_words:\n",
    "        cluster_words[row[\"cluster\"]].append(row[\"word\"])\n",
    "    else:\n",
    "        cluster_words[row[\"cluster\"]] = [row[\"word\"]]\n",
    "\n",
    "print(cluster_words[1])\n",
    "print(cluster_words[2])"
   ]
  },
  {
   "attachments": {},
   "cell_type": "markdown",
   "metadata": {},
   "source": [
    "Und außerdem brauchen wir statt der numerischen IDs interpretierbare Labels Dazu erstellen wir eine Zusammenstellung von Cluster-ID zu einem Label, das aus den drei zentralsten Wörtern des Clusters, also den ersten drei Wörtern der Liste, besteht."
   ]
  },
  {
   "cell_type": "code",
   "execution_count": 59,
   "metadata": {},
   "outputs": [
    {
     "data": {
      "text/plain": [
       "\"\\n# Specify the CSV file name\\ncsv_file = 'data.csv'\\n\\n# Open the CSV file in write mode\\nwith open(csv_file, 'w', newline='') as csvfile:\\n    fieldnames = cluster_label[0].keys()  # Use the keys from the dictionary as column headers\\n\\n    # Create a DictWriter object\\n    writer = csv.DictWriter(csvfile, fieldnames=fieldnames)\\n\\n    # Write the header row\\n    writer.writeheader()\\n\\n    # Write the data\\n    writer.writerows(cluster_label)\\n\\nprint(f'Data has been written to {csv_file}')\\n\""
      ]
     },
     "execution_count": 59,
     "metadata": {},
     "output_type": "execute_result"
    }
   ],
   "source": [
    "import csv\n",
    "cluster_label = {}\n",
    "\n",
    "for cluster, words in cluster_words.items():\n",
    "    cluster_label[cluster] = \"|\".join(words[:10])\n",
    "cluster_label\n",
    "\"\"\"\n",
    "# Specify the CSV file name\n",
    "csv_file = 'data.csv'\n",
    "\n",
    "# Open the CSV file in write mode\n",
    "with open(csv_file, 'w', newline='') as csvfile:\n",
    "    fieldnames = cluster_label[0].keys()  # Use the keys from the dictionary as column headers\n",
    "\n",
    "    # Create a DictWriter object\n",
    "    writer = csv.DictWriter(csvfile, fieldnames=fieldnames)\n",
    "\n",
    "    # Write the header row\n",
    "    writer.writeheader()\n",
    "\n",
    "    # Write the data\n",
    "    writer.writerows(cluster_label)\n",
    "\n",
    "print(f'Data has been written to {csv_file}')\n",
    "\"\"\""
   ]
  },
  {
   "attachments": {},
   "cell_type": "markdown",
   "metadata": {},
   "source": [
    "Möchten wir nun z.B anhand eines Wortes wissen, mit welchen anderen Wörtern es ein Cluster teilt, können wir das wie folgt abfragen word_cluste[\"korpus2\"] gibt uns die Cluster-ID zurück, die wir dann im dicionary cluster_words abfragen."
   ]
  },
  {
   "cell_type": "code",
   "execution_count": 60,
   "metadata": {},
   "outputs": [
    {
     "data": {
      "text/plain": [
       "['ihn',\n",
       " 'Familie',\n",
       " 'ihr',\n",
       " 'seinem',\n",
       " 'er',\n",
       " 'Frau',\n",
       " 'Mann',\n",
       " 'seinen',\n",
       " 'ich',\n",
       " 'nichts',\n",
       " 'ihrem',\n",
       " 'etwas',\n",
       " 'sie',\n",
       " 'ihm',\n",
       " 'Arbeit',\n",
       " 'ihren',\n",
       " 'kein',\n",
       " 'seiner',\n",
       " 'Auschwitz',\n",
       " 'Polizei',\n",
       " 'Ich',\n",
       " 'man',\n",
       " 'damals',\n",
       " 'später',\n",
       " 'einem',\n",
       " 'sein',\n",
       " 'seine',\n",
       " 'alte',\n",
       " 'paar',\n",
       " 'Leben',\n",
       " 'ein',\n",
       " 'ins',\n",
       " 'das',\n",
       " 'dem',\n",
       " 'einen',\n",
       " 'Jahre']"
      ]
     },
     "execution_count": 60,
     "metadata": {},
     "output_type": "execute_result"
    }
   ],
   "source": [
    "cluster_words[word_cluster[\"ich\"]]"
   ]
  },
  {
   "attachments": {},
   "cell_type": "markdown",
   "metadata": {},
   "source": [
    "Diese Funktion berechnet das Modell. Wir übergeben den Pfad zum Word-Embedding-Modell, das geclustert werden soll, die Anzahl der Cluster k sowie optional einen Pfad zum Sichern des fertigen kmeans-Modells. Wird hier kein Pfad übergeben, wird das Modell im gleichen Ordner wie das WE-Modell gesichert. Außerdem können wir optional eine Mindestfrequenz für die Types des Korpus sowie ein entsprechendes Dictionary, in dem diese ausgezählt sind, übergeben. Ein Funktionsaufruf zum trainieren unseres obigen Modells  könnte so aussehen:"
   ]
  },
  {
   "cell_type": "code",
   "execution_count": 61,
   "metadata": {},
   "outputs": [
    {
     "name": "stderr",
     "output_type": "stream",
     "text": [
      "/Users/davideventre/Library/Python/3.9/lib/python/site-packages/sklearn/cluster/_kmeans.py:1412: FutureWarning:\n",
      "\n",
      "The default value of `n_init` will change from 10 to 'auto' in 1.4. Set the value of `n_init` explicitly to suppress the warning\n",
      "\n",
      "/Users/davideventre/Library/Python/3.9/lib/python/site-packages/sklearn/cluster/_kmeans.py:1412: FutureWarning:\n",
      "\n",
      "The default value of `n_init` will change from 10 to 'auto' in 1.4. Set the value of `n_init` explicitly to suppress the warning\n",
      "\n"
     ]
    }
   ],
   "source": [
    "import lib\n",
    "from sklearn import cluster\n",
    "\n",
    "kmeans = lib.compute_kmeans(\"model/sentences_korpus2_min_count.model\", k=k, min_count=100)\n",
    "kmeans2 = lib.compute_kmeans(\"model/sentences_korpus1_min_count.model\", k=k, min_count=100)"
   ]
  },
  {
   "cell_type": "code",
   "execution_count": 25,
   "metadata": {},
   "outputs": [],
   "source": [
    "word_cluster, cluster_words, cluster_centroid, cluster_label = lib.load_kmeans(\"model/sentences_korpus2_min_count.model.kmeans.pkl\", \"model/sentences_korpus2_min_count.model\")\n",
    "word_cluster2, cluster_words2, cluster_centroid2, cluster_label2 = lib.load_kmeans(\"model/sentences_korpus1_min_count.model.kmeans.pkl\", \"model/sentences_korpus1_min_count.model\")"
   ]
  },
  {
   "attachments": {},
   "cell_type": "markdown",
   "metadata": {},
   "source": [
    "So wie wir zu einzelnen Wörtern nächste Nachbarn abfragen können, können wir das auch zu den Clustern, indem wir den Centroid der Cluster verwenden dafür modifizieren wir unsere time_machine Funktion, sodass wir ihr entweder ein Wort oder einen Vektor übergeben können."
   ]
  },
  {
   "cell_type": "code",
   "execution_count": 27,
   "metadata": {},
   "outputs": [
    {
     "data": {
      "text/plain": [
       "[('Regionen', 0.7719741463661194),\n",
       " ('unterschiedlichen', 0.7367850542068481),\n",
       " ('Politikern', 0.6950081586837769),\n",
       " ('Trennung', 0.6896661520004272),\n",
       " ('westlichen', 0.6892880201339722),\n",
       " ('internationalen', 0.6649039387702942),\n",
       " ('rechtlichen', 0.6641311049461365),\n",
       " ('Dialog', 0.6626706123352051),\n",
       " ('Bereichen', 0.66215980052948),\n",
       " ('Kultur-', 0.6588643789291382)]"
      ]
     },
     "execution_count": 27,
     "metadata": {},
     "output_type": "execute_result"
    }
   ],
   "source": [
    "def time_machine(model1, model2, word_or_vec):\n",
    "    if type(word_or_vec) == str:\n",
    "        embedding = model1[word_or_vec]\n",
    "    else:\n",
    "        embedding = word_or_vec\n",
    "    return model2.wv.most_similar([embedding])\n",
    "\n",
    "centroid = cluster_centroid2[word_cluster2[\"Solidarität\"]]\n",
    "time_machine(model_korpus1, model_korpus2, centroid)"
   ]
  },
  {
   "cell_type": "code",
   "execution_count": 28,
   "metadata": {},
   "outputs": [
    {
     "data": {
      "text/plain": [
       "[('Fähigkeit', 0.765886664390564),\n",
       " ('Ausübung', 0.7592496275901794),\n",
       " ('Stärkung', 0.7561839818954468),\n",
       " ('Zugehörigkeit', 0.7294540405273438),\n",
       " ('Fähigkeiten', 0.7162812948226929),\n",
       " ('Lehre', 0.7133568525314331),\n",
       " ('Verbesserung', 0.7119879722595215),\n",
       " ('Überwachung', 0.7025085687637329),\n",
       " ('Parlamente', 0.7004865407943726),\n",
       " ('Anwendung', 0.6872903108596802)]"
      ]
     },
     "execution_count": 28,
     "metadata": {},
     "output_type": "execute_result"
    }
   ],
   "source": [
    "centroid = cluster_centroid[word_cluster[\"Solidarität\"]]\n",
    "time_machine(model_korpus2, model_korpus1, centroid)"
   ]
  },
  {
   "attachments": {},
   "cell_type": "markdown",
   "metadata": {},
   "source": [
    "### Ähnliche Cluster berechnen"
   ]
  },
  {
   "cell_type": "code",
   "execution_count": 29,
   "metadata": {},
   "outputs": [
    {
     "name": "stdout",
     "output_type": "stream",
     "text": [
      "Vernichtung|Balanchine|Freundin 0.53\n",
      "Ästhetik|Ideologie|Bewunderung 0.52\n",
      "Tierversuche|Territorien|Sicherheitskräfte 0.49\n",
      "Regionen|unterschiedlichen|Politikern 0.48\n",
      "Konferenz|Information|Tochtergesellschaft 0.42\n",
      "Entlastung|Umsetzung|Änderung 0.41\n",
      "kollektiven|Gehorsam|Vorgang 0.4\n",
      "rechtlichen|Altersvorsorge|Bildung 0.4\n",
      "Haltung|Diskussion|Aufgabe 0.39\n",
      "Libyen|Türkei|EU 0.32\n"
     ]
    },
    {
     "name": "stderr",
     "output_type": "stream",
     "text": [
      "/var/folders/hf/7sh8pbpj1t9cgl61pd6js3lm0000gn/T/ipykernel_76081/1339255853.py:1: DeprecationWarning:\n",
      "\n",
      "Call to deprecated `__getitem__` (Method will be removed in 4.0.0, use self.wv.__getitem__() instead).\n",
      "\n"
     ]
    },
    {
     "data": {
      "text/plain": [
       "{162: 0.5343614816665649,\n",
       " 32: 0.5178489089012146,\n",
       " 185: 0.48792707920074463,\n",
       " 2: 0.47522425651550293,\n",
       " 13: 0.4238259792327881,\n",
       " 127: 0.4096028804779053,\n",
       " 74: 0.40441474318504333,\n",
       " 211: 0.3961290717124939,\n",
       " 90: 0.3888268768787384,\n",
       " 209: 0.32215985655784607,\n",
       " 16: 0.30319905281066895,\n",
       " 1: 0.29849740862846375,\n",
       " 87: 0.2894017994403839,\n",
       " 36: 0.27611488103866577,\n",
       " 99: 0.2710784077644348,\n",
       " 156: 0.2657148540019989,\n",
       " 210: 0.26168596744537354,\n",
       " 149: 0.240846186876297,\n",
       " 55: 0.23663705587387085,\n",
       " 153: 0.23546147346496582,\n",
       " 204: 0.23396305739879608,\n",
       " 58: 0.23363462090492249,\n",
       " 200: 0.2303554117679596,\n",
       " 43: 0.22836528718471527,\n",
       " 194: 0.22337356209754944,\n",
       " 199: 0.22040066123008728,\n",
       " 7: 0.2203284502029419,\n",
       " 27: 0.21969658136367798,\n",
       " 10: 0.21617557108402252,\n",
       " 190: 0.21475225687026978,\n",
       " 177: 0.21320752799510956,\n",
       " 141: 0.20783628523349762,\n",
       " 130: 0.20714706182479858,\n",
       " 4: 0.1948942244052887,\n",
       " 108: 0.19204838573932648,\n",
       " 11: 0.1909557729959488,\n",
       " 21: 0.17638453841209412,\n",
       " 98: 0.17526301741600037,\n",
       " 165: 0.16322939097881317,\n",
       " 101: 0.15706448256969452,\n",
       " 206: 0.15334871411323547,\n",
       " 69: 0.15066993236541748,\n",
       " 160: 0.1497691124677658,\n",
       " 5: 0.14837294816970825,\n",
       " 24: 0.14837180078029633,\n",
       " 187: 0.14530640840530396,\n",
       " 94: 0.13016192615032196,\n",
       " 79: 0.12743055820465088,\n",
       " 47: 0.12643465399742126,\n",
       " 169: 0.12345689535140991,\n",
       " 22: 0.12304963171482086,\n",
       " 97: 0.1206914484500885,\n",
       " 214: 0.1168106272816658,\n",
       " 45: 0.11265797913074493,\n",
       " 192: 0.11229583621025085,\n",
       " 66: 0.11211151629686356,\n",
       " 9: 0.10805802792310715,\n",
       " 129: 0.10682683438062668,\n",
       " 44: 0.10438240319490433,\n",
       " 78: 0.10296139866113663,\n",
       " 93: 0.09901997447013855,\n",
       " 111: 0.09758242964744568,\n",
       " 124: 0.09688648581504822,\n",
       " 159: 0.09610550850629807,\n",
       " 106: 0.08971269428730011,\n",
       " 77: 0.08918944001197815,\n",
       " 72: 0.0869876816868782,\n",
       " 213: 0.08305180817842484,\n",
       " 189: 0.0819246768951416,\n",
       " 31: 0.08175087720155716,\n",
       " 75: 0.08105186372995377,\n",
       " 178: 0.07994624227285385,\n",
       " 40: 0.07974467426538467,\n",
       " 193: 0.07901857048273087,\n",
       " 150: 0.0751398578286171,\n",
       " 41: 0.07127200067043304,\n",
       " 15: 0.06854163110256195,\n",
       " 136: 0.06591881066560745,\n",
       " 157: 0.06173677369952202,\n",
       " 114: 0.059087447822093964,\n",
       " 205: 0.05872391536831856,\n",
       " 39: 0.057226963341236115,\n",
       " 164: 0.056371208280324936,\n",
       " 133: 0.05602150410413742,\n",
       " 89: 0.05387111380696297,\n",
       " 202: 0.05284671112895012,\n",
       " 110: 0.04761640727519989,\n",
       " 53: 0.047298990190029144,\n",
       " 186: 0.046107787638902664,\n",
       " 46: 0.04592236503958702,\n",
       " 85: 0.045484453439712524,\n",
       " 51: 0.045057304203510284,\n",
       " 146: 0.0445522703230381,\n",
       " 207: 0.04413599148392677,\n",
       " 60: 0.043554067611694336,\n",
       " 59: 0.04325403645634651,\n",
       " 19: 0.04000789299607277,\n",
       " 37: 0.040006812661886215,\n",
       " 95: 0.03982338681817055,\n",
       " 117: 0.03924056142568588,\n",
       " 81: 0.03858614340424538,\n",
       " 82: 0.038324374705553055,\n",
       " 61: 0.0360921211540699,\n",
       " 71: 0.03516736254096031,\n",
       " 158: 0.03353656455874443,\n",
       " 28: 0.03317093476653099,\n",
       " 122: 0.03292520344257355,\n",
       " 113: 0.029474899172782898,\n",
       " 96: 0.027244864031672478,\n",
       " 172: 0.026477234438061714,\n",
       " 134: 0.025700317695736885,\n",
       " 8: 0.024240870028734207,\n",
       " 142: 0.019356800243258476,\n",
       " 140: 0.018728507682681084,\n",
       " 183: 0.017559142783284187,\n",
       " 121: 0.014396528713405132,\n",
       " 56: 0.013138644397258759,\n",
       " 197: 0.009686599485576153,\n",
       " 30: 0.007133048959076405,\n",
       " 102: 0.005532260052859783,\n",
       " 203: 0.004712860565632582,\n",
       " 104: 0.0029679392464458942,\n",
       " 76: 0.002264775335788727,\n",
       " 34: 0.000555698003154248,\n",
       " 63: -0.0031458938028663397,\n",
       " 171: -0.003231701208278537,\n",
       " 12: -0.0036056158132851124,\n",
       " 173: -0.004512140993028879,\n",
       " 126: -0.006391957402229309,\n",
       " 112: -0.008093872107565403,\n",
       " 188: -0.00901099294424057,\n",
       " 0: -0.009985134936869144,\n",
       " 212: -0.010785057209432125,\n",
       " 92: -0.010847434401512146,\n",
       " 91: -0.010985765606164932,\n",
       " 67: -0.011647899635136127,\n",
       " 168: -0.012001539580523968,\n",
       " 137: -0.012414824217557907,\n",
       " 103: -0.013451208360493183,\n",
       " 195: -0.01708066090941429,\n",
       " 201: -0.023542774841189384,\n",
       " 174: -0.02615869790315628,\n",
       " 167: -0.027246560901403427,\n",
       " 64: -0.028176426887512207,\n",
       " 86: -0.028475388884544373,\n",
       " 73: -0.0287801381200552,\n",
       " 50: -0.03014449216425419,\n",
       " 35: -0.030230581760406494,\n",
       " 88: -0.03228344768285751,\n",
       " 138: -0.03231325000524521,\n",
       " 179: -0.03444947302341461,\n",
       " 105: -0.03543334826827049,\n",
       " 52: -0.04054391011595726,\n",
       " 116: -0.044362567365169525,\n",
       " 175: -0.04807844012975693,\n",
       " 29: -0.0488496832549572,\n",
       " 120: -0.050117917358875275,\n",
       " 184: -0.050558388233184814,\n",
       " 123: -0.05252617225050926,\n",
       " 62: -0.05609235167503357,\n",
       " 38: -0.05661502480506897,\n",
       " 54: -0.05721413716673851,\n",
       " 170: -0.05812755227088928,\n",
       " 198: -0.05944225192070007,\n",
       " 109: -0.060940586030483246,\n",
       " 181: -0.06404417753219604,\n",
       " 163: -0.06674722582101822,\n",
       " 182: -0.06792659312486649,\n",
       " 151: -0.07133503258228302,\n",
       " 161: -0.0722360908985138,\n",
       " 125: -0.07636640965938568,\n",
       " 196: -0.07642260193824768,\n",
       " 154: -0.07923506200313568,\n",
       " 70: -0.07947051525115967,\n",
       " 68: -0.07952944189310074,\n",
       " 84: -0.07955735176801682,\n",
       " 42: -0.07969638705253601,\n",
       " 65: -0.08106446266174316,\n",
       " 118: -0.08295421302318573,\n",
       " 208: -0.08296115696430206,\n",
       " 180: -0.08449822664260864,\n",
       " 25: -0.08806093782186508,\n",
       " 48: -0.09185919165611267,\n",
       " 83: -0.0920199304819107,\n",
       " 132: -0.09616945683956146,\n",
       " 139: -0.09659279137849808,\n",
       " 143: -0.09709035605192184,\n",
       " 6: -0.09886755049228668,\n",
       " 33: -0.10455679148435593,\n",
       " 49: -0.10573330521583557,\n",
       " 20: -0.108345165848732,\n",
       " 144: -0.11096521466970444,\n",
       " 26: -0.1117018386721611,\n",
       " 128: -0.11460104584693909,\n",
       " 80: -0.1211596354842186,\n",
       " 3: -0.12124576419591904,\n",
       " 166: -0.12194979190826416,\n",
       " 135: -0.12409529834985733,\n",
       " 119: -0.12612929940223694,\n",
       " 57: -0.1271211951971054,\n",
       " 131: -0.13016647100448608,\n",
       " 100: -0.13035380840301514,\n",
       " 18: -0.1370905190706253,\n",
       " 14: -0.13857117295265198,\n",
       " 155: -0.14351220428943634,\n",
       " 191: -0.15549473464488983,\n",
       " 17: -0.15557189285755157,\n",
       " 176: -0.1668912023305893,\n",
       " 145: -0.182463139295578,\n",
       " 23: -0.19199347496032715,\n",
       " 148: -0.20624689757823944,\n",
       " 107: -0.218491330742836,\n",
       " 152: -0.22250042855739594,\n",
       " 147: -0.2266237586736679,\n",
       " 115: -0.22739337384700775}"
      ]
     },
     "execution_count": 29,
     "metadata": {},
     "output_type": "execute_result"
    }
   ],
   "source": [
    "lib.get_most_similar_clusters(model_korpus1[\"Solidarität\"], cluster_centroid2, cluster_label2)\n"
   ]
  },
  {
   "attachments": {},
   "cell_type": "markdown",
   "metadata": {},
   "source": [
    "### Entfernte Clusters"
   ]
  },
  {
   "cell_type": "code",
   "execution_count": 30,
   "metadata": {},
   "outputs": [
    {
     "data": {
      "text/plain": [
       "{'LB|West|Bayern': 0.7830603867769241,\n",
       " 'Finanzmarktreform|Pröll|Craigslist': 0.7059883550552949,\n",
       " 'medizinischen|natürlichen|gesunden': 0.7047333157253127,\n",
       " 'verliebt|lacht|Anne': 0.7030796173346323,\n",
       " 'G20|Einstellungen|nukleare': 0.6871970507860878,\n",
       " 'Sensex|650|1800': 0.6776230978076437,\n",
       " 'Instituten|ländlichen|Aufseher': 0.6664519221281883,\n",
       " 'vernachlässigen|organisieren|beurteilen': 0.6576501529702207,\n",
       " 'vorliegt|zeitlich|hervorragend': 0.6549435046220583,\n",
       " 'Kapazitäten|Versicherten|Staatsschulden': 0.6502706904349655,\n",
       " 'Roma|Frankreich': 0.6488606482744217,\n",
       " 'Anklage|Ermordung|Fassung': 0.648735929760668,\n",
       " 'Finanzdienstleistungsaufsicht|Bundesanstalt|Langzeitarbeitslose': 0.6456482775912091,\n",
       " 'Baum|Antisemitismus|gewählten': 0.6424886938086466,\n",
       " 'krank|geblieben|unwahrscheinlich': 0.6388073731077849,\n",
       " 'Poß|Bundesaußenminister|Heinz': 0.6378938833640205,\n",
       " 'abgebaut|gefördert|ausgewiesen': 0.6103421836950869,\n",
       " 'Jong-mi|geboren|Gedichten': 0.6069292628123024,\n",
       " 'Fähigkeit|Ausübung|Stärkung': 0.5992142967269068,\n",
       " 'Phänomen|Finanzministerium|Referendum': 0.5975866145363041,\n",
       " 'Konservativ|Zunächst|Erstens': 0.59334644250816,\n",
       " 'stellvertretende|Hortefeux|Viviane': 0.579571004336079,\n",
       " 'Rande|Montagabend|Main': 0.5721238198273472,\n",
       " 'Freiheit|Religion|Person': 0.563651076555252,\n",
       " 'Korrektur|Verbesserung|Vielzahl': 0.5605528994479723,\n",
       " 'Sicherheitskräfte|Abschiebungen|Polizei': 0.5539408015708128,\n",
       " 'Mexiko|Spanien|Italien': 0.5511659785758617,\n",
       " 'Finanzkrise|Krise': 0.5503094121813774,\n",
       " 'Zins|Betrag|Aufschlag': 0.5469888087923396,\n",
       " 'ausfallen|Krankenkassen|saniert': 0.5468054099046454,\n",
       " 'September': 0.5443800091743469,\n",
       " 'J.P|JP|Goldman': 0.5428647637367249,\n",
       " 'unterschrieben|begonnen|vernommen': 0.529801750116134,\n",
       " 'Schulz|MENSCHEN|Hans': 0.5247683175159304,\n",
       " 'anderem|Umständen|Druck': 0.5200031079627849,\n",
       " 'Vorstand|Thilo|Amt': 0.5141785740852356,\n",
       " 'Männer|Straßen|Männern': 0.5130941652018448,\n",
       " 'Google|Facebook|Web': 0.5098807828918356,\n",
       " 'kritisierte|äußerte|bekräftigte': 0.5069525933196378,\n",
       " 'einfach|unklar|schwer': 0.5042858918011188,\n",
       " 'Märkte|Verschuldung|Weltwirtschaft': 0.5038805859429496,\n",
       " 'Schmidt|Joachim|Tony': 0.49396725218804155,\n",
       " 'Mutter|Karriere|Kindheit': 0.49372025351135096,\n",
       " 'starkes|Unterfangen|riesiges': 0.49061046334657266,\n",
       " '2015|2020|2012': 0.48916959356177936,\n",
       " 'Arztes|Ausschusses|Aufschwungs': 0.48013980235708387,\n",
       " 'nimmt|bekam|kannte': 0.4792981247107188,\n",
       " 'soziale|Bildung|Kompetenzen': 0.47215815680101514,\n",
       " 'SPD-Vorsitzende|Norbert|Röttgen': 0.46803135121310196,\n",
       " 'Liquidität|Aktien|Versicherungen': 0.46636832640929654,\n",
       " 'Frau': 0.46531522274017334,\n",
       " 'glaube|kenne|dachte': 0.46128933959537083,\n",
       " 'Bundespräsident|SPD|Gabriel': 0.4607858828135899,\n",
       " 'Haus|Vorbild|Film': 0.46030636036649664,\n",
       " '32|78|57': 0.4499008669250313,\n",
       " 'nutzen|verbessern|stärken': 0.4483907880691382,\n",
       " 'Erklärung|Berlin|Zeitung': 0.44816047251224517,\n",
       " 'America|Anglo|Irish': 0.44542132318019867,\n",
       " 'Darstellung|Regelung|Strategie': 0.44153888329215674,\n",
       " 'Nachteil|Zeitpunkt|Boykott': 0.4354249197244644,\n",
       " 'rund|knapp|Tonnen': 0.4235334264114499,\n",
       " '2007|2008|2009': 0.4199121158856612,\n",
       " 'Ansicht|Suche|Angaben': 0.4156197526238181,\n",
       " 'Danach|Immerhin|Heute': 0.39751435278190506,\n",
       " 'System|Risiko|Konzept': 0.3966202487548192,\n",
       " 'Gegenzug|Zuge|Süden': 0.38915413682875427,\n",
       " 'BERLIN|FRANKFURT|31': 0.3881728798151016,\n",
       " 'Eltern|Kinder|Familien': 0.38344918191432953,\n",
       " 'Unternehmen|Banken': 0.38244083523750305,\n",
       " 'Merkel|Steinbach|Bundeskanzlerin': 0.38092778126398724,\n",
       " 'da|doch|ja': 0.3799933034640092,\n",
       " 'Kommission|EU-Kommission|Europäische': 0.37929223565494313,\n",
       " 'Urteil|Gesetz|Vorgehen': 0.37656367421150205,\n",
       " 'erst': 0.3745380640029907,\n",
       " 'Familie|Gott|ihn': 0.36046404018998146,\n",
       " 'groß|hoch|niedrig': 0.3592999105652173,\n",
       " '400|80|300': 0.3486492564280828,\n",
       " '22|12|14': 0.346055527528127,\n",
       " 'wissen|sagen|verstehen': 0.3394636631011963,\n",
       " 'muss|sollte|könnte': 0.33056022840387683,\n",
       " 'Monate|Minuten|Stunden': 0.3287389645209679,\n",
       " 'sollten|könnten|müssten': 0.3208254426717758,\n",
       " 'gar': 0.31661832332611084,\n",
       " 'dann': 0.3054831624031067,\n",
       " 'Europa|Deutschland|EU': 0.29773566126823425,\n",
       " 'Allerdings|Denn|Hier': 0.2891706894425785,\n",
       " 'zwei|drei': 0.28809088468551636,\n",
       " 'acht|achtziger|dreißiger': 0.28751539438962936,\n",
       " 'the|New|The': 0.28664675780705046,\n",
       " 'nichts': 0.2841563820838928,\n",
       " 'eines|seiner|seines': 0.28386418024698895,\n",
       " 'Und|Aber': 0.28002581000328064,\n",
       " 'kommt': 0.27378249168395996,\n",
       " 'andere': 0.2680257558822632,\n",
       " ':|!': 0.26674318313598633,\n",
       " 'diesen|einigen|vielen': 0.2659650842348735,\n",
       " 'Was|Welche|Wie': 0.2590997934341431,\n",
       " 'wäre': 0.25867098569869995,\n",
       " 'viel': 0.2575955390930176,\n",
       " 'Anfang|Ende|Jahres': 0.2571547031402588,\n",
       " 'So': 0.25628238916397095,\n",
       " 'uns|unsere': 0.24697810411453247,\n",
       " 'dafür|für|davon': 0.2458120584487915,\n",
       " 'März|Mai|November': 0.2453157790005207,\n",
       " 'hat|sieht|steht': 0.2439235051472982,\n",
       " 'schon': 0.24366235733032227,\n",
       " 'könne|werde|müsse': 0.2393957773844401,\n",
       " \"''\": 0.23102396726608276,\n",
       " 'gegenüber|unter|aus': 0.23038210471471152,\n",
       " 'nächsten|kommenden|später': 0.2299428383509318,\n",
       " 'weniger': 0.2266901731491089,\n",
       " 'durch': 0.22593414783477783,\n",
       " 'ihren': 0.2257290482521057,\n",
       " 'müssen|können': 0.22539955377578735,\n",
       " 'geht|gehe|ging': 0.2215580145517985,\n",
       " 'Vergleich': 0.21870708465576172,\n",
       " 'was': 0.21487843990325928,\n",
       " 'Von': 0.21445435285568237,\n",
       " 'Auf|Mit|Bei': 0.210851788520813,\n",
       " 'das|dieses': 0.21035417914390564,\n",
       " 'Er|Man': 0.2070944607257843,\n",
       " 'habe': 0.20656675100326538,\n",
       " 'ihre|ihrer': 0.20568031072616577,\n",
       " 'seinem|ihrem|seinen': 0.2049393504858017,\n",
       " 'Dienstag|Samstag|Mittwoch': 0.2031833529472351,\n",
       " 'werden|worden|würden': 0.20095089077949524,\n",
       " 'sollen': 0.19939810037612915,\n",
       " 'wird': 0.19893699884414673,\n",
       " 'keine|keinen': 0.1984204649925232,\n",
       " 'gebe|gibt|gab': 0.19555287361145018,\n",
       " 'Wochen|Monaten|Tagen': 0.19424518942832947,\n",
       " 'seien': 0.19204437732696533,\n",
       " 'gegen': 0.1907234787940979,\n",
       " 'Sie': 0.19062745571136475,\n",
       " 'Millionen|Milliarden|Billionen': 0.18829511404037474,\n",
       " 'wieder': 0.18783342838287354,\n",
       " 'soll': 0.1846192479133606,\n",
       " 'zwischen': 0.18428468704223633,\n",
       " 'wurden|hatten|waren': 0.179504856467247,\n",
       " 'dieser': 0.17623460292816162,\n",
       " 'Vereinigten': 0.17276239395141602,\n",
       " 'Staaten': 0.17263901233673096,\n",
       " 'ein|kein': 0.16809260845184326,\n",
       " 'auch': 0.16725420951843262,\n",
       " 'bei': 0.16432172060012817,\n",
       " 'seine': 0.1589546799659729,\n",
       " 'sondern': 0.15498489141464233,\n",
       " 'sie': 0.15115994215011597,\n",
       " 'vergangenen': 0.1495162844657898,\n",
       " 'hatte': 0.14927458763122559,\n",
       " 'Nach': 0.14593684673309326,\n",
       " 'wenn': 0.14338946342468262,\n",
       " 'aber': 0.14324522018432617,\n",
       " 'man': 0.14068883657455444,\n",
       " '?': 0.13776451349258423,\n",
       " 'oder': 0.13766193389892578,\n",
       " 'Das': 0.13708871603012085,\n",
       " 'kann': 0.13470542430877686,\n",
       " 'In': 0.13466793298721313,\n",
       " 'Die': 0.13441890478134155,\n",
       " 'diesem': 0.13052386045455933,\n",
       " 'war': 0.13029468059539795,\n",
       " 'sagte': 0.12971210479736328,\n",
       " 'seit': 0.12965917587280273,\n",
       " 'Euro|Dollar': 0.12940356135368347,\n",
       " 'bis': 0.1285896897315979,\n",
       " 'Der': 0.12664079666137695,\n",
       " 'sagt': 0.12604796886444092,\n",
       " 'Vor': 0.12601721286773682,\n",
       " 'Wir': 0.12387603521347046,\n",
       " 'allem': 0.12359094619750977,\n",
       " 'haben': 0.12341558933258057,\n",
       " 'ist': 0.12337338924407959,\n",
       " 'wir': 0.12168776988983154,\n",
       " 'noch': 0.12074929475784302,\n",
       " 'Jahr': 0.12039542198181152,\n",
       " 'er': 0.1189727783203125,\n",
       " 'Am|Bis': 0.11887934803962708,\n",
       " 'einer': 0.1177067756652832,\n",
       " 'nach': 0.11639195680618286,\n",
       " 'zu': 0.116344153881073,\n",
       " 'ich|Ich': 0.11201563477516174,\n",
       " 'Es': 0.1109311580657959,\n",
       " 'einem': 0.11081910133361816,\n",
       " 'sein': 0.11037635803222656,\n",
       " 'sind': 0.10764837265014648,\n",
       " 'nicht': 0.10683190822601318,\n",
       " 'um': 0.10668134689331055,\n",
       " 'wie': 0.10635644197463989,\n",
       " 'des': 0.10457295179367065,\n",
       " 'eine': 0.1031639575958252,\n",
       " 'Im': 0.101398766040802,\n",
       " 'Jahre': 0.10124444961547852,\n",
       " '-': 0.10074162483215332,\n",
       " 'es': 0.0966111421585083,\n",
       " 'zum': 0.09413611888885498,\n",
       " 'nur': 0.09286928176879883,\n",
       " 'zur': 0.09252023696899414,\n",
       " 'sei': 0.09144115447998047,\n",
       " 'Jahren': 0.08832210302352905,\n",
       " 'über': 0.08562624454498291,\n",
       " ')': 0.08431756496429443,\n",
       " 'dass': 0.08295971155166626,\n",
       " 'so': 0.08200216293334961,\n",
       " 'als': 0.07932865619659424,\n",
       " 'am': 0.07827538251876831,\n",
       " 'an': 0.07793068885803223,\n",
       " 'im': 0.07660830020904541,\n",
       " 'mehr': 0.07452666759490967,\n",
       " 'Prozent': 0.07237452268600464,\n",
       " 'einen': 0.0693061351776123,\n",
       " '(': 0.06765192747116089,\n",
       " 'vor': 0.060031771659851074}"
      ]
     },
     "execution_count": 30,
     "metadata": {},
     "output_type": "execute_result"
    }
   ],
   "source": [
    "import numpy as np\n",
    "\n",
    "lib.get_most_distant_clusters(\n",
    "    model_korpus1, cluster_words, cluster_label, model_korpus2\n",
    ")\n"
   ]
  },
  {
   "cell_type": "markdown",
   "metadata": {},
   "source": [
    "### Semantische Achse\n"
   ]
  },
  {
   "cell_type": "code",
   "execution_count": 51,
   "metadata": {},
   "outputs": [
    {
     "name": "stdout",
     "output_type": "stream",
     "text": [
      "[(0.007518069, 'schlecht'), (0.88401574, 'gut')]\n"
     ]
    },
    {
     "data": {
      "image/png": "[encoded data removed]",
      "text/plain": [
       "<Figure size 600x300 with 1 Axes>"
      ]
     },
     "metadata": {},
     "output_type": "display_data"
    },
    {
     "name": "stdout",
     "output_type": "stream",
     "text": [
      "[(0.20278977, 'schlecht'), (0.935188, 'gut')]\n"
     ]
    },
    {
     "data": {
      "image/png": "[encoded data removed]",
      "text/plain": [
       "<Figure size 600x300 with 1 Axes>"
      ]
     },
     "metadata": {},
     "output_type": "display_data"
    }
   ],
   "source": [
    "import lib\n",
    "antonym_list = [\n",
    "(\"gut\", \"schlecht\"),\n",
    "]\n",
    "\n",
    "word_list = ['gut', 'schlecht']\n",
    "\n",
    "cos_sim = lib.we_basics('./model/sentences_korpus1_min_count.model', antonym_list, word_list)\n",
    "lib.plot_cosine_similarity(cos_sim, antonym_list, word_list)\n",
    "cos_sim = lib.we_basics('./model/sentences_korpus3_min_count.model', antonym_list, word_list)\n",
    "lib.plot_cosine_similarity(cos_sim, antonym_list, word_list)"
   ]
  },
  {
   "cell_type": "code",
   "execution_count": 47,
   "metadata": {},
   "outputs": [
    {
     "name": "stdout",
     "output_type": "stream",
     "text": [
      "[(-0.11344068, 'Solidarität')]\n"
     ]
    },
    {
     "data": {
      "application/vnd.plotly.v1+json": {
       "config": {
        "linkText": "Export to plot.ly",
        "plotlyServerURL": "https://plot.ly",
        "showLink": false
       },
       "data": [
        {
         "hoverinfo": "text",
         "hovertemplate": "%{hovertext}<extra></extra>",
         "hovertext": [
          "Solidarität"
         ],
         "marker": {
          "color": [
           79.79033902287483
          ],
          "colorscale": [
           [
            0,
            "#0d0887"
           ],
           [
            0.1111111111111111,
            "#46039f"
           ],
           [
            0.2222222222222222,
            "#7201a8"
           ],
           [
            0.3333333333333333,
            "#9c179e"
           ],
           [
            0.4444444444444444,
            "#bd3786"
           ],
           [
            0.5555555555555556,
            "#d8576b"
           ],
           [
            0.6666666666666666,
            "#ed7953"
           ],
           [
            0.7777777777777778,
            "#fb9f3a"
           ],
           [
            0.8888888888888888,
            "#fdca26"
           ],
           [
            1,
            "#f0f921"
           ]
          ],
          "line": {
           "color": "white",
           "width": 0.5
          },
          "opacity": 0.7,
          "size": 10
         },
         "mode": "markers",
         "type": "scatter",
         "x": [
          79.79033902287483
         ],
         "y": [
          79.79033902287483
         ]
        }
       ],
       "layout": {
        "coloraxis": {
         "colorbar": {
          "title": {
           "text": "Angle"
          }
         }
        },
        "template": {
         "data": {
          "bar": [
           {
            "error_x": {
             "color": "#2a3f5f"
            },
            "error_y": {
             "color": "#2a3f5f"
            },
            "marker": {
             "line": {
              "color": "#E5ECF6",
              "width": 0.5
             },
             "pattern": {
              "fillmode": "overlay",
              "size": 10,
              "solidity": 0.2
             }
            },
            "type": "bar"
           }
          ],
          "barpolar": [
           {
            "marker": {
             "line": {
              "color": "#E5ECF6",
              "width": 0.5
             },
             "pattern": {
              "fillmode": "overlay",
              "size": 10,
              "solidity": 0.2
             }
            },
            "type": "barpolar"
           }
          ],
          "carpet": [
           {
            "aaxis": {
             "endlinecolor": "#2a3f5f",
             "gridcolor": "white",
             "linecolor": "white",
             "minorgridcolor": "white",
             "startlinecolor": "#2a3f5f"
            },
            "baxis": {
             "endlinecolor": "#2a3f5f",
             "gridcolor": "white",
             "linecolor": "white",
             "minorgridcolor": "white",
             "startlinecolor": "#2a3f5f"
            },
            "type": "carpet"
           }
          ],
          "choropleth": [
           {
            "colorbar": {
             "outlinewidth": 0,
             "ticks": ""
            },
            "type": "choropleth"
           }
          ],
          "contour": [
           {
            "colorbar": {
             "outlinewidth": 0,
             "ticks": ""
            },
            "colorscale": [
             [
              0,
              "#0d0887"
             ],
             [
              0.1111111111111111,
              "#46039f"
             ],
             [
              0.2222222222222222,
              "#7201a8"
             ],
             [
              0.3333333333333333,
              "#9c179e"
             ],
             [
              0.4444444444444444,
              "#bd3786"
             ],
             [
              0.5555555555555556,
              "#d8576b"
             ],
             [
              0.6666666666666666,
              "#ed7953"
             ],
             [
              0.7777777777777778,
              "#fb9f3a"
             ],
             [
              0.8888888888888888,
              "#fdca26"
             ],
             [
              1,
              "#f0f921"
             ]
            ],
            "type": "contour"
           }
          ],
          "contourcarpet": [
           {
            "colorbar": {
             "outlinewidth": 0,
             "ticks": ""
            },
            "type": "contourcarpet"
           }
          ],
          "heatmap": [
           {
            "colorbar": {
             "outlinewidth": 0,
             "ticks": ""
            },
            "colorscale": [
             [
              0,
              "#0d0887"
             ],
             [
              0.1111111111111111,
              "#46039f"
             ],
             [
              0.2222222222222222,
              "#7201a8"
             ],
             [
              0.3333333333333333,
              "#9c179e"
             ],
             [
              0.4444444444444444,
              "#bd3786"
             ],
             [
              0.5555555555555556,
              "#d8576b"
             ],
             [
              0.6666666666666666,
              "#ed7953"
             ],
             [
              0.7777777777777778,
              "#fb9f3a"
             ],
             [
              0.8888888888888888,
              "#fdca26"
             ],
             [
              1,
              "#f0f921"
             ]
            ],
            "type": "heatmap"
           }
          ],
          "heatmapgl": [
           {
            "colorbar": {
             "outlinewidth": 0,
             "ticks": ""
            },
            "colorscale": [
             [
              0,
              "#0d0887"
             ],
             [
              0.1111111111111111,
              "#46039f"
             ],
             [
              0.2222222222222222,
              "#7201a8"
             ],
             [
              0.3333333333333333,
              "#9c179e"
             ],
             [
              0.4444444444444444,
              "#bd3786"
             ],
             [
              0.5555555555555556,
              "#d8576b"
             ],
             [
              0.6666666666666666,
              "#ed7953"
             ],
             [
              0.7777777777777778,
              "#fb9f3a"
             ],
             [
              0.8888888888888888,
              "#fdca26"
             ],
             [
              1,
              "#f0f921"
             ]
            ],
            "type": "heatmapgl"
           }
          ],
          "histogram": [
           {
            "marker": {
             "pattern": {
              "fillmode": "overlay",
              "size": 10,
              "solidity": 0.2
             }
            },
            "type": "histogram"
           }
          ],
          "histogram2d": [
           {
            "colorbar": {
             "outlinewidth": 0,
             "ticks": ""
            },
            "colorscale": [
             [
              0,
              "#0d0887"
             ],
             [
              0.1111111111111111,
              "#46039f"
             ],
             [
              0.2222222222222222,
              "#7201a8"
             ],
             [
              0.3333333333333333,
              "#9c179e"
             ],
             [
              0.4444444444444444,
              "#bd3786"
             ],
             [
              0.5555555555555556,
              "#d8576b"
             ],
             [
              0.6666666666666666,
              "#ed7953"
             ],
             [
              0.7777777777777778,
              "#fb9f3a"
             ],
             [
              0.8888888888888888,
              "#fdca26"
             ],
             [
              1,
              "#f0f921"
             ]
            ],
            "type": "histogram2d"
           }
          ],
          "histogram2dcontour": [
           {
            "colorbar": {
             "outlinewidth": 0,
             "ticks": ""
            },
            "colorscale": [
             [
              0,
              "#0d0887"
             ],
             [
              0.1111111111111111,
              "#46039f"
             ],
             [
              0.2222222222222222,
              "#7201a8"
             ],
             [
              0.3333333333333333,
              "#9c179e"
             ],
             [
              0.4444444444444444,
              "#bd3786"
             ],
             [
              0.5555555555555556,
              "#d8576b"
             ],
             [
              0.6666666666666666,
              "#ed7953"
             ],
             [
              0.7777777777777778,
              "#fb9f3a"
             ],
             [
              0.8888888888888888,
              "#fdca26"
             ],
             [
              1,
              "#f0f921"
             ]
            ],
            "type": "histogram2dcontour"
           }
          ],
          "mesh3d": [
           {
            "colorbar": {
             "outlinewidth": 0,
             "ticks": ""
            },
            "type": "mesh3d"
           }
          ],
          "parcoords": [
           {
            "line": {
             "colorbar": {
              "outlinewidth": 0,
              "ticks": ""
             }
            },
            "type": "parcoords"
           }
          ],
          "pie": [
           {
            "automargin": true,
            "type": "pie"
           }
          ],
          "scatter": [
           {
            "fillpattern": {
             "fillmode": "overlay",
             "size": 10,
             "solidity": 0.2
            },
            "type": "scatter"
           }
          ],
          "scatter3d": [
           {
            "line": {
             "colorbar": {
              "outlinewidth": 0,
              "ticks": ""
             }
            },
            "marker": {
             "colorbar": {
              "outlinewidth": 0,
              "ticks": ""
             }
            },
            "type": "scatter3d"
           }
          ],
          "scattercarpet": [
           {
            "marker": {
             "colorbar": {
              "outlinewidth": 0,
              "ticks": ""
             }
            },
            "type": "scattercarpet"
           }
          ],
          "scattergeo": [
           {
            "marker": {
             "colorbar": {
              "outlinewidth": 0,
              "ticks": ""
             }
            },
            "type": "scattergeo"
           }
          ],
          "scattergl": [
           {
            "marker": {
             "colorbar": {
              "outlinewidth": 0,
              "ticks": ""
             }
            },
            "type": "scattergl"
           }
          ],
          "scattermapbox": [
           {
            "marker": {
             "colorbar": {
              "outlinewidth": 0,
              "ticks": ""
             }
            },
            "type": "scattermapbox"
           }
          ],
          "scatterpolar": [
           {
            "marker": {
             "colorbar": {
              "outlinewidth": 0,
              "ticks": ""
             }
            },
            "type": "scatterpolar"
           }
          ],
          "scatterpolargl": [
           {
            "marker": {
             "colorbar": {
              "outlinewidth": 0,
              "ticks": ""
             }
            },
            "type": "scatterpolargl"
           }
          ],
          "scatterternary": [
           {
            "marker": {
             "colorbar": {
              "outlinewidth": 0,
              "ticks": ""
             }
            },
            "type": "scatterternary"
           }
          ],
          "surface": [
           {
            "colorbar": {
             "outlinewidth": 0,
             "ticks": ""
            },
            "colorscale": [
             [
              0,
              "#0d0887"
             ],
             [
              0.1111111111111111,
              "#46039f"
             ],
             [
              0.2222222222222222,
              "#7201a8"
             ],
             [
              0.3333333333333333,
              "#9c179e"
             ],
             [
              0.4444444444444444,
              "#bd3786"
             ],
             [
              0.5555555555555556,
              "#d8576b"
             ],
             [
              0.6666666666666666,
              "#ed7953"
             ],
             [
              0.7777777777777778,
              "#fb9f3a"
             ],
             [
              0.8888888888888888,
              "#fdca26"
             ],
             [
              1,
              "#f0f921"
             ]
            ],
            "type": "surface"
           }
          ],
          "table": [
           {
            "cells": {
             "fill": {
              "color": "#EBF0F8"
             },
             "line": {
              "color": "white"
             }
            },
            "header": {
             "fill": {
              "color": "#C8D4E3"
             },
             "line": {
              "color": "white"
             }
            },
            "type": "table"
           }
          ]
         },
         "layout": {
          "annotationdefaults": {
           "arrowcolor": "#2a3f5f",
           "arrowhead": 0,
           "arrowwidth": 1
          },
          "autotypenumbers": "strict",
          "coloraxis": {
           "colorbar": {
            "outlinewidth": 0,
            "ticks": ""
           }
          },
          "colorscale": {
           "diverging": [
            [
             0,
             "#8e0152"
            ],
            [
             0.1,
             "#c51b7d"
            ],
            [
             0.2,
             "#de77ae"
            ],
            [
             0.3,
             "#f1b6da"
            ],
            [
             0.4,
             "#fde0ef"
            ],
            [
             0.5,
             "#f7f7f7"
            ],
            [
             0.6,
             "#e6f5d0"
            ],
            [
             0.7,
             "#b8e186"
            ],
            [
             0.8,
             "#7fbc41"
            ],
            [
             0.9,
             "#4d9221"
            ],
            [
             1,
             "#276419"
            ]
           ],
           "sequential": [
            [
             0,
             "#0d0887"
            ],
            [
             0.1111111111111111,
             "#46039f"
            ],
            [
             0.2222222222222222,
             "#7201a8"
            ],
            [
             0.3333333333333333,
             "#9c179e"
            ],
            [
             0.4444444444444444,
             "#bd3786"
            ],
            [
             0.5555555555555556,
             "#d8576b"
            ],
            [
             0.6666666666666666,
             "#ed7953"
            ],
            [
             0.7777777777777778,
             "#fb9f3a"
            ],
            [
             0.8888888888888888,
             "#fdca26"
            ],
            [
             1,
             "#f0f921"
            ]
           ],
           "sequentialminus": [
            [
             0,
             "#0d0887"
            ],
            [
             0.1111111111111111,
             "#46039f"
            ],
            [
             0.2222222222222222,
             "#7201a8"
            ],
            [
             0.3333333333333333,
             "#9c179e"
            ],
            [
             0.4444444444444444,
             "#bd3786"
            ],
            [
             0.5555555555555556,
             "#d8576b"
            ],
            [
             0.6666666666666666,
             "#ed7953"
            ],
            [
             0.7777777777777778,
             "#fb9f3a"
            ],
            [
             0.8888888888888888,
             "#fdca26"
            ],
            [
             1,
             "#f0f921"
            ]
           ]
          },
          "colorway": [
           "#636efa",
           "#EF553B",
           "#00cc96",
           "#ab63fa",
           "#FFA15A",
           "#19d3f3",
           "#FF6692",
           "#B6E880",
           "#FF97FF",
           "#FECB52"
          ],
          "font": {
           "color": "#2a3f5f"
          },
          "geo": {
           "bgcolor": "white",
           "lakecolor": "white",
           "landcolor": "#E5ECF6",
           "showlakes": true,
           "showland": true,
           "subunitcolor": "white"
          },
          "hoverlabel": {
           "align": "left"
          },
          "hovermode": "closest",
          "mapbox": {
           "style": "light"
          },
          "paper_bgcolor": "white",
          "plot_bgcolor": "#E5ECF6",
          "polar": {
           "angularaxis": {
            "gridcolor": "white",
            "linecolor": "white",
            "ticks": ""
           },
           "bgcolor": "#E5ECF6",
           "radialaxis": {
            "gridcolor": "white",
            "linecolor": "white",
            "ticks": ""
           }
          },
          "scene": {
           "xaxis": {
            "backgroundcolor": "#E5ECF6",
            "gridcolor": "white",
            "gridwidth": 2,
            "linecolor": "white",
            "showbackground": true,
            "ticks": "",
            "zerolinecolor": "white"
           },
           "yaxis": {
            "backgroundcolor": "#E5ECF6",
            "gridcolor": "white",
            "gridwidth": 2,
            "linecolor": "white",
            "showbackground": true,
            "ticks": "",
            "zerolinecolor": "white"
           },
           "zaxis": {
            "backgroundcolor": "#E5ECF6",
            "gridcolor": "white",
            "gridwidth": 2,
            "linecolor": "white",
            "showbackground": true,
            "ticks": "",
            "zerolinecolor": "white"
           }
          },
          "shapedefaults": {
           "line": {
            "color": "#2a3f5f"
           }
          },
          "ternary": {
           "aaxis": {
            "gridcolor": "white",
            "linecolor": "white",
            "ticks": ""
           },
           "baxis": {
            "gridcolor": "white",
            "linecolor": "white",
            "ticks": ""
           },
           "bgcolor": "#E5ECF6",
           "caxis": {
            "gridcolor": "white",
            "linecolor": "white",
            "ticks": ""
           }
          },
          "title": {
           "x": 0.05
          },
          "xaxis": {
           "automargin": true,
           "gridcolor": "white",
           "linecolor": "white",
           "ticks": "",
           "title": {
            "standoff": 15
           },
           "zerolinecolor": "white",
           "zerolinewidth": 2
          },
          "yaxis": {
           "automargin": true,
           "gridcolor": "white",
           "linecolor": "white",
           "ticks": "",
           "title": {
            "standoff": 15
           },
           "zerolinecolor": "white",
           "zerolinewidth": 2
          }
         }
        },
        "title": {
         "text": "Cosine Similarity"
        },
        "xaxis": {
         "range": [
          -10,
          190
         ],
         "title": {
          "text": "Liebe"
         }
        },
        "yaxis": {
         "range": [
          -10,
          190
         ],
         "title": {
          "text": "gut"
         }
        }
       }
      }
     },
     "metadata": {},
     "output_type": "display_data"
    },
    {
     "data": {
      "image/png": "[encoded data removed]",
      "text/plain": [
       "<Figure size 1000x600 with 2 Axes>"
      ]
     },
     "metadata": {},
     "output_type": "display_data"
    }
   ],
   "source": [
    "import lib\n",
    "antonym_list = [\n",
    "(\"gut\", \"schlecht\"),\n",
    "]\n",
    "\n",
    "antonym_list_2 = [\n",
    "('Liebe', 'Hass')\n",
    "    # ... (Other antonym pairs)\n",
    "]\n",
    "word_list = ['Solidarität']\n",
    "cos_sim = lib.we_basics('./model/compass.model', antonym_list, word_list)\n",
    "lib.plot_cosine_similarity2(cos_sim, cos_sim, antonym_list=antonym_list, antonym_list2=antonym_list_2, word_list=word_list)"
   ]
  }
 ],
 "metadata": {
  "kernelspec": {
   "display_name": "twec_kernel",
   "language": "python",
   "name": "twec_kernel"
  },
  "language_info": {
   "codemirror_mode": {
    "name": "ipython",
    "version": 3
   },
   "file_extension": ".py",
   "mimetype": "text/x-python",
   "name": "python",
   "nbconvert_exporter": "python",
   "pygments_lexer": "ipython3",
   "version": "3.9.6"
  },
  "orig_nbformat": 4,
  "vscode": {
   "interpreter": {
    "hash": "8c181cd67bddd6f6971fd187b50a9faa0c657508828b23bbaab2a73d2f442461"
   }
  }
 },
 "nbformat": 4,
 "nbformat_minor": 2
}
